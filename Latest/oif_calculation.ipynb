{
 "cells": [
  {
   "cell_type": "code",
   "execution_count": 67,
   "metadata": {},
   "outputs": [],
   "source": [
    "from glob import glob\n",
    "import rasterio\n",
    "import numpy as np\n",
    "import itertools\n",
    "import math"
   ]
  },
  {
   "cell_type": "markdown",
   "metadata": {},
   "source": [
    "# Calculating Variance of each band"
   ]
  },
  {
   "cell_type": "code",
   "execution_count": 68,
   "metadata": {},
   "outputs": [],
   "source": [
    "def get_variance(bands):\n",
    "    variance_bands = []\n",
    "    for img in bands:\n",
    "        with rasterio.open(img, 'r') as f:\n",
    "            arr = np.array(f.read(1))\n",
    "            N = arr.shape[0] * arr.shape[1]\n",
    "            a = np.multiply(arr, arr)\n",
    "            a = np.sum(a)\n",
    "            a = a / N\n",
    "\n",
    "            b = np.sum(arr) * np.sum(arr)\n",
    "            b = b / (N * N)\n",
    "            variance_bands.append(a - b)\n",
    "    return variance_bands"
   ]
  },
  {
   "cell_type": "markdown",
   "metadata": {},
   "source": [
    "# Find all possible subsets of given size"
   ]
  },
  {
   "cell_type": "code",
   "execution_count": 69,
   "metadata": {},
   "outputs": [],
   "source": [
    "def findsubsets(s, n):\n",
    "    return list(itertools.combinations(s, n))"
   ]
  },
  {
   "cell_type": "markdown",
   "metadata": {},
   "source": [
    "# Calculate Covariance matrix"
   ]
  },
  {
   "cell_type": "code",
   "execution_count": 70,
   "metadata": {},
   "outputs": [],
   "source": [
    "def get_covariance_matrix(bands_combination):\n",
    "    covariance_bands = []\n",
    "    for b in bands_combination:\n",
    "        b1, b2 = None, None\n",
    "        with rasterio.open(bands[b[0]], 'r') as f:\n",
    "            b1 = np.array(f.read(1))\n",
    "        \n",
    "        with rasterio.open(bands[b[1]], 'r') as f:\n",
    "            b2 = np.array(f.read(1))\n",
    "        \n",
    "        N = b1.shape[0] * b1.shape[1]\n",
    "\n",
    "        a = np.multiply(b1, b2)\n",
    "        a = np.sum(a)\n",
    "        a = a / N\n",
    "\n",
    "        b = np.sum(b1) / N\n",
    "        c = np.sum(b2) / N\n",
    "\n",
    "        covariance_bands.append(a - (b * c))\n",
    "    return covariance_bands"
   ]
  },
  {
   "cell_type": "markdown",
   "metadata": {},
   "source": [
    "# Calculate Correlation Matrix"
   ]
  },
  {
   "cell_type": "code",
   "execution_count": 71,
   "metadata": {},
   "outputs": [],
   "source": [
    "def get_correlation_matrix(bands_combination, covariance_bands):\n",
    "    correlation_bands = np.zeros((len(bands_combi_2), len(bands_combi_2)))\n",
    "    i = 0\n",
    "    for b in bands_combi_2:\n",
    "        b1, b2 = b\n",
    "        correlation_bands[b1][b2] = covariance_bands[i] / math.sqrt(variance_bands[b1] * variance_bands[b2])\n",
    "        i = i + 1\n",
    "    return correlation_bands"
   ]
  },
  {
   "cell_type": "markdown",
   "metadata": {},
   "source": [
    "# Calculate Standard Deviation"
   ]
  },
  {
   "cell_type": "code",
   "execution_count": 72,
   "metadata": {},
   "outputs": [],
   "source": [
    "def get_std_bands(variance_bands):\n",
    "    return np.sqrt(variance_bands)"
   ]
  },
  {
   "cell_type": "code",
   "execution_count": 73,
   "metadata": {},
   "outputs": [],
   "source": [
    "# def calculate_oif(combs_3, correlation_bands, std_bands, band_names):\n",
    "#     oif_history = []\n",
    "#     for b in combs_3:\n",
    "#         b1, b2, b3 = b\n",
    "#         x, y, z = correlation_bands[b1][b2], correlation_bands[b1][b3], correlation_bands[b2][b3], \n",
    "#         oif = (std_bands[b1] + std_bands[b2] + std_bands[b3]) / (np.abs(x) + np.abs(y) + np.abs(z))\n",
    "#         oif_history.append(f'OIF [Band Models = ({band_names[b1]}, {band_names[b2]}, {band_names[b3]})] = {oif}')\n",
    "#         #print(f'OIF [Band Models = ({band_names[b1]}, {band_names[b2]}, {band_names[b3]})] = {oif}')\n",
    "#     return oif_history"
   ]
  },
  {
   "cell_type": "code",
   "execution_count": 85,
   "metadata": {},
   "outputs": [],
   "source": [
    "def calculate_oif(combs, correlation_bands, std_bands, band_names):\n",
    "    oif_history = []\n",
    "    for b in combs:\n",
    "        N = len(b)\n",
    "\n",
    "        std_sum = 0\n",
    "        for i in range(N):\n",
    "            std_sum += std_bands[b[i]]\n",
    "        corre = 0\n",
    "        for i in range(N - 1):\n",
    "            for j in range(i + 1, N):\n",
    "                corre += np.abs(correlation_bands[b[i]][b[j]])\n",
    "        \n",
    "        oif = std_sum / corre\n",
    "        band_str = ''\n",
    "\n",
    "        for i in range(N - 1):\n",
    "            band_str += band_names[b[i]]\n",
    "            band_str += ', '\n",
    "        band_str += band_names[b[N - 1]]\n",
    "\n",
    "        oif_history.append(f'[Band Models = {band_str}], OIF = {oif}')\n",
    "    return oif_history"
   ]
  },
  {
   "cell_type": "markdown",
   "metadata": {},
   "source": [
    "# Selecting bands and Getting Data"
   ]
  },
  {
   "cell_type": "code",
   "execution_count": 86,
   "metadata": {},
   "outputs": [],
   "source": [
    "area = 'Area_one/Tiles/'\n",
    "tile_number = 'T1/'\n",
    "meters = ['D10m', 'D20m']"
   ]
  },
  {
   "cell_type": "code",
   "execution_count": 87,
   "metadata": {},
   "outputs": [],
   "source": [
    "def build_dependencies(area, tile_number, meters):\n",
    "    # Getting Bands\n",
    "    bands = []\n",
    "    for m in meters:\n",
    "        imagePath = area + tile_number + m + '/'\n",
    "        bs = glob(imagePath + '*B*.tif')\n",
    "        bands += bs\n",
    "    bands.sort()\n",
    "\n",
    "    # Setting band names and indices\n",
    "    band_names = [b[-11:-5] for b in bands]\n",
    "    band_numbers = [i for i in range(len(band_names))]\n",
    "\n",
    "    # Calculate Variance\n",
    "    variance_bands = get_variance(bands)\n",
    "\n",
    "    # Bands Combination (Size = 2)\n",
    "    combs_2 = findsubsets(band_numbers, 2)\n",
    "\n",
    "    # Calculate covariance of combinations\n",
    "    covariance_bands = get_covariance_matrix(combs_2)\n",
    "\n",
    "    # Build Correlation Matrix\n",
    "    correlation_bands = get_correlation_matrix(combs_2, covariance_bands)\n",
    "\n",
    "    # Calculate Standard Deviation\n",
    "    std_bands = get_std_bands(variance_bands)\n",
    "\n",
    "    return correlation_bands, std_bands, band_names, band_numbers"
   ]
  },
  {
   "cell_type": "code",
   "execution_count": 88,
   "metadata": {},
   "outputs": [
    {
     "name": "stderr",
     "output_type": "stream",
     "text": [
      "/home/shrayank_mistry/Modules/virtualenv/lib/python3.6/site-packages/ipykernel_launcher.py:11: RuntimeWarning: overflow encountered in ulong_scalars\n",
      "  # This is added back by InteractiveShellApp.init_path()\n"
     ]
    }
   ],
   "source": [
    "correlation_bands, std_bands, band_names, band_numbers = build_dependencies(area, tile_number, meters)"
   ]
  },
  {
   "cell_type": "markdown",
   "metadata": {},
   "source": [
    "# 3 bands OIF Calculation"
   ]
  },
  {
   "cell_type": "code",
   "execution_count": 94,
   "metadata": {},
   "outputs": [],
   "source": [
    "combs_3 = findsubsets(band_numbers, 3)\n",
    "oif_combs_3 = calculate_oif(combs_3, correlation_bands, std_bands, band_names)"
   ]
  },
  {
   "cell_type": "code",
   "execution_count": 103,
   "metadata": {},
   "outputs": [
    {
     "name": "stdout",
     "output_type": "stream",
     "text": [
      "[Band Models = B02_10, B02_20, B03_20], OIF = 7.596282858914765\n",
      "[Band Models = B02_10, B02_20, B04_20], OIF = 6.2176628746885205\n"
     ]
    }
   ],
   "source": [
    "oif_combs_3.sort()\n",
    "print(oif_combs_3[0])\n",
    "print(oif_combs_3[1])"
   ]
  },
  {
   "cell_type": "markdown",
   "metadata": {},
   "source": [
    "# 4 bands OIF Calculation"
   ]
  },
  {
   "cell_type": "code",
   "execution_count": 95,
   "metadata": {},
   "outputs": [],
   "source": [
    "combs_4 = findsubsets(band_numbers, 4)\n",
    "oif_combs_4 = calculate_oif(combs_4, correlation_bands, std_bands, band_names)"
   ]
  },
  {
   "cell_type": "code",
   "execution_count": 104,
   "metadata": {},
   "outputs": [
    {
     "name": "stdout",
     "output_type": "stream",
     "text": [
      "[Band Models = B02_10, B02_20, B03_20, B04_20], OIF = 3.7310502542557495\n",
      "[Band Models = B02_10, B02_20, B03_20, B05_20], OIF = 3.3156948620396354\n"
     ]
    }
   ],
   "source": [
    "oif_combs_4.sort()\n",
    "print(oif_combs_4[0])\n",
    "print(oif_combs_4[1])"
   ]
  },
  {
   "cell_type": "markdown",
   "metadata": {},
   "source": [
    "# 6 bands OIF Calculation"
   ]
  },
  {
   "cell_type": "code",
   "execution_count": 96,
   "metadata": {},
   "outputs": [],
   "source": [
    "combs_6 = findsubsets(band_numbers, 6)\n",
    "oif_combs_6 = calculate_oif(combs_6, correlation_bands, std_bands, band_names)"
   ]
  },
  {
   "cell_type": "code",
   "execution_count": 105,
   "metadata": {},
   "outputs": [
    {
     "name": "stdout",
     "output_type": "stream",
     "text": [
      "[Band Models = B02_10, B02_20, B03_20, B04_20, B05_20, B06_20], OIF = 1.3592935947212559\n",
      "[Band Models = B02_10, B02_20, B03_20, B04_20, B05_20, B07_20], OIF = 1.3143392960534808\n"
     ]
    }
   ],
   "source": [
    "oif_combs_6.sort()\n",
    "print(oif_combs_6[0])\n",
    "print(oif_combs_6[1])"
   ]
  },
  {
   "cell_type": "markdown",
   "metadata": {},
   "source": [
    "# 9 bands OIF Calculation"
   ]
  },
  {
   "cell_type": "code",
   "execution_count": 98,
   "metadata": {},
   "outputs": [],
   "source": [
    "combs_9 = findsubsets(band_numbers, 9)\n",
    "oif_combs_9 = calculate_oif(combs_9, correlation_bands, std_bands, band_names)"
   ]
  },
  {
   "cell_type": "code",
   "execution_count": 106,
   "metadata": {},
   "outputs": [
    {
     "name": "stdout",
     "output_type": "stream",
     "text": [
      "[Band Models = B02_10, B02_20, B03_20, B04_20, B05_20, B06_20, B07_20, B11_20, B12_20], OIF = 0.5559136088191604\n",
      "[Band Models = B02_10, B02_20, B03_20, B04_20, B05_20, B06_20, B07_20, B11_20, B8A_20], OIF = 0.5274140923030315\n"
     ]
    }
   ],
   "source": [
    "oif_combs_9.sort()\n",
    "print(oif_combs_9[0])\n",
    "print(oif_combs_9[1])"
   ]
  },
  {
   "cell_type": "code",
   "execution_count": null,
   "metadata": {},
   "outputs": [],
   "source": []
  }
 ],
 "metadata": {
  "interpreter": {
   "hash": "31f2aee4e71d21fbe5cf8b01ff0e069b9275f58929596ceb00d14d90e3e16cd6"
  },
  "kernelspec": {
   "display_name": "Python 3.6.9 64-bit",
   "language": "python",
   "name": "python3"
  },
  "language_info": {
   "codemirror_mode": {
    "name": "ipython",
    "version": 3
   },
   "file_extension": ".py",
   "mimetype": "text/x-python",
   "name": "python",
   "nbconvert_exporter": "python",
   "pygments_lexer": "ipython3",
   "version": "3.6.9"
  },
  "orig_nbformat": 4
 },
 "nbformat": 4,
 "nbformat_minor": 2
}
