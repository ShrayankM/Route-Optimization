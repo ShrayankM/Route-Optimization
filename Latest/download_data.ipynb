{
 "cells": [
  {
   "cell_type": "code",
   "execution_count": 27,
   "metadata": {},
   "outputs": [],
   "source": [
    "from sentinelsat import SentinelAPI, read_geojson, geojson_to_wkt\n",
    "from datetime import date\n",
    "import json"
   ]
  },
  {
   "cell_type": "code",
   "execution_count": 28,
   "metadata": {},
   "outputs": [],
   "source": [
    "user = 'shrayank_mistry'\n",
    "password = 'Ananya_ak47onetaps'\n",
    "api = SentinelAPI(user, password, 'https://apihub.copernicus.eu/apihub')"
   ]
  },
  {
   "cell_type": "markdown",
   "metadata": {},
   "source": [
    "# Downloading Products using pre-defined tile Ids"
   ]
  },
  {
   "cell_type": "code",
   "execution_count": 29,
   "metadata": {},
   "outputs": [],
   "source": [
    "area = 'Area_one'\n",
    "ids = ['0067bef0-add3-470d-afee-1708ac93a0ae', 'ecc695e6-7639-479e-93c9-6e9bec6a7edf', \n",
    "       '3d754072-9df2-4c2d-a41b-b95b862826db', '2d311782-9188-4c40-ade5-75699323da1c']"
   ]
  },
  {
   "cell_type": "code",
   "execution_count": 30,
   "metadata": {},
   "outputs": [],
   "source": [
    "p_info = api.get_product_odata(ids[0], full = True)"
   ]
  },
  {
   "cell_type": "code",
   "execution_count": 31,
   "metadata": {},
   "outputs": [],
   "source": [
    "keys = [\n",
    "    'title', 'Cloud cover percentage', 'Processing level'\n",
    "]"
   ]
  },
  {
   "cell_type": "code",
   "execution_count": 32,
   "metadata": {},
   "outputs": [
    {
     "name": "stdout",
     "output_type": "stream",
     "text": [
      "Tile 1 informaton\n",
      "title = S2A_MSIL2A_20210409T052641_N0300_R105_T43RFN_20210409T074414\n",
      "Cloud cover percentage = 0.085504\n",
      "Processing level = Level-2A\n",
      "\n",
      "Tile 2 informaton\n",
      "title = S2A_MSIL2A_20210409T052641_N0300_R105_T43REN_20210409T074414\n",
      "Cloud cover percentage = 0.040909\n",
      "Processing level = Level-2A\n",
      "\n",
      "Tile 3 informaton\n",
      "title = S2A_MSIL2A_20210419T052641_N0300_R105_T43REM_20210422T110554\n",
      "Cloud cover percentage = 0.015965\n",
      "Processing level = Level-2A\n",
      "\n",
      "Tile 4 informaton\n",
      "title = S2A_MSIL2A_20210419T052641_N0300_R105_T43RFM_20210422T110554\n",
      "Cloud cover percentage = 0.025458\n",
      "Processing level = Level-2A\n",
      "\n"
     ]
    }
   ],
   "source": [
    "tile_number = 1\n",
    "for i in ids:\n",
    "    product_info = api.get_product_odata(i, full = True)\n",
    "    print(f'Tile {tile_number} informaton')\n",
    "    for k in keys:\n",
    "        print(f'{k} = {product_info[k]}')\n",
    "    tile_number += 1\n",
    "    print()"
   ]
  },
  {
   "cell_type": "code",
   "execution_count": 33,
   "metadata": {},
   "outputs": [],
   "source": [
    "# for i in ids:\n",
    "#     api.download(i)"
   ]
  },
  {
   "cell_type": "markdown",
   "metadata": {},
   "source": [
    "# Downloading Products using Geojson co-ordinates"
   ]
  },
  {
   "cell_type": "code",
   "execution_count": 34,
   "metadata": {},
   "outputs": [],
   "source": [
    "footprint = geojson_to_wkt(read_geojson(area+'/map_square.geojson'))"
   ]
  },
  {
   "cell_type": "markdown",
   "metadata": {},
   "source": [
    "<h2> Data acquisition timeline </h2>\n",
    "<p><i>Start date = 01 February 2021</i></p>\n",
    "<p><i>End date   = 31 May 2021</i></p>"
   ]
  },
  {
   "cell_type": "code",
   "execution_count": 35,
   "metadata": {},
   "outputs": [
    {
     "name": "stderr",
     "output_type": "stream",
     "text": [
      "Querying products: 100%|██████████| 108/108 [00:00<00:00, 11.86product/s]\n"
     ]
    }
   ],
   "source": [
    "\n",
    "start_date = '20210201'\n",
    "end_date = '20210531'\n",
    "products = api.query(footprint,\n",
    "                     date = (start_date, end_date),\n",
    "                     platformname = 'Sentinel-2',\n",
    "                     processinglevel = 'Level-2A',\n",
    "                     cloudcoverpercentage = (0, 1))\n",
    "\n",
    "# products - contains actual products info"
   ]
  },
  {
   "cell_type": "code",
   "execution_count": 36,
   "metadata": {},
   "outputs": [
    {
     "name": "stdout",
     "output_type": "stream",
     "text": [
      "Total Products = 108\n"
     ]
    }
   ],
   "source": [
    "print(f'Total Products = {len(products)}')"
   ]
  },
  {
   "cell_type": "code",
   "execution_count": 37,
   "metadata": {},
   "outputs": [
    {
     "name": "stdout",
     "output_type": "stream",
     "text": [
      "3d754072-9df2-4c2d-a41b-b95b862826db\n",
      "2d311782-9188-4c40-ade5-75699323da1c\n",
      "0067bef0-add3-470d-afee-1708ac93a0ae\n",
      "ecc695e6-7639-479e-93c9-6e9bec6a7edf\n",
      "eadd9a0d-e83c-4999-8569-4b29b789ce93\n",
      "92adecac-2136-45b0-b39e-a70b2832b222\n",
      "be8e5ace-fbf7-448a-9d3f-5bab982f1f28\n"
     ]
    }
   ],
   "source": [
    "online_products = []\n",
    "for id, info in products.items():\n",
    "    if (api.is_online(id)):\n",
    "        print(id)\n",
    "        online_products.append(id)\n",
    "\n",
    "# online_products - contains only ids on online products"
   ]
  },
  {
   "cell_type": "code",
   "execution_count": 38,
   "metadata": {},
   "outputs": [],
   "source": [
    "# for id in online_products:\n",
    "#     api.download(id)"
   ]
  }
 ],
 "metadata": {
  "interpreter": {
   "hash": "72116f4556a314d3963dd18b1856661810f11245b96e3a7075f7a5fca07ef2b1"
  },
  "kernelspec": {
   "display_name": "Python 3.6.9 64-bit ('virtualenv': venv)",
   "language": "python",
   "name": "python3"
  },
  "language_info": {
   "codemirror_mode": {
    "name": "ipython",
    "version": 3
   },
   "file_extension": ".py",
   "mimetype": "text/x-python",
   "name": "python",
   "nbconvert_exporter": "python",
   "pygments_lexer": "ipython3",
   "version": "3.6.9"
  },
  "orig_nbformat": 4
 },
 "nbformat": 4,
 "nbformat_minor": 2
}
