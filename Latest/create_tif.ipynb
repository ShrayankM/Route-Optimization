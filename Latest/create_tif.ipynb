{
 "cells": [
  {
   "cell_type": "code",
   "execution_count": 9,
   "metadata": {},
   "outputs": [],
   "source": [
    "import glob\n",
    "import gdal\n",
    "from scipy.ndimage import zoom"
   ]
  },
  {
   "cell_type": "markdown",
   "metadata": {},
   "source": [
    "# Converting from jp2 to tif format"
   ]
  },
  {
   "cell_type": "code",
   "execution_count": 10,
   "metadata": {},
   "outputs": [],
   "source": [
    "def convert(in_dir, out_dir):\n",
    "    files = glob.glob(in_dir + '*')\n",
    "    files.sort()\n",
    "\n",
    "    for file in files:\n",
    "        f = gdal.Open(file, gdal.GA_ReadOnly)\n",
    "        projection = f.GetProjection()\n",
    "        geotransform = f.GetGeoTransform()\n",
    "\n",
    "        f = f.ReadAsArray()\n",
    "        fx, fy = f.shape\n",
    "\n",
    "        file_name = file[-11:-4]\n",
    "        file_dir = out_dir + file_name\n",
    "        outdata = gdal.GetDriverByName('GTiff').Create(file_dir +'.tif', fy, fx, 1, gdal.GDT_UInt16)\n",
    "        outdata.SetGeoTransform(geotransform)\n",
    "        outdata.SetProjection(projection)\n",
    "        outdata.GetRasterBand(1).WriteArray(f)\n",
    "        outdata.FlushCache()\n",
    "        outdata = None"
   ]
  },
  {
   "cell_type": "code",
   "execution_count": 11,
   "metadata": {},
   "outputs": [],
   "source": [
    "area = 'A6/'\n",
    "tiles = ['T1', 'T2', 'T3', 'T4', 'T5', 'T6']"
   ]
  },
  {
   "cell_type": "code",
   "execution_count": 12,
   "metadata": {},
   "outputs": [],
   "source": [
    "for tile_number in tiles:\n",
    "    input_dir = area + tile_number + '/' + 'R20m/'\n",
    "    output_dir = area + tile_number + '/' + 'D20m/'\n",
    "    convert(input_dir, output_dir)"
   ]
  },
  {
   "cell_type": "code",
   "execution_count": 13,
   "metadata": {},
   "outputs": [],
   "source": [
    "# input_dir = area + tile_number + 'R10m/'\n",
    "# output_dir = area + tile_number + 'D10m/'\n",
    "# convert(input_dir, output_dir)"
   ]
  },
  {
   "cell_type": "code",
   "execution_count": null,
   "metadata": {},
   "outputs": [],
   "source": []
  }
 ],
 "metadata": {
  "interpreter": {
   "hash": "72116f4556a314d3963dd18b1856661810f11245b96e3a7075f7a5fca07ef2b1"
  },
  "kernelspec": {
   "display_name": "Python 3.6.9 64-bit ('virtualenv': venv)",
   "language": "python",
   "name": "python3"
  },
  "language_info": {
   "codemirror_mode": {
    "name": "ipython",
    "version": 3
   },
   "file_extension": ".py",
   "mimetype": "text/x-python",
   "name": "python",
   "nbconvert_exporter": "python",
   "pygments_lexer": "ipython3",
   "version": "3.6.9"
  },
  "orig_nbformat": 4
 },
 "nbformat": 4,
 "nbformat_minor": 2
}
