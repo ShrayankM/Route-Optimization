{
 "cells": [
  {
   "cell_type": "code",
   "execution_count": 16,
   "metadata": {},
   "outputs": [],
   "source": [
    "from osgeo import ogr, gdal\n",
    "import os\n",
    "import subprocess\n",
    "import rasterio"
   ]
  },
  {
   "cell_type": "code",
   "execution_count": 17,
   "metadata": {},
   "outputs": [],
   "source": [
    "image_path = '/home/shrayank_mistry/Modules/data/raster.tif' \n",
    "mask_path  = '/home/shrayank_mistry/Modules/data/mask.tif'"
   ]
  },
  {
   "cell_type": "code",
   "execution_count": 18,
   "metadata": {},
   "outputs": [
    {
     "name": "stdout",
     "output_type": "stream",
     "text": [
      "BoundingBox(left=300000.0, bottom=1890240.0, right=409800.0, top=2100000.0)\n",
      "300000.0 2100000.0 300000.0 2100000.0\n"
     ]
    }
   ],
   "source": [
    "data = rasterio.open(image_path)\n",
    "print(data.bounds)\n",
    "\n",
    "extent = data.bounds\n",
    "\n",
    "# For 256 * 256 patch size\n",
    "# col_add, row_add = 2560, 2560\n",
    "# col_sub, row_sub = 2000, 2000\n",
    "\n",
    "# For 64 * 64 patch size\n",
    "col_add, row_add = 640, 640\n",
    "col_sub, row_sub = 320, 320\n",
    "col_sub, row_sub = 0, 0\n",
    "\n",
    "left, bottom, right, top = extent[0], extent[3], extent[0], extent[3]\n",
    "print(left, bottom, right, top)"
   ]
  },
  {
   "cell_type": "code",
   "execution_count": 19,
   "metadata": {},
   "outputs": [],
   "source": [
    "right_limit = right\n",
    "bottom_limit = bottom"
   ]
  },
  {
   "cell_type": "code",
   "execution_count": 20,
   "metadata": {},
   "outputs": [],
   "source": [
    "raster_patches = '/home/shrayank_mistry/Modules/data/raster_patches/'\n",
    "mask_patches = '/home/shrayank_mistry/Modules/data/mask_patches/' "
   ]
  },
  {
   "cell_type": "markdown",
   "metadata": {},
   "source": [
    "### Creating Raster Patches"
   ]
  },
  {
   "cell_type": "code",
   "execution_count": 21,
   "metadata": {},
   "outputs": [],
   "source": [
    "p = 1\n",
    "\n",
    "# For 256 * 256 patch size with overlapping\n",
    "# i = 81, j = 185\n",
    "\n",
    "# For 64 * 64 patch size with overlapping\n",
    "# i = 327 , j = 340\n",
    "# total patches = 111,180\n",
    "\n",
    "# For 64 * 64 patch size without overlapping\n",
    "# i = 327, j = 171\n",
    "# total patches = 55,971\n",
    "for i in range(327):\n",
    "    for j in range(171):\n",
    "\n",
    "        if j == 0:\n",
    "            l, r = left + (col_add * j), right + (col_add * (j + 1))\n",
    "        \n",
    "        if j > 0:\n",
    "            # l, r = left + (col_add * j) - (col_sub * j), right + (col_add * (j + 1)) - (col_sub * (j + 1))\n",
    "            # l, r = l + (col_add * j) - col_sub, r + (col_add * (j + 1)) - col_sub\n",
    "            l, r = l + col_add - col_sub, r + col_add - col_sub\n",
    "        \n",
    "        # l, r = left + (col_add * j), right + (col_add * (j + 1))\n",
    "        b, t = bottom - (row_add * i), top - (row_add * (i + 1))\n",
    "    \n",
    "        \n",
    "        cmd = f'gdal_translate -projwin {l} {b} {r} {t} -of GTiff {image_path} {raster_patches}{p}.tif'\n",
    "        subprocess.call(cmd.split())\n",
    "        p = p + 1"
   ]
  },
  {
   "cell_type": "code",
   "execution_count": 22,
   "metadata": {},
   "outputs": [],
   "source": [
    "# p = 1\n",
    "# for i in range(80):\n",
    "#     for j in range(40):\n",
    "#         l, b, r, t = left + (col_add * j), bottom - (row_add * i), right + (col_add * (j + 1)), top - (row_add * (i + 1))\n",
    "\n",
    "#         # if j == 0:\n",
    "#         #     l, b, r, t = left + (col_add * j), bottom - (row_add * i), right + (col_add * (j + 1)), top - (row_add * (i + 1))\n",
    "#         # else:\n",
    "#         #     l, b, r, t = left + (col_add * j), bottom - (row_add * i), right + (col_add * (j + 1)), top - (row_add * (i + 1))\n",
    "\n",
    "#         # if r >= right_limit:\n",
    "#         #     continue\n",
    "\n",
    "#         # cmd = f'gdal_translate -projwin {l} {b} {r} {t} -of GTiff {image_path} {raster_patches}C_{p}.tif'\n",
    "#         cmd = f'gdal_translate -projwin {l} {b} {r} {t} -of GTiff {image_path} {raster_patches}{p}.tif'\n",
    "\n",
    "#         subprocess.call(cmd.split())\n",
    "#         p = p + 1\n",
    "\n",
    "# for itr in range(10):\n",
    "#     for i in range(10):\n",
    "#         for j in range(1):\n",
    "#             l, b, r, t = left + (col_add * j), bottom - (row_add * i), right + (col_add * (j + 1)), top - (row_add * (i + 1))\n",
    "\n",
    "#             # if j == 0:\n",
    "#             #     l, b, r, t = left + (col_add * j), bottom - (row_add * i), right + (col_add * (j + 1)), top - (row_add * (i + 1))\n",
    "#             # else:\n",
    "#             #     l, b, r, t = left + (col_add * j), bottom - (row_add * i), right + (col_add * (j + 1)), top - (row_add * (i + 1))\n",
    "\n",
    "#             # if r >= right_limit:\n",
    "#             #     continue\n",
    "\n",
    "#             cmd = f'gdal_translate -projwin {l} {b} {r} {t} -of GTiff {image_path} {raster_patches}C_{itr + 1}.tif'\n",
    "\n",
    "#             subprocess.call(cmd.split())\n"
   ]
  },
  {
   "cell_type": "markdown",
   "metadata": {},
   "source": [
    "### Creating Mask Patches"
   ]
  },
  {
   "cell_type": "code",
   "execution_count": 23,
   "metadata": {},
   "outputs": [],
   "source": [
    "# For 64 * 64 patch size with overlapping\n",
    "# i = 327 , j = 340\n",
    "# total patches = 111,180\n",
    "\n",
    "# For 64 * 64 patch size without overlapping\n",
    "# i = 327, j = 171\n",
    "# total patches = 55,971\n",
    "p = 1\n",
    "for i in range(327):\n",
    "    for j in range(171):\n",
    "\n",
    "        if j == 0:\n",
    "            l, r = left + (col_add * j), right + (col_add * (j + 1))\n",
    "        \n",
    "        if j > 0:\n",
    "            # l, r = left + (col_add * j) - (col_sub * j), right + (col_add * (j + 1)) - (col_sub * (j + 1))\n",
    "            # l, r = l + (col_add * j) - col_sub, r + (col_add * (j + 1)) - col_sub\n",
    "            l, r = l + col_add - col_sub, r + col_add - col_sub\n",
    "        \n",
    "        b, t = bottom - (row_add * i), top - (row_add * (i + 1))\n",
    "    \n",
    "        \n",
    "        cmd = f'gdal_translate -projwin {l} {b} {r} {t} -ot Byte -of GTiff {mask_path} {mask_patches}{p}.tif'\n",
    "        subprocess.call(cmd.split())\n",
    "        p = p + 1"
   ]
  },
  {
   "cell_type": "code",
   "execution_count": 24,
   "metadata": {},
   "outputs": [],
   "source": [
    "# p = 1\n",
    "# for i in range(80):\n",
    "#     for j in range(40):\n",
    "#         l, b, r, t = left + (col_add * j), bottom - (row_add * i), right + (col_add * (j + 1)), top - (row_add * (i + 1))\n",
    "\n",
    "#         # if j == 0:\n",
    "#         #     l, b, r, t = left + (col_add * j), bottom - (row_add * i), right + (col_add * (j + 1)), top - (row_add * (i + 1))\n",
    "#         # else:\n",
    "#         #     l, b, r, t = left + (col_add * j) - col_over, bottom - (row_add * i), right + (col_add * (j + 1)) - col_over, top - (row_add * (i + 1))\n",
    "        \n",
    "#         # c_path = f'/home/shrayank_mistry/Modules/qgis_train/Clipped/M_{p}.tif'\n",
    "\n",
    "#         # cmd = f'gdal_translate -projwin {l} {b} {r} {t} -ot Byte -of GTiff {mask_path} {mask_patches}C_{p}.tif'\n",
    "#         cmd = f'gdal_translate -projwin {l} {b} {r} {t} -ot Byte -of GTiff {mask_path} {mask_patches}{p}.tif'\n",
    "\n",
    "#         subprocess.call(cmd.split())\n",
    "#         p = p + 1\n",
    "\n",
    "# for itr in range(1):\n",
    "#     for i in range(1):\n",
    "#         for j in range(1):\n",
    "#             l, b, r, t = left + (col_add * j), bottom - (row_add * i), right + (col_add * (j + 1)), top - (row_add * (i + 1))\n",
    "\n",
    "#             # if j == 0:\n",
    "#             #     l, b, r, t = left + (col_add * j), bottom - (row_add * i), right + (col_add * (j + 1)), top - (row_add * (i + 1))\n",
    "#             # else:\n",
    "#             #     l, b, r, t = left + (col_add * j) - col_over, bottom - (row_add * i), right + (col_add * (j + 1)) - col_over, top - (row_add * (i + 1))\n",
    "            \n",
    "#             # c_path = f'/home/shrayank_mistry/Modules/qgis_train/Clipped/M_{p}.tif'\n",
    "\n",
    "#             cmd = f'gdal_translate -projwin {l} {b} {r} {t} -ot Byte -of GTiff {mask_path} {mask_patches}C_{itr + 1}.tif'\n",
    "\n",
    "#             subprocess.call(cmd.split())\n",
    "#             p = p + 1\n"
   ]
  },
  {
   "cell_type": "code",
   "execution_count": null,
   "metadata": {},
   "outputs": [],
   "source": []
  }
 ],
 "metadata": {
  "interpreter": {
   "hash": "41753c86ab29c83d5a6940432db1264110c228305d3d5eb7da716c156c110c5d"
  },
  "kernelspec": {
   "display_name": "Python 3.6.9 64-bit ('virtualenv': venv)",
   "language": "python",
   "name": "python3"
  },
  "language_info": {
   "codemirror_mode": {
    "name": "ipython",
    "version": 3
   },
   "file_extension": ".py",
   "mimetype": "text/x-python",
   "name": "python",
   "nbconvert_exporter": "python",
   "pygments_lexer": "ipython3",
   "version": "3.6.9"
  },
  "orig_nbformat": 4
 },
 "nbformat": 4,
 "nbformat_minor": 2
}
