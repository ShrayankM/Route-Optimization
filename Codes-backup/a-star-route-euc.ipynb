{
 "cells": [
  {
   "cell_type": "code",
   "execution_count": 1,
   "metadata": {},
   "outputs": [],
   "source": [
    "import numpy as np\n",
    "from osgeo import ogr, gdal, osr\n",
    "import rasterio\n",
    "import json\n",
    "\n",
    "\n",
    "import matplotlib.pyplot as plt\n",
    "import pandas as pd\n",
    "import os.path\n",
    "import re"
   ]
  },
  {
   "cell_type": "markdown",
   "metadata": {},
   "source": [
    "#### Resize DEM from 30 to 10m"
   ]
  },
  {
   "cell_type": "code",
   "execution_count": 2,
   "metadata": {},
   "outputs": [
    {
     "name": "stdout",
     "output_type": "stream",
     "text": [
      "(2721, 3610)\n"
     ]
    }
   ],
   "source": [
    "# Reading Normal DEM data\n",
    "area_dem = '/home/shrayank_mistry/Modules/project-mum-pune/dem_clipped.tif'\n",
    "dem = rasterio.open(area_dem, count = 1)\n",
    "\n",
    "dem = np.array(dem.read(1))\n",
    "print(dem.shape)"
   ]
  },
  {
   "cell_type": "code",
   "execution_count": 3,
   "metadata": {},
   "outputs": [],
   "source": [
    "# Up-sampling DEM to 10m resolution\n",
    "import rasterio\n",
    "from rasterio.enums import Resampling\n",
    "\n",
    "# whole-numbers indicate upscaling, fractions indicate downscaling\n",
    "upscale_factor = 3\n",
    "\n",
    "\n",
    "with rasterio.open('/home/shrayank_mistry/Modules/project-mum-pune/dem_clipped.tif') as dataset:\n",
    "\n",
    "    # resample data to target shape\n",
    "    data = dataset.read(\n",
    "        out_shape=(\n",
    "            dataset.count,\n",
    "            int(dataset.height * upscale_factor),\n",
    "            int(dataset.width * upscale_factor)\n",
    "        ),\n",
    "        resampling=Resampling.bilinear\n",
    "    )\n",
    "\n",
    "    # scale image transform\n",
    "    transform = dataset.transform * dataset.transform.scale(\n",
    "        (dataset.width / data.shape[-1]),\n",
    "        (dataset.height / data.shape[-2])\n",
    "    )"
   ]
  },
  {
   "cell_type": "code",
   "execution_count": 4,
   "metadata": {},
   "outputs": [
    {
     "name": "stdout",
     "output_type": "stream",
     "text": [
      "(8163, 10830)\n"
     ]
    }
   ],
   "source": [
    "dem = data[0]\n",
    "print(dem.shape)"
   ]
  },
  {
   "cell_type": "code",
   "execution_count": 5,
   "metadata": {},
   "outputs": [],
   "source": [
    "# reading LULC data\n",
    "area_cover = '/home/shrayank_mistry/Modules/project-mum-pune/mask.tif'\n",
    "area = rasterio.open(area_cover, count = 1)\n",
    "\n",
    "area = np.array(area.read(1))"
   ]
  },
  {
   "cell_type": "code",
   "execution_count": 6,
   "metadata": {},
   "outputs": [
    {
     "name": "stdout",
     "output_type": "stream",
     "text": [
      "(8163, 10830) (8273, 10500)\n",
      "(8163, 10500) (8163, 10500)\n",
      "(10500, 8163) (10500, 8163)\n"
     ]
    }
   ],
   "source": [
    "dem_data, mask_data = dem, area\n",
    "\n",
    "print(dem_data.shape, mask_data.shape)\n",
    "width, height = 10500, 8163\n",
    "\n",
    "dem_data, mask_data = dem_data[:height,:width], mask_data[:height, :width]\n",
    "print(dem_data.shape, mask_data.shape)\n",
    "\n",
    "dem_data, mask_data = dem_data.T, mask_data.T\n",
    "print(dem_data.shape, mask_data.shape)"
   ]
  },
  {
   "cell_type": "markdown",
   "metadata": {},
   "source": [
    "#### AHP Mapping"
   ]
  },
  {
   "cell_type": "code",
   "execution_count": 7,
   "metadata": {},
   "outputs": [],
   "source": [
    "ahp_map = {\n",
    "\n",
    "'urban': 0.29,\n",
    "'farms': 0.239,\n",
    "'dense-forest': 0.207,\n",
    "'water': 0.13,\n",
    "'fallow': 0.067,\n",
    "'sparse-forest': 0.049,\n",
    "'barren-land': 0.019,\n",
    "'unclassified':7,\n",
    "\n",
    "}\n",
    "\n",
    "class_map = {\n",
    "\n",
    "    0: 'unclassified',\n",
    "    1: 'water',\n",
    "    2: 'dense-forest',\n",
    "    3: 'sparse-forest',\n",
    "    4: 'barren-land',\n",
    "    5: 'urban',\n",
    "    6: 'farms',\n",
    "    7: 'fallow',\n",
    "\n",
    "}"
   ]
  },
  {
   "cell_type": "code",
   "execution_count": 8,
   "metadata": {},
   "outputs": [],
   "source": [
    "# Helper function to map from LULC to class-map to ahp values\n",
    "def set_weights(c):\n",
    "    c_str = class_map.get(c)\n",
    "    return ahp_map[c_str]"
   ]
  },
  {
   "cell_type": "code",
   "execution_count": 9,
   "metadata": {},
   "outputs": [],
   "source": [
    "set_weights_vtr = np.vectorize(set_weights)\n",
    "mask_data = set_weights_vtr(mask_data)"
   ]
  },
  {
   "cell_type": "code",
   "execution_count": 10,
   "metadata": {},
   "outputs": [
    {
     "data": {
      "text/plain": [
       "(array([0.019, 0.049, 0.067, 0.13 , 0.207, 0.239, 0.29 , 7.   ]),\n",
       " array([19822048, 17097029, 28893954,  7807154,  3858436,  5940554,\n",
       "         2291737,      588]))"
      ]
     },
     "execution_count": 10,
     "metadata": {},
     "output_type": "execute_result"
    }
   ],
   "source": [
    "np.unique(mask_data, return_counts = True)"
   ]
  },
  {
   "cell_type": "markdown",
   "metadata": {},
   "source": [
    "#### Start-End Co-ordinates"
   ]
  },
  {
   "cell_type": "code",
   "execution_count": 11,
   "metadata": {},
   "outputs": [],
   "source": [
    "# ----------------------------- source_shp -------------------------------- #\n",
    "\n",
    "file = ogr.Open(\"/home/shrayank_mistry/Modules/project-mum-pune/route-files/source-point.shp\")\n",
    "source_shp = file.GetLayer(0)\n",
    "\n",
    "feature = source_shp.GetFeature(0)\n",
    "source_shp = feature.ExportToJson()\n",
    "\n",
    "source_shp = json.loads(source_shp)\n",
    "start_ext = source_shp['geometry']['coordinates']\n",
    "\n",
    "# ----------------------------- destination_shp -------------------------------- #\n",
    "\n",
    "file = ogr.Open(\"/home/shrayank_mistry/Modules/project-mum-pune/route-files/destination-point.shp\")\n",
    "destination_shp = file.GetLayer(0)\n",
    "\n",
    "feature = destination_shp.GetFeature(0)\n",
    "destination_shp = feature.ExportToJson()\n",
    "\n",
    "destination_shp = json.loads(destination_shp)\n",
    "end_ext = destination_shp['geometry']['coordinates']"
   ]
  },
  {
   "cell_type": "code",
   "execution_count": 12,
   "metadata": {},
   "outputs": [
    {
     "name": "stdout",
     "output_type": "stream",
     "text": [
      "[300378.7763074944, 2104126.3099621385] [366123.3883685307, 2063699.8154670105]\n"
     ]
    }
   ],
   "source": [
    "print(start_ext, end_ext) "
   ]
  },
  {
   "cell_type": "markdown",
   "metadata": {},
   "source": [
    "#### Raster Co-ordinates (Left, Bottom, Right, Top)"
   ]
  },
  {
   "cell_type": "code",
   "execution_count": 13,
   "metadata": {},
   "outputs": [
    {
     "name": "stdout",
     "output_type": "stream",
     "text": [
      "BoundingBox(left=282680.0, bottom=2035820.0, right=387680.0, top=2118550.0)\n",
      "282680.0 2035820.0 387680.0 2118550.0\n"
     ]
    }
   ],
   "source": [
    "path = '/home/shrayank_mistry/Modules/project-mum-pune/raster.tif' \n",
    "\n",
    "data = rasterio.open(path)\n",
    "print(data.bounds)\n",
    "\n",
    "extent = data.bounds\n",
    "\n",
    "left, bottom, right, top = extent[0], extent[1], extent[2], extent[3]\n",
    "print(left, bottom, right, top)"
   ]
  },
  {
   "cell_type": "code",
   "execution_count": 14,
   "metadata": {},
   "outputs": [
    {
     "name": "stdout",
     "output_type": "stream",
     "text": [
      "Height and Width of Raster\n",
      "82730 105000\n"
     ]
    }
   ],
   "source": [
    "width = round(right - left)\n",
    "height = round(top - bottom)\n",
    "\n",
    "print(\"Height and Width of Raster\")\n",
    "print(height, width)"
   ]
  },
  {
   "cell_type": "markdown",
   "metadata": {},
   "source": [
    "### Finding pixels of start-point and end-point from extents"
   ]
  },
  {
   "cell_type": "code",
   "execution_count": 15,
   "metadata": {},
   "outputs": [],
   "source": [
    "# [Do not run - already avaliable]\n",
    "# start_pixel, end_pixel = [14424, 17699], [54850, 83443]\n",
    "# start_pixel, end_pixel = [0, 0], [0, 0]\n",
    "# start_flag, end_flag = True, True\n",
    "\n",
    "# for i in range(height):\n",
    "#     for j in range(width):\n",
    "\n",
    "#         if (not start_flag) and (not end_flag):\n",
    "#             break\n",
    "        \n",
    "#         # print(round(left + j), round(top - i))\n",
    "#         if (start_flag and ((round(left + j)) == round(start_ext[0])) and ((round(top - i)) == round(start_ext[1]))):\n",
    "#             start_pixel = [i, j]\n",
    "#             start_flag = False\n",
    "\n",
    "        \n",
    "#         if (end_flag and ((round(left + j)) == round(end_ext[0])) and ((round(top - i)) == round(end_ext[1]))):\n",
    "#             end_pixel = [i, j]\n",
    "#             end_flag = False"
   ]
  },
  {
   "cell_type": "code",
   "execution_count": 16,
   "metadata": {},
   "outputs": [],
   "source": [
    "start_pixel, end_pixel = [14424, 17699], [54850, 83443]"
   ]
  },
  {
   "cell_type": "code",
   "execution_count": 17,
   "metadata": {},
   "outputs": [],
   "source": [
    "start_pixel = np.array(start_pixel)\n",
    "start_pixel = start_pixel / 10\n",
    "\n",
    "start_pixel = list(np.rint(start_pixel))\n",
    "start_pixel = list(np.array(start_pixel, dtype = 'int'))\n",
    "\n",
    "end_pixel = np.array(end_pixel)\n",
    "end_pixel = end_pixel / 10\n",
    "\n",
    "end_pixel = list(np.rint(end_pixel))\n",
    "end_pixel = list(np.array(end_pixel, dtype = 'int'))"
   ]
  },
  {
   "cell_type": "code",
   "execution_count": 18,
   "metadata": {},
   "outputs": [
    {
     "name": "stdout",
     "output_type": "stream",
     "text": [
      "[1442, 1770] [5485, 8344]\n",
      "[1770, 1442] [8344, 5485]\n"
     ]
    }
   ],
   "source": [
    "print(start_pixel, end_pixel)\n",
    "start_pixel, end_pixel = [1770, 1442], [8344, 5485]\n",
    "print(start_pixel, end_pixel)"
   ]
  },
  {
   "cell_type": "markdown",
   "metadata": {},
   "source": [
    "#### A* search algorithm"
   ]
  },
  {
   "cell_type": "code",
   "execution_count": 19,
   "metadata": {},
   "outputs": [],
   "source": [
    "def condition_check(start, end):\n",
    "    if (start[0] == end[0]) and (start[1] == end[1]):\n",
    "        return False\n",
    "    return True"
   ]
  },
  {
   "cell_type": "code",
   "execution_count": 20,
   "metadata": {},
   "outputs": [],
   "source": [
    "import math\n",
    "from queue import PriorityQueue"
   ]
  },
  {
   "cell_type": "code",
   "execution_count": 21,
   "metadata": {},
   "outputs": [],
   "source": [
    "mask_data = mask_data * 5000"
   ]
  },
  {
   "cell_type": "code",
   "execution_count": 22,
   "metadata": {},
   "outputs": [
    {
     "data": {
      "text/plain": [
       "(array([   95.,   245.,   335.,   650.,  1035.,  1195.,  1450., 35000.]),\n",
       " array([19822048, 17097029, 28893954,  7807154,  3858436,  5940554,\n",
       "         2291737,      588]))"
      ]
     },
     "execution_count": 22,
     "metadata": {},
     "output_type": "execute_result"
    }
   ],
   "source": [
    "np.unique(mask_data, return_counts = True)"
   ]
  },
  {
   "cell_type": "code",
   "execution_count": 23,
   "metadata": {},
   "outputs": [],
   "source": [
    "def c_anist_cost(i, j, x, y, mu = 10, wt = 2):\n",
    "\n",
    "    mu_sqr = mu * mu\n",
    "    h_diff = dem_data[i][j] - dem_data[x][y]\n",
    "    h_sqr = h_diff * h_diff\n",
    "    c_dv = (mask_data[i][j] + mask_data[x][y]) / 2\n",
    "    cst = np.sqrt(mu_sqr + h_sqr) * (c_dv + math.atan(h_diff / mu) * wt) + acc_cost[i][j]\n",
    "\n",
    "    return cst"
   ]
  },
  {
   "cell_type": "code",
   "execution_count": 24,
   "metadata": {},
   "outputs": [],
   "source": [
    "def get_neigh_cost(i, j):\n",
    "    arr = []\n",
    "\n",
    "    #(1) col - 1, row - 1\n",
    "    if (j - 1 >= 0) and (i - 1 >= 0):\n",
    "        g = c_anist_cost(i, j, i - 1, j - 1)\n",
    "        h = h_cost_euclidean(i - 1, j - 1)\n",
    "\n",
    "        if (acc_cost[i - 1][j - 1] > (g + h)):\n",
    "            parent[i - 1][j - 1] = i, j\n",
    "            acc_cost[i - 1][j - 1] = (g + h)\n",
    "        arr.append([acc_cost[i - 1][j - 1], [i - 1, j - 1], [i, j]])\n",
    "    else:\n",
    "        arr.append(math.inf)\n",
    "\n",
    "    #(2) col, row - 1\n",
    "    if (i - 1 >= 0):\n",
    "        g = c_anist_cost(i, j, i - 1, j)\n",
    "        h = h_cost_euclidean(i - 1, j)\n",
    "\n",
    "        if (acc_cost[i - 1][j] > (g + h)):\n",
    "            parent[i - 1][j] = i, j\n",
    "            acc_cost[i - 1][j] = (g + h)\n",
    "        arr.append([acc_cost[i - 1][j], [i - 1, j], [i, j]])\n",
    "    else:\n",
    "        arr.append(math.inf)\n",
    "\n",
    "    #(3) col + 1, row - 1\n",
    "    if (j + 1 < 8163) and (i - 1 >= 0):\n",
    "        g = c_anist_cost(i, j, i - 1, j + 1)\n",
    "        h = h_cost_euclidean(i - 1, j + 1)\n",
    "\n",
    "        if (acc_cost[i - 1][j + 1] > (g + h)):\n",
    "            parent[i - 1][j + 1] = i, j\n",
    "            acc_cost[i - 1][j + 1] = (g + h)\n",
    "        arr.append([acc_cost[i - 1][j + 1], [i - 1, j + 1], [i, j]])\n",
    "    else:\n",
    "        arr.append(math.inf)\n",
    "\n",
    "    #(4) col - 1, row\n",
    "    if (j - 1 >= 0):\n",
    "        g = c_anist_cost(i, j, i, j - 1)\n",
    "        h = h_cost_euclidean(i, j - 1)\n",
    "\n",
    "        if (acc_cost[i][j - 1] > (g + h)):\n",
    "            parent[i][j - 1] = i, j\n",
    "            acc_cost[i][j - 1] = (g + h)\n",
    "        arr.append([acc_cost[i][j - 1], [i, j - 1], [i, j]])\n",
    "    else:\n",
    "        arr.append(math.inf)\n",
    "\n",
    "    #(5) col + 1, row\n",
    "    if (j + 1 < 8163):\n",
    "        g = c_anist_cost(i, j, i, j + 1)\n",
    "        h = h_cost_euclidean(i, j + 1)\n",
    "\n",
    "        if (acc_cost[i][j + 1] > (g + h)):\n",
    "            parent[i][j + 1] = i, j\n",
    "            acc_cost[i][j + 1] = (g + h)\n",
    "        arr.append([acc_cost[i][j + 1], [i, j + 1], [i, j]])\n",
    "    else:\n",
    "        arr.append(math.inf)\n",
    "\n",
    "    #(6) col - 1, row + 1\n",
    "    if (j - 1 >= 0) and (i + 1 < 10500):\n",
    "        g = c_anist_cost(i, j, i + 1, j - 1)\n",
    "        h = h_cost_euclidean(i + 1, j - 1)\n",
    "\n",
    "        if (acc_cost[i + 1][j - 1] > (g + h)):\n",
    "            parent[i + 1][j - 1] = i, j\n",
    "            acc_cost[i + 1][j - 1] = (g + h)\n",
    "        arr.append([acc_cost[i + 1][j - 1], [i + 1, j - 1], [i, j]])\n",
    "    else:\n",
    "        arr.append(math.inf)\n",
    "\n",
    "    #(7) col, row + 1\n",
    "    if (i + 1 < 10500):\n",
    "        g = c_anist_cost(i, j, i + 1, j)\n",
    "        h = h_cost_euclidean(i + 1, j)\n",
    "\n",
    "        if (acc_cost[i + 1][j] > (g + h)):\n",
    "            parent[i + 1][j] = i, j\n",
    "            acc_cost[i + 1][j] = (g + h)\n",
    "        arr.append([acc_cost[i + 1][j], [i + 1, j], [i, j]])\n",
    "    else:\n",
    "        arr.append(math.inf)\n",
    "\n",
    "    #(8) col + 1, row + 1\n",
    "    if (j + 1 < 8163) and (i + 1 < 10500):\n",
    "        g = c_anist_cost(i, j, i + 1, j + 1)\n",
    "        h = h_cost_euclidean(i + 1, j + 1)\n",
    "\n",
    "        if (acc_cost[i + 1][j + 1] > (g + h)):\n",
    "            parent[i + 1][j + 1] = i, j\n",
    "            acc_cost[i + 1][j + 1] = (g + h)\n",
    "        arr.append([acc_cost[i + 1][j + 1], [i + 1, j + 1], [i, j]])\n",
    "    else:\n",
    "        arr.append(math.inf)\n",
    "    \n",
    "\n",
    "    return arr"
   ]
  },
  {
   "cell_type": "code",
   "execution_count": 25,
   "metadata": {},
   "outputs": [
    {
     "data": {
      "text/plain": [
       "[8344, 5485]"
      ]
     },
     "execution_count": 25,
     "metadata": {},
     "output_type": "execute_result"
    }
   ],
   "source": [
    "end_pixel"
   ]
  },
  {
   "cell_type": "code",
   "execution_count": 26,
   "metadata": {},
   "outputs": [],
   "source": [
    "def h_cost_euclidean(i, j):\n",
    "    x, y = (i  - end_pixel[0]), (j - end_pixel[1])\n",
    "    x, y = x * x, y * y\n",
    "    cst = math.sqrt(x + y)\n",
    "    return cst"
   ]
  },
  {
   "cell_type": "code",
   "execution_count": 27,
   "metadata": {},
   "outputs": [],
   "source": [
    "# def h_cost_euclidean(i, j):\n",
    "#     arr = []\n",
    "\n",
    "#     #(1) col - 1, row - 1\n",
    "#     if (j - 1 >= 0) and (i - 1 >= 0):\n",
    "#         x, y = (i - 1) - end_pixel[0], (j - 1) - end_pixel[1]\n",
    "#         x, y = x * x, y * y\n",
    "#         arr.append(math.sqrt(x + y))\n",
    "#     else:\n",
    "#         arr.append(math.inf)\n",
    "\n",
    "#     #(2) col, row - 1\n",
    "#     if (i - 1 >= 0):\n",
    "#         x, y = ((i - 1) - end_pixel[0]), (j  - end_pixel[1])\n",
    "#         x, y = x * x, y * y\n",
    "#         arr.append(math.sqrt(x + y))\n",
    "#     else:\n",
    "#         arr.append(math.inf)\n",
    "\n",
    "#     #(3) col + 1, row - 1\n",
    "#     if (j + 1 < 8163) and (i - 1 >= 0):\n",
    "#         x, y = ((i - 1) - end_pixel[0]), ((j + 1)  - end_pixel[1])\n",
    "#         x, y = x * x, y * y\n",
    "#         arr.append(math.sqrt(x + y))\n",
    "#     else:\n",
    "#         arr.append(math.inf)\n",
    "\n",
    "#     #(4) col - 1, row\n",
    "#     if (j - 1 >= 0):\n",
    "#         x, y = (i - end_pixel[0]), ((j - 1)  - end_pixel[1])\n",
    "#         x, y = x * x, y * y\n",
    "#         arr.append(math.sqrt(x + y))\n",
    "#     else:\n",
    "#         arr.append(math.inf)\n",
    "\n",
    "#     #(5) col + 1, row\n",
    "#     if (j + 1 < 8163):\n",
    "#         x, y = (i - end_pixel[0]), ((j + 1)  - end_pixel[1])\n",
    "#         x, y = x * x, y * y\n",
    "#         arr.append(math.sqrt(x + y))\n",
    "#     else:\n",
    "#         arr.append(math.inf)\n",
    "\n",
    "#     #(6) col - 1, row + 1\n",
    "#     if (j - 1 >= 0) and (i + 1 < 10500):\n",
    "#         x, y = ((i + 1) - end_pixel[0]), ((j - 1)  - end_pixel[1])\n",
    "#         x, y = x * x, y * y\n",
    "#         arr.append(math.sqrt(x + y))\n",
    "#     else:\n",
    "#         arr.append(math.inf)\n",
    "\n",
    "#     #(7) col, row + 1\n",
    "#     if (i + 1 < 10500):\n",
    "#         x, y = ((i + 1) - end_pixel[0]), (j  - end_pixel[1])\n",
    "#         x, y = x * x, y * y\n",
    "#         arr.append(math.sqrt(x + y))\n",
    "#     else:\n",
    "#         arr.append(math.inf)\n",
    "\n",
    "#     #(8) col + 1, row + 1\n",
    "#     if (j + 1 < 8163) and (i + 1 < 10500):\n",
    "#         x, y = ((i + 1) - end_pixel[0]), ((j + 1)  - end_pixel[1])\n",
    "#         x, y = x * x, y * y\n",
    "#         arr.append(math.sqrt(x + y))\n",
    "#     else:\n",
    "#         arr.append(math.inf)\n",
    "    \n",
    "\n",
    "#     return arr"
   ]
  },
  {
   "cell_type": "code",
   "execution_count": 28,
   "metadata": {},
   "outputs": [
    {
     "name": "stdout",
     "output_type": "stream",
     "text": [
      "(10500, 8163)\n"
     ]
    }
   ],
   "source": [
    "dim = mask_data.shape\n",
    "print(dim)"
   ]
  },
  {
   "cell_type": "code",
   "execution_count": 60,
   "metadata": {},
   "outputs": [
    {
     "name": "stdout",
     "output_type": "stream",
     "text": [
      "[1770, 1442] [8344, 5485]\n"
     ]
    }
   ],
   "source": [
    "start_pixel, end_pixel = [1770, 1442], [8344, 5485]\n",
    "# start_pixel, end_pixel = [1770, 1442], [1980, 1600]\n",
    "print(start_pixel, end_pixel)"
   ]
  },
  {
   "cell_type": "code",
   "execution_count": 61,
   "metadata": {},
   "outputs": [],
   "source": [
    "Q = PriorityQueue()\n",
    "s_pixel, e_pixel = start_pixel, end_pixel\n",
    "\n",
    "# mask_copy.shape, dem_data.shape\n",
    "\n",
    "visited = np.zeros((dim))\n",
    "acc_cost = np.full((dim), math.inf)\n",
    "\n",
    "acc_cost[s_pixel[0]][s_pixel[1]] = 0\n",
    "visited[s_pixel[0]][s_pixel[1]] = 1\n",
    "\n",
    "parent = np.full((dim), None)\n",
    "parent[s_pixel[0]][s_pixel[1]] = -1, -1\n",
    "\n",
    "while (condition_check(s_pixel, e_pixel)):\n",
    "    \n",
    "    i, j = s_pixel\n",
    "    # h-cost(0) - indicates Euclidean distance\n",
    "    # h-cost(1) - indicates Manhattan distance\n",
    "\n",
    "    neighbours_cost = get_neigh_cost(i, j)\n",
    "    for nc in neighbours_cost:\n",
    "        if nc == math.inf:\n",
    "            continue\n",
    "        else:\n",
    "            Q.put(nc)\n",
    "    \n",
    "    bst = Q.get()\n",
    "    m, n = bst[1][0], bst[1][1]\n",
    "\n",
    "    while True:\n",
    "        if visited[m][n] == 0:\n",
    "            break\n",
    "        bst = Q.get()\n",
    "        m, n = bst[1][0], bst[1][1]\n",
    "\n",
    "    # set-visited\n",
    "    visited[m][n] = 1\n",
    "    # path.append([m, n])\n",
    "    # print(m, n)\n",
    "\n",
    "    parent[m][n] = bst[2][0], bst[2][1]\n",
    "\n",
    "    s_pixel = [m, n]"
   ]
  },
  {
   "cell_type": "code",
   "execution_count": 62,
   "metadata": {},
   "outputs": [
    {
     "name": "stdout",
     "output_type": "stream",
     "text": [
      "37147432.59376066\n"
     ]
    }
   ],
   "source": [
    "print(acc_cost[end_pixel[0]][end_pixel[1]])"
   ]
  },
  {
   "cell_type": "code",
   "execution_count": 63,
   "metadata": {},
   "outputs": [],
   "source": [
    "!rm -rf path.txt"
   ]
  },
  {
   "cell_type": "code",
   "execution_count": 64,
   "metadata": {},
   "outputs": [],
   "source": [
    "path = []\n",
    "pr = parent[end_pixel[0]][end_pixel[1]]\n",
    "\n",
    "# cnt = 15000\n",
    "while (pr[0] != -1) and (pr[1] != -1):\n",
    "    path.append(pr)\n",
    "    # path.append('-')\n",
    "    with open('path.txt', 'a') as f:\n",
    "        f.write(str(pr) + '\\n')\n",
    "\n",
    "    # cnt = cnt - 1\n",
    "    # if cnt == 0:\n",
    "    #     break\n",
    "\n",
    "    pr = parent[pr[0]][pr[1]]"
   ]
  },
  {
   "cell_type": "code",
   "execution_count": 65,
   "metadata": {},
   "outputs": [],
   "source": [
    "path_list = []\n",
    "with open('path.txt', 'r') as f:\n",
    "    for point in f:\n",
    "        path_list.append(point)"
   ]
  },
  {
   "cell_type": "code",
   "execution_count": 66,
   "metadata": {},
   "outputs": [
    {
     "data": {
      "text/plain": [
       "6839"
      ]
     },
     "execution_count": 66,
     "metadata": {},
     "output_type": "execute_result"
    }
   ],
   "source": [
    "len(path_list)"
   ]
  },
  {
   "cell_type": "code",
   "execution_count": 67,
   "metadata": {},
   "outputs": [
    {
     "name": "stdout",
     "output_type": "stream",
     "text": [
      "8343 5484\n"
     ]
    }
   ],
   "source": [
    "point = path_list[0].replace('\\n', '').split(' ')\n",
    "pi, pj = int(point[0].split(',')[0].split('(')[1]), int(point[1].split(',')[0].split(')')[0])\n",
    "print(pi, pj)"
   ]
  },
  {
   "cell_type": "code",
   "execution_count": 68,
   "metadata": {},
   "outputs": [
    {
     "data": {
      "text/plain": [
       "6839"
      ]
     },
     "execution_count": 68,
     "metadata": {},
     "output_type": "execute_result"
    }
   ],
   "source": [
    "len(path_list)"
   ]
  },
  {
   "cell_type": "code",
   "execution_count": 69,
   "metadata": {},
   "outputs": [],
   "source": [
    "path_list.reverse()"
   ]
  },
  {
   "cell_type": "code",
   "execution_count": 70,
   "metadata": {},
   "outputs": [
    {
     "name": "stdout",
     "output_type": "stream",
     "text": [
      "CPU times: user 72.7 ms, sys: 16 ms, total: 88.7 ms\n",
      "Wall time: 88.6 ms\n"
     ]
    }
   ],
   "source": [
    "%%time\n",
    "ordinates_dict = {}\n",
    "\n",
    "\n",
    "for i in range(len(path_list)):\n",
    "    point = path_list[i].replace('\\n', '').split(' ')\n",
    "    pi, pj = int(point[0].split(',')[0].split('(')[1]), int(point[1].split(',')[0].split(')')[0])\n",
    "\n",
    "    ext_i, ext_j = left + (pi * 10), top - (pj * 10)\n",
    "\n",
    "    # ordinates_dict[(pi, pj)] = extent_matrix[pi][pj]\n",
    "    ordinates_dict[pi, pj] = [ext_i, ext_j]"
   ]
  },
  {
   "cell_type": "code",
   "execution_count": 71,
   "metadata": {},
   "outputs": [],
   "source": [
    "ordinates_dict\n",
    "ordinates_list = []\n",
    "for key, value in ordinates_dict.items():\n",
    "    ordinates_list.append(value)"
   ]
  },
  {
   "cell_type": "code",
   "execution_count": 72,
   "metadata": {},
   "outputs": [],
   "source": [
    "import shapefile\n",
    "w = shapefile.Writer('shapefiles/test/multipoint')\n",
    "w.field('name', 'C')\n",
    "\n",
    "w.multipoint(ordinates_list) \n",
    "w.record('multipoint1')\n",
    "\n",
    "w.close()"
   ]
  },
  {
   "cell_type": "code",
   "execution_count": 73,
   "metadata": {},
   "outputs": [],
   "source": [
    "road_lenght = 0\n",
    "index = 1\n",
    "for _ in ordinates_list[1:]:\n",
    "    i, j = ordinates_list[index][0], ordinates_list[index][1]\n",
    "    x, y = ordinates_list[index - 1][0], ordinates_list[index - 1][1]\n",
    "\n",
    "    if (x - i == 10.0) and (y - j == -10.0):\n",
    "        road_lenght += math.sqrt(2 * 100)\n",
    "    else:\n",
    "        road_lenght += 10 "
   ]
  },
  {
   "cell_type": "code",
   "execution_count": 74,
   "metadata": {},
   "outputs": [
    {
     "name": "stdout",
     "output_type": "stream",
     "text": [
      "Current Road-length = 68.38 kms\n"
     ]
    }
   ],
   "source": [
    "print(f'Current Road-length = {road_lenght / 1000} kms')"
   ]
  },
  {
   "cell_type": "code",
   "execution_count": null,
   "metadata": {},
   "outputs": [],
   "source": []
  }
 ],
 "metadata": {
  "interpreter": {
   "hash": "72116f4556a314d3963dd18b1856661810f11245b96e3a7075f7a5fca07ef2b1"
  },
  "kernelspec": {
   "display_name": "Python 3.6.9 64-bit ('virtualenv': venv)",
   "language": "python",
   "name": "python3"
  },
  "language_info": {
   "codemirror_mode": {
    "name": "ipython",
    "version": 3
   },
   "file_extension": ".py",
   "mimetype": "text/x-python",
   "name": "python",
   "nbconvert_exporter": "python",
   "pygments_lexer": "ipython3",
   "version": "3.8.10"
  },
  "orig_nbformat": 4
 },
 "nbformat": 4,
 "nbformat_minor": 2
}
