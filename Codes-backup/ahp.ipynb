{
 "cells": [
  {
   "cell_type": "code",
   "execution_count": 18,
   "metadata": {},
   "outputs": [],
   "source": [
    "import ahpy \n",
    "import numpy as np"
   ]
  },
  {
   "cell_type": "code",
   "execution_count": 19,
   "metadata": {},
   "outputs": [],
   "source": [
    "drink_comparisons = {('coffee', 'wine'): 9, ('coffee', 'tea'): 5, ('coffee', 'beer'): 2, ('coffee', 'soda'): 1,\n",
    "\t\t\t ('coffee', 'milk'): 1, ('coffee', 'water'): 1 / 2,\n",
    "                         ('wine', 'tea'): 1 / 3, ('wine', 'beer'): 1 / 9, ('wine', 'soda'): 1 / 9,\n",
    "                         ('wine', 'milk'): 1 / 9, ('wine', 'water'): 1 / 9,\n",
    "                         ('tea', 'beer'): 1 / 3, ('tea', 'soda'): 1 / 4, ('tea', 'milk'): 1 / 3,\n",
    "                         ('tea', 'water'): 1 / 9,\n",
    "                         ('beer', 'soda'): 1 / 2, ('beer', 'milk'): 1, ('beer', 'water'): 1 / 3,\n",
    "                         ('soda', 'milk'): 2, ('soda', 'water'): 1 / 2,\n",
    "                         ('milk', 'water'): 1 / 3}\n"
   ]
  },
  {
   "cell_type": "code",
   "execution_count": 20,
   "metadata": {},
   "outputs": [],
   "source": [
    "drinks = ahpy.Compare(name='Drinks', comparisons=drink_comparisons, precision=3, random_index='saaty')"
   ]
  },
  {
   "cell_type": "code",
   "execution_count": 21,
   "metadata": {},
   "outputs": [
    {
     "name": "stdout",
     "output_type": "stream",
     "text": [
      "{'water': 0.327, 'soda': 0.19, 'coffee': 0.177, 'milk': 0.129, 'beer': 0.116, 'tea': 0.042, 'wine': 0.019}\n"
     ]
    }
   ],
   "source": [
    "print(drinks.target_weights)"
   ]
  },
  {
   "cell_type": "code",
   "execution_count": 33,
   "metadata": {},
   "outputs": [
    {
     "name": "stdout",
     "output_type": "stream",
     "text": [
      "1.0\n"
     ]
    }
   ],
   "source": [
    "arr = [values for key, values in drinks.target_weights.items()]\n",
    "arr = np.array(arr)\n",
    "print(np.sum(arr))"
   ]
  },
  {
   "cell_type": "code",
   "execution_count": 26,
   "metadata": {},
   "outputs": [
    {
     "name": "stdout",
     "output_type": "stream",
     "text": [
      "0.022\n"
     ]
    }
   ],
   "source": [
    "print(drinks.consistency_ratio)"
   ]
  },
  {
   "cell_type": "code",
   "execution_count": 24,
   "metadata": {},
   "outputs": [
    {
     "name": "stdout",
     "output_type": "stream",
     "text": [
      "{'water': 0.327, 'soda': 0.19, 'coffee': 0.177, 'milk': 0.129, 'beer': 0.116, 'tea': 0.042, 'wine': 0.019}\n"
     ]
    }
   ],
   "source": [
    "# arr = np.array(drinks.target_weights)\n",
    "print(np.sum(arr))"
   ]
  },
  {
   "cell_type": "markdown",
   "metadata": {},
   "source": [
    "## LULC Manual Comparison"
   ]
  },
  {
   "cell_type": "code",
   "execution_count": 99,
   "metadata": {},
   "outputs": [],
   "source": [
    "cs = ['water', 'dense-forest', 'sparse-forest', 'barren-land', 'urban-land', 'farms', 'fallow']"
   ]
  },
  {
   "cell_type": "markdown",
   "metadata": {},
   "source": [
    "### Current-Configuration of Comparions"
   ]
  },
  {
   "cell_type": "code",
   "execution_count": 100,
   "metadata": {},
   "outputs": [],
   "source": [
    "# DO NOT DELETE CAUTION\n",
    "\n",
    "# ctrl_dict = {('water', 'dense-forest') : 1, ('water', 'sparse-forest') : 5, ('water', 'barren-land') : 9, ('water', 'urban') : 1/2, \n",
    "#              ('water', 'farms') : 1/5, ('water', 'fallow') : 1, \n",
    "\n",
    "#              ('dense-forest', 'sparse-forest'): 9, ('dense-forest', 'barren-land') : 9, ('dense-forest', 'urban') : 1/3, ('dense-forest', 'farms') : 1,\n",
    "#              ('dense-forest', 'fallow') : 5,\n",
    "\n",
    "#              ('sparse-forest', 'barren-land') : 5, ('sparse-forest', 'urban') : 1/7, ('sparse-forest', 'farms') : 1/3,  ('sparse-forest', 'fallow') : 1,\n",
    "\n",
    "#              ('barren-land', 'urban') : 1/9, ('barren-land', 'farms') : 1/7, ('barren-land', 'fallow') : 1/5,\n",
    "\n",
    "#              ('urban', 'farms') : 1, ('urban', 'fallow') : 5,\n",
    "\n",
    "#              ('farms', 'fallow') : 3}"
   ]
  },
  {
   "cell_type": "code",
   "execution_count": 101,
   "metadata": {},
   "outputs": [],
   "source": [
    "ctrl_dict = {('water', 'dense-forest') : 1, ('water', 'sparse-forest') : 5, ('water', 'barren-land') : 9, ('water', 'urban') : 1/2, \n",
    "             ('water', 'farms') : 1/5, ('water', 'fallow') : 1, \n",
    "\n",
    "             ('dense-forest', 'sparse-forest'): 9, ('dense-forest', 'barren-land') : 9, ('dense-forest', 'urban') : 1/3, ('dense-forest', 'farms') : 1,\n",
    "             ('dense-forest', 'fallow') : 5,\n",
    "\n",
    "             ('sparse-forest', 'barren-land') : 5, ('sparse-forest', 'urban') : 1/7, ('sparse-forest', 'farms') : 1/3,  ('sparse-forest', 'fallow') : 1,\n",
    "\n",
    "             ('barren-land', 'urban') : 1/9, ('barren-land', 'farms') : 1/7, ('barren-land', 'fallow') : 1/5,\n",
    "\n",
    "             ('urban', 'farms') : 1, ('urban', 'fallow') : 5,\n",
    "\n",
    "             ('farms', 'fallow') : 3}"
   ]
  },
  {
   "cell_type": "code",
   "execution_count": 102,
   "metadata": {},
   "outputs": [],
   "source": [
    "lulc = ahpy.Compare(name = 'LULC', comparisons = ctrl_dict, precision = 3, random_index = 'saaty')"
   ]
  },
  {
   "cell_type": "code",
   "execution_count": 97,
   "metadata": {},
   "outputs": [
    {
     "data": {
      "text/plain": [
       "{'urban': 0.29,\n",
       " 'farms': 0.239,\n",
       " 'dense-forest': 0.207,\n",
       " 'water': 0.13,\n",
       " 'fallow': 0.067,\n",
       " 'sparse-forest': 0.049,\n",
       " 'barren-land': 0.019}"
      ]
     },
     "execution_count": 97,
     "metadata": {},
     "output_type": "execute_result"
    }
   ],
   "source": [
    "lulc.target_weights"
   ]
  },
  {
   "cell_type": "markdown",
   "metadata": {},
   "source": [
    "## consistency_ratio < 0.10"
   ]
  },
  {
   "cell_type": "code",
   "execution_count": 98,
   "metadata": {},
   "outputs": [
    {
     "data": {
      "text/plain": [
       "0.096"
      ]
     },
     "execution_count": 98,
     "metadata": {},
     "output_type": "execute_result"
    }
   ],
   "source": [
    "lulc.consistency_ratio"
   ]
  },
  {
   "cell_type": "code",
   "execution_count": null,
   "metadata": {},
   "outputs": [],
   "source": [
    "report = lulc.report(show = True)"
   ]
  },
  {
   "cell_type": "code",
   "execution_count": null,
   "metadata": {},
   "outputs": [],
   "source": [
    "'''\n",
    "AHP REPORT\n",
    "\n",
    "{\n",
    "    \"name\": \"LULC\",\n",
    "    \"global_weight\": 1.0,\n",
    "    \"local_weight\": 1.0,\n",
    "    \"target_weights\": {\n",
    "        \"urban\": 0.29,\n",
    "        \"farms\": 0.239,\n",
    "        \"dense-forest\": 0.207,\n",
    "        \"water\": 0.13,\n",
    "        \"fallow\": 0.067,\n",
    "        \"sparse-forest\": 0.049,\n",
    "        \"barren-land\": 0.019\n",
    "    },\n",
    "    \"elements\": {\n",
    "        \"global_weights\": {\n",
    "            \"urban\": 0.29,\n",
    "            \"farms\": 0.239,\n",
    "            \"dense-forest\": 0.207,\n",
    "            \"water\": 0.13,\n",
    "            \"fallow\": 0.067,\n",
    "            \"sparse-forest\": 0.049,\n",
    "            \"barren-land\": 0.019\n",
    "        },\n",
    "        \"local_weights\": {\n",
    "            \"urban\": 0.29,\n",
    "            \"farms\": 0.239,\n",
    "            \"dense-forest\": 0.207,\n",
    "            \"water\": 0.13,\n",
    "            \"fallow\": 0.067,\n",
    "            \"sparse-forest\": 0.049,\n",
    "            \"barren-land\": 0.019\n",
    "        },\n",
    "        \"consistency_ratio\": 0.096\n",
    "    }\n",
    "}\n",
    "'''"
   ]
  },
  {
   "cell_type": "code",
   "execution_count": null,
   "metadata": {},
   "outputs": [],
   "source": []
  }
 ],
 "metadata": {
  "interpreter": {
   "hash": "41753c86ab29c83d5a6940432db1264110c228305d3d5eb7da716c156c110c5d"
  },
  "kernelspec": {
   "display_name": "Python 3.6.9 ('virtualenv': venv)",
   "language": "python",
   "name": "python3"
  },
  "language_info": {
   "codemirror_mode": {
    "name": "ipython",
    "version": 3
   },
   "file_extension": ".py",
   "mimetype": "text/x-python",
   "name": "python",
   "nbconvert_exporter": "python",
   "pygments_lexer": "ipython3",
   "version": "3.6.9"
  },
  "orig_nbformat": 4
 },
 "nbformat": 4,
 "nbformat_minor": 2
}
