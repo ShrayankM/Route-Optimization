{
 "cells": [
  {
   "cell_type": "code",
   "execution_count": 75,
   "metadata": {},
   "outputs": [],
   "source": [
    "import os\n",
    "import glob\n",
    "import gdal\n",
    "from scipy.ndimage import zoom\n",
    "import subprocess"
   ]
  },
  {
   "cell_type": "markdown",
   "metadata": {},
   "source": [
    "# Creating custom directories for downscaling/conversion"
   ]
  },
  {
   "cell_type": "code",
   "execution_count": 23,
   "metadata": {},
   "outputs": [],
   "source": [
    "def create_directories(d1, d2, tiles, area):\n",
    "    for tile in tiles:\n",
    "        os.mkdir(area + tile + '/' + d1)\n",
    "        os.mkdir(area + tile + '/' + d2)"
   ]
  },
  {
   "cell_type": "code",
   "execution_count": 42,
   "metadata": {},
   "outputs": [],
   "source": [
    "tiles = ['T1', 'T2', 'T3', 'T4']\n",
    "area  = 'Area_one/Tiles/'\n",
    "\n",
    "d1 = 'D10m'\n",
    "d2 = 'D20m'"
   ]
  },
  {
   "cell_type": "code",
   "execution_count": 25,
   "metadata": {},
   "outputs": [],
   "source": [
    "create_directories(d1, d2, tiles, area)"
   ]
  },
  {
   "cell_type": "markdown",
   "metadata": {},
   "source": [
    "# Downscaling and Conversion"
   ]
  },
  {
   "cell_type": "code",
   "execution_count": 27,
   "metadata": {},
   "outputs": [],
   "source": [
    "def setGeo(geotransform, bgx, bgy, x_offset = 0):\n",
    "    if x_offset == 0:\n",
    "        x_offset = geotransform[1]\n",
    "        y_offset = geotransform[5]\n",
    "    else:\n",
    "        x_offset = x_offset\n",
    "        y_offset = -x_offset\n",
    "    reset0 = geotransform[0] + bgx * geotransform[1]\n",
    "    reset3 = geotransform[3] + bgy * geotransform[5]\n",
    "    reset = (reset0, x_offset, geotransform[2],\n",
    "             reset3, geotransform[4], y_offset)\n",
    "    return reset"
   ]
  },
  {
   "cell_type": "code",
   "execution_count": 34,
   "metadata": {},
   "outputs": [],
   "source": [
    "def downscale(in_dir, out_dir):\n",
    "    files = glob.glob(in_dir + '*')\n",
    "    files.sort()\n",
    "\n",
    "    for file in files:\n",
    "        f = gdal.Open(file, gdal.GA_ReadOnly)\n",
    "        projection = f.GetProjection()\n",
    "        geotransform = f.GetGeoTransform()\n",
    "\n",
    "        f = f.ReadAsArray()\n",
    "\n",
    "        new_geo = setGeo(geotransform, 0, 0, x_offset = 10)\n",
    "        f = zoom(f, [2,2], order = 0, mode = 'nearest')\n",
    "        fx, fy = f.shape\n",
    "\n",
    "        file_name = file[-11:-4]\n",
    "        file_dir = out_dir + file_name\n",
    "        outdata = gdal.GetDriverByName('GTiff').Create(file_dir +'.tif', fy, fx, 1, gdal.GDT_UInt16)\n",
    "        outdata.SetGeoTransform(new_geo)\n",
    "        outdata.SetProjection(projection)\n",
    "        outdata.GetRasterBand(1).WriteArray(f)\n",
    "        outdata.FlushCache()\n",
    "        outdata = None"
   ]
  },
  {
   "cell_type": "code",
   "execution_count": 35,
   "metadata": {},
   "outputs": [
    {
     "name": "stdout",
     "output_type": "stream",
     "text": [
      "Area_one/Tiles/T1/R20m/ Area_one/Tiles/T1/D20m/\n",
      "Area_one/Tiles/T2/R20m/ Area_one/Tiles/T2/D20m/\n",
      "Area_one/Tiles/T3/R20m/ Area_one/Tiles/T3/D20m/\n",
      "Area_one/Tiles/T4/R20m/ Area_one/Tiles/T4/D20m/\n"
     ]
    }
   ],
   "source": [
    "for tile in tiles:\n",
    "    input_dir = area + tile + '/' + 'R20m/'\n",
    "    output_dir = area + tile + '/' + 'D20m/'\n",
    "\n",
    "    print(input_dir, output_dir)\n",
    "\n",
    "    downscale(input_dir, output_dir)"
   ]
  },
  {
   "cell_type": "markdown",
   "metadata": {},
   "source": [
    "# Converting 10m bands to tiff format"
   ]
  },
  {
   "cell_type": "code",
   "execution_count": 36,
   "metadata": {},
   "outputs": [],
   "source": [
    "def convert(in_dir, out_dir):\n",
    "    files = glob.glob(in_dir + '*')\n",
    "    files.sort()\n",
    "\n",
    "    for file in files:\n",
    "        f = gdal.Open(file, gdal.GA_ReadOnly)\n",
    "        projection = f.GetProjection()\n",
    "        geotransform = f.GetGeoTransform()\n",
    "\n",
    "        f = f.ReadAsArray()\n",
    "        fx, fy = f.shape\n",
    "\n",
    "        file_name = file[-11:-4]\n",
    "        file_dir = out_dir + file_name\n",
    "        outdata = gdal.GetDriverByName('GTiff').Create(file_dir +'.tif', fy, fx, 1, gdal.GDT_UInt16)\n",
    "        outdata.SetGeoTransform(geotransform)\n",
    "        outdata.SetProjection(projection)\n",
    "        outdata.GetRasterBand(1).WriteArray(f)\n",
    "        outdata.FlushCache()\n",
    "        outdata = None"
   ]
  },
  {
   "cell_type": "code",
   "execution_count": 37,
   "metadata": {},
   "outputs": [
    {
     "name": "stdout",
     "output_type": "stream",
     "text": [
      "Area_one/Tiles/T1/R20m/ Area_one/Tiles/T1/D20m/\n",
      "Area_one/Tiles/T2/R20m/ Area_one/Tiles/T2/D20m/\n",
      "Area_one/Tiles/T3/R20m/ Area_one/Tiles/T3/D20m/\n",
      "Area_one/Tiles/T4/R20m/ Area_one/Tiles/T4/D20m/\n"
     ]
    }
   ],
   "source": [
    "for tile in tiles:\n",
    "    input_dir = area + tile + '/' + 'R20m/'\n",
    "    output_dir = area + tile + '/' + 'D20m/'\n",
    "\n",
    "    print(input_dir, output_dir)\n",
    "\n",
    "    convert(input_dir, output_dir)"
   ]
  },
  {
   "cell_type": "markdown",
   "metadata": {},
   "source": [
    "# Layer Stacking 20m bands [02, 03, 04]"
   ]
  },
  {
   "cell_type": "code",
   "execution_count": 39,
   "metadata": {},
   "outputs": [],
   "source": [
    "layers = ['02', '03', '04']\n",
    "area = 'Area_one/Tiles/'"
   ]
  },
  {
   "cell_type": "code",
   "execution_count": 66,
   "metadata": {},
   "outputs": [],
   "source": [
    "def combine(input_dir, output_dir, index):\n",
    "    files = []\n",
    "    for l in layers:\n",
    "        fs = [f for f in glob.glob(input_dir + 'B*')]\n",
    "        files += fs\n",
    "    \n",
    "    count = 0\n",
    "    name = output_dir + 'Stacked_Raster_' + str(index)\n",
    "    fz = len(files)\n",
    "\n",
    "    for file in files:\n",
    "\n",
    "        f = gdal.Open(file, gdal.GA_ReadOnly)\n",
    "        projection = f.GetProjection()\n",
    "        geotransform = f.GetGeoTransform()\n",
    "\n",
    "        f = f.ReadAsArray()\n",
    "        fx, fy = f.shape\n",
    "\n",
    "        count = count + 1\n",
    "        if count == 1:\n",
    "            outdata = gdal.GetDriverByName('GTiff').Create(name + '.tif', fy, fx, fz,gdal.GDT_UInt16)\n",
    "            outdata.SetGeoTransform(geotransform)\n",
    "            outdata.SetProjection(projection)\n",
    "        outdata.GetRasterBand(count).WriteArray(f)\n",
    "        outdata.FlushCache() \n",
    "    outdata = None"
   ]
  },
  {
   "cell_type": "code",
   "execution_count": 67,
   "metadata": {},
   "outputs": [],
   "source": [
    "index = 0\n",
    "for tile in tiles:\n",
    "    input_dir, output_dir = area + tile + '/' + d2 + '/', area + tile + '/'\n",
    "    combine(input_dir, output_dir, index)\n",
    "\n",
    "    input_dir, output_dir = area + tile + '/' + d1 + '/', area + tile + '/'\n",
    "    combine(input_dir, output_dir, index) \n",
    "\n",
    "    index = index + 1"
   ]
  },
  {
   "cell_type": "markdown",
   "metadata": {},
   "source": [
    "# Mosaing Rasters to create study area"
   ]
  },
  {
   "cell_type": "code",
   "execution_count": 72,
   "metadata": {},
   "outputs": [],
   "source": [
    "tiles = ['T1', 'T2']"
   ]
  },
  {
   "cell_type": "code",
   "execution_count": 74,
   "metadata": {},
   "outputs": [
    {
     "name": "stdout",
     "output_type": "stream",
     "text": [
      "['Area_one/Tiles/T1/Stacked_Raster_0.tif']\n",
      "['Area_one/Tiles/T2/Stacked_Raster_1.tif']\n"
     ]
    }
   ],
   "source": [
    "raster_files = []\n",
    "for tile in tiles:\n",
    "    files = glob.glob(area + tile + '/' + 'Stacked_Raster_*.tif')\n",
    "    print(files)\n",
    "    # cmd = 'gdal_merge.py -ot Int16 -o Area_one/Tiles/Main_Raster.tif'\n",
    "    # subprocess.call(cmd.split()+files)"
   ]
  },
  {
   "cell_type": "code",
   "execution_count": null,
   "metadata": {},
   "outputs": [],
   "source": []
  }
 ],
 "metadata": {
  "interpreter": {
   "hash": "72116f4556a314d3963dd18b1856661810f11245b96e3a7075f7a5fca07ef2b1"
  },
  "kernelspec": {
   "display_name": "Python 3.6.9 64-bit ('virtualenv': venv)",
   "language": "python",
   "name": "python3"
  },
  "language_info": {
   "codemirror_mode": {
    "name": "ipython",
    "version": 3
   },
   "file_extension": ".py",
   "mimetype": "text/x-python",
   "name": "python",
   "nbconvert_exporter": "python",
   "pygments_lexer": "ipython3",
   "version": "3.6.9"
  },
  "orig_nbformat": 4
 },
 "nbformat": 4,
 "nbformat_minor": 2
}
