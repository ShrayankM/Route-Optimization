{
 "cells": [
  {
   "cell_type": "code",
   "execution_count": 1,
   "metadata": {},
   "outputs": [],
   "source": [
    "from osgeo import gdal\n",
    "import numpy as np\n",
    "import os\n",
    "import subprocess\n",
    "import glob"
   ]
  },
  {
   "cell_type": "code",
   "execution_count": 2,
   "metadata": {},
   "outputs": [],
   "source": [
    "def _16bit_to_8Bit_raster(inputRaster, outputRaster, outputPixType='Byte', outputFormat='png', percentiles=[2, 98]):\n",
    "\n",
    "   srcRaster = gdal.Open(inputRaster)\n",
    "   cmd = ['gdal_translate', '-ot', outputPixType, '-of', \n",
    "          outputFormat]\n",
    "\n",
    "   for bandId in range(srcRaster.RasterCount):\n",
    "       bandId = bandId+1\n",
    "       band = srcRaster.GetRasterBand(bandId)\n",
    "\n",
    "       bmin = band.GetMinimum()        \n",
    "       bmax = band.GetMaximum()\n",
    "       # if not exist minimum and maximum values\n",
    "       if bmin is None or bmax is None:\n",
    "           (bmin, bmax) = band.ComputeRasterMinMax(1)\n",
    "       # else, rescale\n",
    "       band_arr_tmp = band.ReadAsArray()\n",
    "       bmin = np.percentile(band_arr_tmp.flatten(), \n",
    "                           percentiles[0])\n",
    "       bmax= np.percentile(band_arr_tmp.flatten(), \n",
    "                           percentiles[1])\n",
    "\n",
    "       cmd.append('-scale_{}'.format(bandId))\n",
    "       cmd.append('{}'.format(bmin))\n",
    "       cmd.append('{}'.format(bmax))\n",
    "       cmd.append('{}'.format(0))\n",
    "       cmd.append('{}'.format(255))\n",
    "\n",
    "   cmd.append(inputRaster)\n",
    "   cmd.append(outputRaster)\n",
    "#    print(\"Conversin command:\", cmd)\n",
    "   subprocess.call(cmd)"
   ]
  },
  {
   "cell_type": "code",
   "execution_count": 3,
   "metadata": {},
   "outputs": [],
   "source": [
    "def _16bit_to_8Bit_mask(inputRaster, outputRaster, outputPixType='Byte', outputFormat='png', percentiles=[2, 98]):\n",
    "\n",
    "   srcRaster = gdal.Open(inputRaster)\n",
    "   cmd = ['gdal_translate', '-ot', outputPixType, '-of', \n",
    "          outputFormat]\n",
    "\n",
    "   for bandId in range(srcRaster.RasterCount):\n",
    "       bandId = bandId+1\n",
    "       band = srcRaster.GetRasterBand(bandId)\n",
    "\n",
    "       bmin = band.GetMinimum()        \n",
    "       bmax = band.GetMaximum()\n",
    "       # if not exist minimum and maximum values\n",
    "       if bmin is None or bmax is None:\n",
    "           (bmin, bmax) = band.ComputeRasterMinMax(1)\n",
    "       # else, rescale\n",
    "       band_arr_tmp = band.ReadAsArray()\n",
    "       bmin = np.percentile(band_arr_tmp.flatten(), \n",
    "                           percentiles[0])\n",
    "       bmax= np.percentile(band_arr_tmp.flatten(), \n",
    "                           percentiles[1])\n",
    "\n",
    "       cmd.append('-scale_{}'.format(bandId))\n",
    "       cmd.append('{}'.format(bmin))\n",
    "       cmd.append('{}'.format(bmax))\n",
    "       cmd.append('{}'.format(0))\n",
    "       cmd.append('{}'.format(255))\n",
    "\n",
    "   cmd.append(inputRaster)\n",
    "   cmd.append(outputRaster)\n",
    "#    print(\"Conversin command:\", cmd)\n",
    "   subprocess.call(cmd)"
   ]
  },
  {
   "cell_type": "code",
   "execution_count": 4,
   "metadata": {},
   "outputs": [],
   "source": [
    "raster_patches = '/home/shrayank_mistry/Modules/data/raster_patches/'\n",
    "# raster_patches = '/home/shrayank_mistry/Modules/val_dir/val_images/val/'\n",
    "mask_patches = '/home/shrayank_mistry/Modules/data/mask_patches/'"
   ]
  },
  {
   "cell_type": "code",
   "execution_count": 5,
   "metadata": {},
   "outputs": [],
   "source": [
    "raster_files = os.listdir(raster_patches)\n",
    "mask_files = os.listdir(mask_patches)"
   ]
  },
  {
   "cell_type": "code",
   "execution_count": 6,
   "metadata": {},
   "outputs": [
    {
     "data": {
      "text/plain": [
       "55917"
      ]
     },
     "execution_count": 6,
     "metadata": {},
     "output_type": "execute_result"
    }
   ],
   "source": [
    "len(raster_files)"
   ]
  },
  {
   "cell_type": "markdown",
   "metadata": {},
   "source": [
    "### Converting Raster Patches to PNG Patches"
   ]
  },
  {
   "cell_type": "code",
   "execution_count": 7,
   "metadata": {},
   "outputs": [],
   "source": [
    "for file in raster_files:\n",
    "    resimPath = raster_patches + file\n",
    "\n",
    "    # print(resimPath)\n",
    "\n",
    "    dstPath   = '/home/shrayank_mistry/Modules/data/original_images/'\n",
    "    # dstPath = '/home/shrayank_mistry/Modules/val_dir/val/'\n",
    "    dstPath   = dstPath + file[:-3] + \"png\"\n",
    "\n",
    "    # print(dstPath)\n",
    "\n",
    "    _16bit_to_8Bit_raster(resimPath, dstPath, outputPixType = 'Float32', outputFormat = \"png\")"
   ]
  },
  {
   "cell_type": "markdown",
   "metadata": {},
   "source": [
    "### Converting Mask Patches to PNG Patches"
   ]
  },
  {
   "cell_type": "code",
   "execution_count": 35,
   "metadata": {},
   "outputs": [],
   "source": [
    "for file in mask_files:\n",
    "    resimPath = mask_patches + file\n",
    "\n",
    "    dstPath   = '/home/shrayank_mistry/Modules/data/labelled_images/'\n",
    "    dstPath   = dstPath + file[:-3] + \"png\"\n",
    "\n",
    "    # print(dstPath)\n",
    "\n",
    "    _16bit_to_8Bit_mask(resimPath, dstPath, outputFormat = \"png\")"
   ]
  },
  {
   "cell_type": "code",
   "execution_count": 8,
   "metadata": {},
   "outputs": [],
   "source": [
    "p1 = '/home/shrayank_mistry/Modules/data/labelled_images/'\n",
    "p2 = '/home/shrayank_mistry/Modules/data/original_images/'\n",
    "# files = glob.glob(p1 + '*.xml')\n",
    "\n",
    "# for f in files:\n",
    "#     os.remove(f)"
   ]
  },
  {
   "cell_type": "code",
   "execution_count": 9,
   "metadata": {},
   "outputs": [],
   "source": [
    "files = glob.glob(p2 + '*.xml')\n",
    "\n",
    "for f in files:\n",
    "    os.remove(f)"
   ]
  },
  {
   "cell_type": "code",
   "execution_count": null,
   "metadata": {},
   "outputs": [],
   "source": []
  },
  {
   "cell_type": "code",
   "execution_count": null,
   "metadata": {},
   "outputs": [],
   "source": []
  }
 ],
 "metadata": {
  "interpreter": {
   "hash": "41753c86ab29c83d5a6940432db1264110c228305d3d5eb7da716c156c110c5d"
  },
  "kernelspec": {
   "display_name": "Python 3.6.9 64-bit ('virtualenv': venv)",
   "language": "python",
   "name": "python3"
  },
  "language_info": {
   "codemirror_mode": {
    "name": "ipython",
    "version": 3
   },
   "file_extension": ".py",
   "mimetype": "text/x-python",
   "name": "python",
   "nbconvert_exporter": "python",
   "pygments_lexer": "ipython3",
   "version": "3.6.9"
  },
  "orig_nbformat": 4
 },
 "nbformat": 4,
 "nbformat_minor": 2
}
