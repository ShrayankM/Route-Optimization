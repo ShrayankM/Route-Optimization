{
 "cells": [
  {
   "cell_type": "code",
   "execution_count": 35,
   "metadata": {},
   "outputs": [],
   "source": [
    "import numpy as np\n",
    "from osgeo import ogr, gdal\n",
    "import rasterio\n",
    "import json"
   ]
  },
  {
   "cell_type": "code",
   "execution_count": 36,
   "metadata": {},
   "outputs": [],
   "source": [
    "import numpy as np\n",
    "import matplotlib.pyplot as plt\n",
    "import pandas as pd\n",
    "import os.path\n",
    "import re\n",
    "\n",
    "from osgeo import gdal\n",
    "from osgeo import gdal_array\n",
    "from osgeo import osr"
   ]
  },
  {
   "cell_type": "code",
   "execution_count": 37,
   "metadata": {},
   "outputs": [],
   "source": [
    "area_cover = '/home/shrayank_mistry/Modules/project-mum-pune/mask.tif'\n",
    "area = rasterio.open(area_cover, count = 1)\n",
    "\n",
    "area = np.array(area.read(1))"
   ]
  },
  {
   "cell_type": "code",
   "execution_count": 38,
   "metadata": {},
   "outputs": [
    {
     "name": "stdout",
     "output_type": "stream",
     "text": [
      "(2721, 3610)\n"
     ]
    }
   ],
   "source": [
    "area_dem = '/home/shrayank_mistry/Modules/project-mum-pune/dem_clipped.tif'\n",
    "dem = rasterio.open(area_dem, count = 1)\n",
    "\n",
    "dem = np.array(dem.read(1))\n",
    "print(dem.shape)"
   ]
  },
  {
   "cell_type": "markdown",
   "metadata": {},
   "source": [
    "### Up-sampling/Down-sampling"
   ]
  },
  {
   "cell_type": "code",
   "execution_count": 39,
   "metadata": {},
   "outputs": [],
   "source": [
    "import rasterio\n",
    "from rasterio.enums import Resampling\n",
    "\n",
    "# whole-numbers indicate upscaling, fractions indicate downscaling\n",
    "upscale_factor = 3\n",
    "\n",
    "\n",
    "with rasterio.open('/home/shrayank_mistry/Modules/project-mum-pune/dem_clipped.tif') as dataset:\n",
    "\n",
    "    # resample data to target shape\n",
    "    data = dataset.read(\n",
    "        out_shape=(\n",
    "            dataset.count,\n",
    "            int(dataset.height * upscale_factor),\n",
    "            int(dataset.width * upscale_factor)\n",
    "        ),\n",
    "        resampling=Resampling.bilinear\n",
    "    )\n",
    "\n",
    "    # scale image transform\n",
    "    transform = dataset.transform * dataset.transform.scale(\n",
    "        (dataset.width / data.shape[-1]),\n",
    "        (dataset.height / data.shape[-2])\n",
    "    )"
   ]
  },
  {
   "cell_type": "code",
   "execution_count": 40,
   "metadata": {},
   "outputs": [
    {
     "name": "stdout",
     "output_type": "stream",
     "text": [
      "(10500, 8273)\n"
     ]
    }
   ],
   "source": [
    "area = np.swapaxes(area, 1, 0)\n",
    "print(area.shape)"
   ]
  },
  {
   "cell_type": "code",
   "execution_count": 41,
   "metadata": {},
   "outputs": [
    {
     "data": {
      "text/plain": [
       "(8163, 10830)"
      ]
     },
     "execution_count": 41,
     "metadata": {},
     "output_type": "execute_result"
    }
   ],
   "source": [
    "up_dem = data[0]\n",
    "up_dem.shape"
   ]
  },
  {
   "cell_type": "code",
   "execution_count": null,
   "metadata": {},
   "outputs": [],
   "source": [
    "org_dem_map = {}\n",
    "for i in dem:\n",
    "    for key in i:\n",
    "        org_dem_map[key] = org_dem_map.get(key, 0) + 1\n",
    "\n",
    "up_dem_map = {}\n",
    "\n",
    "for i in up_dem:\n",
    "    for key in i:\n",
    "       up_dem_map[key] = up_dem_map.get(key, 0) + 1 \n",
    "\n",
    "\n",
    "keys = up_dem_map.keys()\n",
    "\n",
    "gained_per_class = {}\n",
    "for k in keys:\n",
    "    if k in org_dem_map.keys() and k in up_dem_map.keys():\n",
    "        print((up_dem_map[k] - org_dem_map[k]))\n",
    "        gained_per_class[k] = gained_per_class.get(k, 0) + (up_dem_map[k] - org_dem_map[k])\n",
    "    "
   ]
  },
  {
   "cell_type": "code",
   "execution_count": 45,
   "metadata": {},
   "outputs": [
    {
     "name": "stdout",
     "output_type": "stream",
     "text": [
      "(10830, 8163) (10500, 8273)\n",
      "(10500, 8163) (10500, 8163)\n"
     ]
    }
   ],
   "source": [
    "dem_data, mask_data = up_dem, area\n",
    "dem_data = dem_data.T\n",
    "\n",
    "\n",
    "print(dem_data.shape, mask_data.shape)\n",
    "width, height = 10500, 8163\n",
    "\n",
    "dem_data, mask_data = dem_data[:width,:height], mask_data[:width, :height]\n",
    "print(dem_data.shape, mask_data.shape)"
   ]
  },
  {
   "cell_type": "code",
   "execution_count": 46,
   "metadata": {},
   "outputs": [],
   "source": [
    "def array2raster(newRasterfn, dataset, array, dtype):\n",
    "    \"\"\"\n",
    "    save GTiff file from numpy.array\n",
    "    input:\n",
    "        newRasterfn: save file name\n",
    "        dataset : original tif file\n",
    "        array : numpy.array\n",
    "        dtype: Byte or Float32.\n",
    "    \"\"\"\n",
    "    cols = array.shape[1]\n",
    "    rows = array.shape[0]\n",
    "    originX, pixelWidth, b, originY, d, pixelHeight = dataset.GetGeoTransform() \n",
    "\n",
    "    driver = gdal.GetDriverByName('GTiff')\n",
    "\n",
    "    # set data type to save.\n",
    "    GDT_dtype = gdal.GDT_Unknown\n",
    "    if dtype == \"Byte\": \n",
    "        GDT_dtype = gdal.GDT_Byte\n",
    "    elif dtype == \"Float32\":\n",
    "        GDT_dtype = gdal.GDT_Float32\n",
    "    elif dtype == \"Int16\":\n",
    "        GDT_dtype = gdal.GDT_Int16\n",
    "    else:\n",
    "        print(\"Not supported data type.\")\n",
    "\n",
    "    # set number of band.\n",
    "    if array.ndim == 2:\n",
    "        band_num = 1\n",
    "    else:\n",
    "        band_num = array.shape[2]\n",
    "\n",
    "    outRaster = driver.Create(newRasterfn, cols, rows, band_num, GDT_dtype)\n",
    "    outRaster.SetGeoTransform((originX, pixelWidth, 0, originY, 0, pixelHeight))\n",
    "\n",
    "    # Loop over all bands.\n",
    "    for b in range(band_num):\n",
    "        outband = outRaster.GetRasterBand(b + 1)\n",
    "        # Read in the band's data into the third dimension of our array\n",
    "        if band_num == 1:\n",
    "            outband.WriteArray(array)\n",
    "        else:\n",
    "            outband.WriteArray(array[:,:,b])\n",
    "\n",
    "    # setteing srs from input tif file.\n",
    "    prj=dataset.GetProjection()\n",
    "    outRasterSRS = osr.SpatialReference(wkt=prj)\n",
    "    outRaster.SetProjection(outRasterSRS.ExportToWkt())\n",
    "    outband.FlushCache()"
   ]
  },
  {
   "cell_type": "code",
   "execution_count": 47,
   "metadata": {},
   "outputs": [],
   "source": [
    "mask_raster = gdal.Open('/home/shrayank_mistry/Modules/project-mum-pune/raster.tif', gdal.GA_ReadOnly)\n",
    "array2raster('resized-dem.tif', mask_raster, dem_data.T, \"Int16\")"
   ]
  },
  {
   "cell_type": "code",
   "execution_count": 49,
   "metadata": {},
   "outputs": [
    {
     "name": "stdout",
     "output_type": "stream",
     "text": [
      "(8163, 10500)\n"
     ]
    }
   ],
   "source": [
    "# r_dem = '/home/shrayank_mistry/Modules/project-mum-pune/resized-dem.tif'\n",
    "# r_dem = rasterio.open(r_dem, count = 1)\n",
    "\n",
    "# r_dem = np.array(r_dem.read(1))\n",
    "# print(r_dem.shape)"
   ]
  },
  {
   "cell_type": "code",
   "execution_count": 51,
   "metadata": {},
   "outputs": [
    {
     "name": "stdout",
     "output_type": "stream",
     "text": [
      "(10500, 8163) (10500, 8163)\n"
     ]
    }
   ],
   "source": [
    "# r_dem_data = r_dem.T\n",
    "# print(mask_data.shape, r_dem_data.shape)"
   ]
  },
  {
   "cell_type": "code",
   "execution_count": 52,
   "metadata": {},
   "outputs": [
    {
     "name": "stdout",
     "output_type": "stream",
     "text": [
      "(10500, 8163) (10500, 8163)\n"
     ]
    }
   ],
   "source": [
    "print(dem_data.shape, mask_data.shape)"
   ]
  },
  {
   "cell_type": "markdown",
   "metadata": {},
   "source": [
    "### AHP Mapping"
   ]
  },
  {
   "cell_type": "code",
   "execution_count": 59,
   "metadata": {},
   "outputs": [],
   "source": [
    "ahp_map = {\n",
    "\n",
    "'urban': 0.29,\n",
    "'farms': 0.239,\n",
    "'dense-forest': 0.207,\n",
    "'water': 0.13,\n",
    "'fallow': 0.067,\n",
    "'sparse-forest': 0.049,\n",
    "'barren-land': 0.019,\n",
    "'unclassified':0\n",
    "\n",
    "}\n",
    "\n",
    "class_map = {\n",
    "\n",
    "    0: 'unclassified',\n",
    "    1: 'water',\n",
    "    2: 'dense-forest',\n",
    "    3: 'sparse-forest',\n",
    "    4: 'barren-land',\n",
    "    5: 'urban',\n",
    "    6: 'farms',\n",
    "    7: 'fallow',\n",
    "\n",
    "}\n"
   ]
  },
  {
   "cell_type": "code",
   "execution_count": 60,
   "metadata": {},
   "outputs": [],
   "source": [
    "from copy import deepcopy\n",
    "mask_copy = deepcopy(mask_data)"
   ]
  },
  {
   "cell_type": "code",
   "execution_count": 75,
   "metadata": {},
   "outputs": [],
   "source": [
    "def set_weights(c):\n",
    "    c_str = class_map.get(c)\n",
    "    return ahp_map[c_str]"
   ]
  },
  {
   "cell_type": "code",
   "execution_count": 76,
   "metadata": {},
   "outputs": [],
   "source": [
    "set_weights_vtr = np.vectorize(set_weights)\n",
    "mask_copy = set_weights_vtr(mask_copy)"
   ]
  },
  {
   "cell_type": "code",
   "execution_count": 77,
   "metadata": {},
   "outputs": [
    {
     "data": {
      "text/plain": [
       "(array([0.   , 0.019, 0.049, 0.067, 0.13 , 0.207, 0.239, 0.29 ]),\n",
       " array([     588, 19822048, 17097029, 28893954,  7807154,  3858436,\n",
       "         5940554,  2291737]))"
      ]
     },
     "execution_count": 77,
     "metadata": {},
     "output_type": "execute_result"
    }
   ],
   "source": [
    "np.unique(mask_copy, return_counts = True)"
   ]
  },
  {
   "cell_type": "code",
   "execution_count": 78,
   "metadata": {},
   "outputs": [
    {
     "data": {
      "text/plain": [
       "(array([0, 1, 2, 3, 4, 5, 6, 7], dtype=int16),\n",
       " array([     588,  7807154,  3858436, 17097029, 19822048,  2291737,\n",
       "         5940554, 28893954]))"
      ]
     },
     "execution_count": 78,
     "metadata": {},
     "output_type": "execute_result"
    }
   ],
   "source": [
    "np.unique(mask_data, return_counts = True)"
   ]
  },
  {
   "cell_type": "code",
   "execution_count": 81,
   "metadata": {},
   "outputs": [],
   "source": [
    "array2raster('weight-mask.tif', mask_raster, mask_copy.T, \"Float32\")"
   ]
  },
  {
   "cell_type": "markdown",
   "metadata": {},
   "source": [
    "### Read GeoJson File"
   ]
  },
  {
   "cell_type": "code",
   "execution_count": 100,
   "metadata": {},
   "outputs": [
    {
     "name": "stdout",
     "output_type": "stream",
     "text": [
      "3\n"
     ]
    }
   ],
   "source": [
    "import json\n",
    "\n",
    "path = '/home/shrayank_mistry/Modules/project-mum-pune/main_road.geojson'\n",
    "\n",
    "with open(path) as f:\n",
    "    data = json.load(f)\n",
    "\n",
    "points = []\n",
    "for feature in data['features']:\n",
    "    points = feature['geometry']['coordinates']\n",
    "    print(len(feature['geometry']['coordinates']))"
   ]
  },
  {
   "cell_type": "code",
   "execution_count": 123,
   "metadata": {},
   "outputs": [
    {
     "name": "stdout",
     "output_type": "stream",
     "text": [
      "(3,)\n"
     ]
    }
   ],
   "source": [
    "pts_arr = np.array(points)\n",
    "print(pts_arr.shape)"
   ]
  },
  {
   "cell_type": "markdown",
   "metadata": {},
   "source": [
    "### Find Distance"
   ]
  },
  {
   "cell_type": "code",
   "execution_count": 103,
   "metadata": {},
   "outputs": [],
   "source": [
    "import pandas as pd\n",
    "import numpy as np\n",
    "import math\n",
    "import json\n",
    "import glob"
   ]
  },
  {
   "cell_type": "code",
   "execution_count": 236,
   "metadata": {},
   "outputs": [],
   "source": [
    "def deg2rad(deg):\n",
    "    return (deg * (math.pi/180))\n",
    "\n",
    "def get_distance(p, q):\n",
    "    # lat1, lon1 = p\n",
    "    # lat2, lon2 = q\n",
    "\n",
    "    lon1, lat1 = p\n",
    "    lon2, lat2 = q\n",
    "    #const [lat1, lon1] = pair1, [lat2, lon2] = pair2;\n",
    "    #const R = 6371; // Radius of the earth in km.\n",
    "\n",
    "    R = 6371\n",
    "\n",
    "    dLat = deg2rad(lat2 - lat1)\n",
    "    dLon = deg2rad(lon2 - lon1)\n",
    "    a = math.sin(dLat/2) * math.sin(dLat/2) + math.cos(deg2rad(lat1)) * math.cos(deg2rad(lat2)) * math.sin(dLon/2) * math.sin(dLon/2);\n",
    "    c = 2 * math.atan2(math.sqrt(a), math.sqrt(1 - a));\n",
    "\n",
    "    return R * c\n",
    "\n",
    "def find_distance(file_name):\n",
    "    f = open(file_name)\n",
    "    data = json.load(f)\n",
    " \n",
    "\n",
    "    points = []\n",
    "    for feature in data['features']:\n",
    "        points = feature['geometry']['coordinates']\n",
    "        print(len(feature['geometry']['coordinates']))\n",
    "    \n",
    "    points = np.array(points)\n",
    "\n",
    "    # print(points[1])\n",
    "\n",
    "    distance = 0\n",
    "    # for k in range(len(points)):\n",
    "    for i in range(1, len(points[1])):\n",
    "        p = points[1][i - 1]\n",
    "        q = points[1][i]\n",
    "\n",
    "\n",
    "        #distance += math.sqrt(math.pow((p[0] - q[0]), 2) + math.pow((p[1] - q[1]), 2))\n",
    "        distance += get_distance(p, q)\n",
    "    return distance"
   ]
  },
  {
   "cell_type": "code",
   "execution_count": 237,
   "metadata": {},
   "outputs": [
    {
     "name": "stdout",
     "output_type": "stream",
     "text": [
      "3\n",
      "Distance = 94.45558087050145 Kms\n"
     ]
    }
   ],
   "source": [
    "index = 0\n",
    "path = '/home/shrayank_mistry/Modules/project-mum-pune/route-files/'\n",
    "files = glob.glob('/home/shrayank_mistry/Modules/project-mum-pune/route-files/*.geojson')\n",
    "# print(files)\n",
    "for f in files:\n",
    "    dist = find_distance(f)\n",
    "    # name = files[index].split('.')[0].title()\n",
    "    print(f'Distance = {dist} Kms')\n",
    "    # index = index + 1"
   ]
  },
  {
   "cell_type": "code",
   "execution_count": 233,
   "metadata": {},
   "outputs": [],
   "source": [
    "def deg2rad(deg):\n",
    "    return (deg * (math.pi/180))\n",
    "\n",
    "def get_distance(p, q):\n",
    "    lat1, lon1 = p\n",
    "    lat2, lon2 = q\n",
    "    #const [lat1, lon1] = pair1, [lat2, lon2] = pair2;\n",
    "    #const R = 6371; // Radius of the earth in km.\n",
    "\n",
    "    R = 6371\n",
    "\n",
    "    dLat = deg2rad(lat2 - lat1)\n",
    "    dLon = deg2rad(lon2 - lon1)\n",
    "    a = math.sin(dLat/2) * math.sin(dLat/2) + math.cos(deg2rad(lat1)) * math.cos(deg2rad(lat2)) * math.sin(dLon/2) * math.sin(dLon/2);\n",
    "    c = 2 * math.atan2(math.sqrt(a), math.sqrt(1 - a));\n",
    "\n",
    "    return R * c\n",
    "\n",
    "t_data = None\n",
    "def find_distance(file_name):\n",
    "    f = open(file_name)\n",
    "    data = json.load(f)\n",
    "\n",
    "    t_data = data\n",
    "    # print()\n",
    "\n",
    "    i = 2\n",
    "    distance = 0\n",
    "    while (data['elements'][i].get('type') == 'node'):\n",
    "        p = [data['elements'][i - 1]['lat'], data['elements'][i - 1]['lon']] \n",
    "        q = [data['elements'][i]['lat'], data['elements'][i]['lon']] \n",
    "        i = i + 1\n",
    "\n",
    "        distance += get_distance(p, q)\n",
    "        # print('Works')\n",
    "    \n",
    "    # print(i)\n",
    " \n",
    "\n",
    "    # points = []\n",
    "    # for feature in data['features']:\n",
    "    #     points = feature['geometry']['coordinates']\n",
    "    #     print(len(feature['geometry']['coordinates']))\n",
    "    \n",
    "    # points = np.array(points)\n",
    "\n",
    "    # # print(points[1])\n",
    "\n",
    "    # # for k in range(len(points)):\n",
    "    # for i in range(1, len(points[1])):\n",
    "    #     p = points[1][i - 1]\n",
    "    #     q = points[1][i]\n",
    "\n",
    "\n",
    "    #     #distance += math.sqrt(math.pow((p[0] - q[0]), 2) + math.pow((p[1] - q[1]), 2))\n",
    "    #     distance += get_distance(p, q)\n",
    "    return distance"
   ]
  },
  {
   "cell_type": "code",
   "execution_count": 234,
   "metadata": {},
   "outputs": [
    {
     "name": "stdout",
     "output_type": "stream",
     "text": [
      "Distance = 573.3602491352607 Kms\n"
     ]
    }
   ],
   "source": [
    "index = 0\n",
    "path = '/home/shrayank_mistry/Modules/project-mum-pune/route-files/'\n",
    "files = glob.glob('/home/shrayank_mistry/Modules/project-mum-pune/route-files/*.json')\n",
    "# print(files)\n",
    "for f in files:\n",
    "    dist = find_distance(f)\n",
    "    # name = files[index].split('.')[0].title()\n",
    "    print(f'Distance = {dist} Kms')\n",
    "    # index = index + 1"
   ]
  },
  {
   "cell_type": "code",
   "execution_count": 192,
   "metadata": {},
   "outputs": [],
   "source": []
  },
  {
   "cell_type": "code",
   "execution_count": null,
   "metadata": {},
   "outputs": [],
   "source": []
  }
 ],
 "metadata": {
  "interpreter": {
   "hash": "41753c86ab29c83d5a6940432db1264110c228305d3d5eb7da716c156c110c5d"
  },
  "kernelspec": {
   "display_name": "Python 3.6.9 64-bit ('virtualenv': venv)",
   "language": "python",
   "name": "python3"
  },
  "language_info": {
   "codemirror_mode": {
    "name": "ipython",
    "version": 3
   },
   "file_extension": ".py",
   "mimetype": "text/x-python",
   "name": "python",
   "nbconvert_exporter": "python",
   "pygments_lexer": "ipython3",
   "version": "3.6.9"
  },
  "orig_nbformat": 4
 },
 "nbformat": 4,
 "nbformat_minor": 2
}
