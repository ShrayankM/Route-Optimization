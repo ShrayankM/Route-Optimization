{
 "cells": [
  {
   "cell_type": "code",
   "execution_count": 45,
   "metadata": {},
   "outputs": [],
   "source": [
    "from glob import glob\n",
    "import rasterio\n",
    "import numpy as np\n",
    "import itertools"
   ]
  },
  {
   "cell_type": "code",
   "execution_count": 46,
   "metadata": {},
   "outputs": [],
   "source": [
    "imagePath = '/home/shrayank_mistry/Modules/OIF Calculation/Images/'\n",
    "bands = glob(imagePath+'*B*.jp2')\n",
    "bands.sort()"
   ]
  },
  {
   "cell_type": "code",
   "execution_count": 83,
   "metadata": {},
   "outputs": [],
   "source": [
    "band_model = ['02', '03', '04', '05', '06', '07', '11', '12', '8A']\n",
    "band_numbers = [0, 1, 2, 3, 4, 5, 6, 7, 8]"
   ]
  },
  {
   "cell_type": "markdown",
   "metadata": {},
   "source": [
    "# Calculating Variance of each band"
   ]
  },
  {
   "cell_type": "code",
   "execution_count": 49,
   "metadata": {},
   "outputs": [
    {
     "name": "stderr",
     "output_type": "stream",
     "text": [
      "/home/shrayank_mistry/Modules/virtualenv/lib/python3.6/site-packages/ipykernel_launcher.py:10: RuntimeWarning: overflow encountered in ulong_scalars\n",
      "  # Remove the CWD from sys.path while we load stuff.\n"
     ]
    }
   ],
   "source": [
    "variance_bands = []\n",
    "for img in bands:\n",
    "    with rasterio.open(img, 'r') as f:\n",
    "        arr = np.array(f.read(1))\n",
    "        N = arr.shape[0] * arr.shape[1]\n",
    "        a = np.multiply(arr, arr)\n",
    "        a = np.sum(a)\n",
    "        a = a / N\n",
    "\n",
    "        b = np.sum(arr) * np.sum(arr)\n",
    "        b = b / (N * N)\n",
    "        variance_bands.append(a - b)"
   ]
  },
  {
   "cell_type": "code",
   "execution_count": 50,
   "metadata": {},
   "outputs": [
    {
     "data": {
      "text/plain": [
       "[20371.304029253755,\n",
       " 30154.93895825586,\n",
       " 19750.417150034882,\n",
       " 26103.537382046605,\n",
       " 27699.754209613748,\n",
       " 27803.636691173182,\n",
       " 32494.812155909032,\n",
       " 25867.83243001975,\n",
       " 26011.627844344097]"
      ]
     },
     "execution_count": 50,
     "metadata": {},
     "output_type": "execute_result"
    }
   ],
   "source": [
    "variance_bands"
   ]
  },
  {
   "cell_type": "markdown",
   "metadata": {},
   "source": [
    "# Calculate Covariance matrix"
   ]
  },
  {
   "cell_type": "code",
   "execution_count": 51,
   "metadata": {},
   "outputs": [],
   "source": [
    "def findsubsets(s, n):\n",
    "    return list(itertools.combinations(s, n))"
   ]
  },
  {
   "cell_type": "code",
   "execution_count": 52,
   "metadata": {},
   "outputs": [],
   "source": [
    "bands_combi_2 = findsubsets(band_numbers, 2)"
   ]
  },
  {
   "cell_type": "code",
   "execution_count": 64,
   "metadata": {},
   "outputs": [],
   "source": [
    "covariance_bands = []\n",
    "for b in bands_combi_2:\n",
    "    b1, b2 = None, None\n",
    "    with rasterio.open(bands[b[0]], 'r') as f:\n",
    "        b1 = np.array(f.read(1))\n",
    "    \n",
    "    with rasterio.open(bands[b[1]], 'r') as f:\n",
    "        b2 = np.array(f.read(1))\n",
    "    \n",
    "    N = b1.shape[0] * b1.shape[1]\n",
    "\n",
    "    a = np.multiply(b1, b2)\n",
    "    a = np.sum(a)\n",
    "    a = a / N\n",
    "\n",
    "    b = np.sum(b1) / N\n",
    "    c = np.sum(b2) / N\n",
    "\n",
    "    covariance_bands.append(a - (b * c))\n"
   ]
  },
  {
   "cell_type": "markdown",
   "metadata": {},
   "source": [
    "# Calculate Correlation Matrix"
   ]
  },
  {
   "cell_type": "code",
   "execution_count": 67,
   "metadata": {},
   "outputs": [],
   "source": [
    "import math"
   ]
  },
  {
   "cell_type": "code",
   "execution_count": 77,
   "metadata": {},
   "outputs": [],
   "source": [
    "correlation_bands = np.zeros((len(bands_combi_2), len(bands_combi_2)))\n",
    "i = 0\n",
    "for b in bands_combi_2:\n",
    "    b1, b2 = b\n",
    "    correlation_bands[b1][b2] = covariance_bands[i] / math.sqrt(variance_bands[b1] * variance_bands[b2])\n",
    "    i = i + 1"
   ]
  },
  {
   "cell_type": "code",
   "execution_count": 78,
   "metadata": {},
   "outputs": [],
   "source": [
    "std_bands = np.sqrt(variance_bands)"
   ]
  },
  {
   "cell_type": "code",
   "execution_count": 85,
   "metadata": {},
   "outputs": [
    {
     "data": {
      "text/plain": [
       "array([142.72807723, 173.65177499, 140.53617737, 161.56589177,\n",
       "       166.43243136, 166.74422536, 180.26317471, 160.83479857,\n",
       "       161.28120735])"
      ]
     },
     "execution_count": 85,
     "metadata": {},
     "output_type": "execute_result"
    }
   ],
   "source": [
    "std_bands"
   ]
  },
  {
   "cell_type": "code",
   "execution_count": 81,
   "metadata": {},
   "outputs": [],
   "source": [
    "bands_combi_3 = findsubsets(band_numbers, 3)"
   ]
  },
  {
   "cell_type": "code",
   "execution_count": 87,
   "metadata": {},
   "outputs": [
    {
     "name": "stdout",
     "output_type": "stream",
     "text": [
      "OIF [Band Models = (02, 03, 04)] = 4.563241049321775\n",
      "OIF [Band Models = (02, 03, 05)] = 4.235337150279519\n",
      "OIF [Band Models = (02, 03, 06)] = 3.491869138095041\n",
      "OIF [Band Models = (02, 03, 07)] = 3.221795222973473\n",
      "OIF [Band Models = (02, 03, 11)] = 3.001004266764592\n",
      "OIF [Band Models = (02, 03, 12)] = 3.3603166142599155\n",
      "OIF [Band Models = (02, 03, 8A)] = 2.8368519317613328\n",
      "OIF [Band Models = (02, 04, 05)] = 2.9356749095730668\n",
      "OIF [Band Models = (02, 04, 06)] = 2.440594923602215\n",
      "OIF [Band Models = (02, 04, 07)] = 2.2578316967853373\n",
      "OIF [Band Models = (02, 04, 11)] = 2.1138169546311314\n",
      "OIF [Band Models = (02, 04, 12)] = 2.348554569256499\n",
      "OIF [Band Models = (02, 04, 8A)] = 1.9929908460802226\n",
      "OIF [Band Models = (02, 05, 06)] = 2.2922005182944187\n",
      "OIF [Band Models = (02, 05, 07)] = 2.122660298408405\n",
      "OIF [Band Models = (02, 05, 11)] = 1.987219349554122\n",
      "OIF [Band Models = (02, 05, 12)] = 2.2075820476962056\n",
      "OIF [Band Models = (02, 05, 8A)] = 1.8770855712343382\n",
      "OIF [Band Models = (02, 06, 07)] = 1.7782057575741448\n",
      "OIF [Band Models = (02, 06, 11)] = 1.6669844725482126\n",
      "OIF [Band Models = (02, 06, 12)] = 1.8477912045387022\n",
      "OIF [Band Models = (02, 06, 8A)] = 1.5753436076928398\n",
      "OIF [Band Models = (02, 07, 11)] = 1.5473252008510705\n",
      "OIF [Band Models = (02, 07, 12)] = 1.7136542690023215\n",
      "OIF [Band Models = (02, 07, 8A)] = 1.462342791815051\n",
      "OIF [Band Models = (02, 11, 12)] = 1.6072388957309958\n",
      "OIF [Band Models = (02, 11, 8A)] = 1.3730401753845427\n",
      "OIF [Band Models = (02, 12, 8A)] = 1.5182064174103584\n",
      "OIF [Band Models = (03, 04, 05)] = 2.8120777135145287\n",
      "OIF [Band Models = (03, 04, 06)] = 2.3513148379100572\n",
      "OIF [Band Models = (03, 04, 07)] = 2.1800125746806662\n",
      "OIF [Band Models = (03, 04, 11)] = 2.0424984516891396\n",
      "OIF [Band Models = (03, 04, 12)] = 2.2659492664762646\n",
      "OIF [Band Models = (03, 04, 8A)] = 1.9313292258554704\n",
      "OIF [Band Models = (03, 05, 06)] = 2.2129661476887392\n",
      "OIF [Band Models = (03, 05, 07)] = 2.053955480405509\n",
      "OIF [Band Models = (03, 05, 11)] = 1.924782792957894\n",
      "OIF [Band Models = (03, 05, 12)] = 2.134335975848199\n",
      "OIF [Band Models = (03, 05, 8A)] = 1.8230665291272263\n",
      "OIF [Band Models = (03, 06, 07)] = 1.7321436713438265\n",
      "OIF [Band Models = (03, 06, 11)] = 1.6257541051509423\n",
      "OIF [Band Models = (03, 06, 12)] = 1.7982068175335524\n",
      "OIF [Band Models = (03, 06, 8A)] = 1.5406190202988936\n",
      "OIF [Band Models = (03, 07, 11)] = 1.5130012801002204\n",
      "OIF [Band Models = (03, 07, 12)] = 1.6718315556987415\n",
      "OIF [Band Models = (03, 07, 8A)] = 1.4338864695567242\n",
      "OIF [Band Models = (03, 11, 12)] = 1.569890366998526\n",
      "OIF [Band Models = (03, 11, 8A)] = 1.3481410342628095\n",
      "OIF [Band Models = (03, 12, 8A)] = 1.4871150548298342\n",
      "OIF [Band Models = (04, 05, 06)] = 1.6326045341912299\n",
      "OIF [Band Models = (04, 05, 07)] = 1.5219675766979635\n",
      "OIF [Band Models = (04, 05, 11)] = 1.4359762161196903\n",
      "OIF [Band Models = (04, 05, 12)] = 1.5756605608532201\n",
      "OIF [Band Models = (04, 05, 8A)] = 1.3575824843986102\n",
      "OIF [Band Models = (04, 06, 07)] = 1.3029209594724434\n",
      "OIF [Band Models = (04, 06, 11)] = 1.2320067875326834\n",
      "OIF [Band Models = (04, 06, 12)] = 1.347102719632376\n",
      "OIF [Band Models = (04, 06, 8A)] = 1.1655860962199727\n",
      "OIF [Band Models = (04, 07, 11)] = 1.1528523412924527\n",
      "OIF [Band Models = (04, 07, 12)] = 1.2587953622446202\n",
      "OIF [Band Models = (04, 07, 8A)] = 1.0908554534723105\n",
      "OIF [Band Models = (04, 11, 12)] = 1.1910071550532892\n",
      "OIF [Band Models = (04, 11, 8A)] = 1.0339445076724876\n",
      "OIF [Band Models = (04, 12, 8A)] = 1.1263214802398864\n",
      "OIF [Band Models = (05, 06, 07)] = 1.2501666642812679\n",
      "OIF [Band Models = (05, 06, 11)] = 1.1831185544736564\n",
      "OIF [Band Models = (05, 06, 12)] = 1.291732763120269\n",
      "OIF [Band Models = (05, 06, 8A)] = 1.1215065994378832\n",
      "OIF [Band Models = (05, 07, 11)] = 1.1091751218963253\n",
      "OIF [Band Models = (05, 07, 12)] = 1.2091457633711171\n",
      "OIF [Band Models = (05, 07, 8A)] = 1.0515887018178214\n",
      "OIF [Band Models = (05, 11, 12)] = 1.1450013115343234\n",
      "OIF [Band Models = (05, 11, 8A)] = 0.9977521205981796\n",
      "OIF [Band Models = (05, 12, 8A)] = 1.0849677308801147\n",
      "OIF [Band Models = (06, 07, 11)] = 0.9668028422197537\n",
      "OIF [Band Models = (06, 07, 12)] = 1.0488782462142234\n",
      "OIF [Band Models = (06, 07, 8A)] = 0.9174233928435686\n",
      "OIF [Band Models = (06, 11, 12)] = 0.996136681074842\n",
      "OIF [Band Models = (06, 11, 8A)] = 0.8733027237712709\n",
      "OIF [Band Models = (06, 12, 8A)] = 0.9447300118799014\n",
      "OIF [Band Models = (07, 11, 12)] = 0.9370451646532046\n",
      "OIF [Band Models = (07, 11, 8A)] = 0.8233615943058845\n",
      "OIF [Band Models = (07, 12, 8A)] = 0.8888759749001243\n",
      "OIF [Band Models = (11, 12, 8A)] = 0.8467518951379259\n"
     ]
    }
   ],
   "source": [
    "oif_history = []\n",
    "for b in bands_combi_3:\n",
    "    b1, b2, b3 = b\n",
    "    x, y, z = correlation_bands[b1][b2], correlation_bands[b1][b3], correlation_bands[b2][b3], \n",
    "    oif = (std_bands[b1] + std_bands[b2] + std_bands[b3]) / (np.abs(x) + np.abs(y) + np.abs(z))\n",
    "    oif_history.append(f'OIF [Band Models = ({band_model[b1]}, {band_model[b2]}, {band_model[b3]})] = {oif}')\n",
    "    print(f'OIF [Band Models = ({band_model[b1]}, {band_model[b2]}, {band_model[b3]})] = {oif}')"
   ]
  },
  {
   "cell_type": "code",
   "execution_count": 88,
   "metadata": {},
   "outputs": [
    {
     "name": "stdout",
     "output_type": "stream",
     "text": [
      "['OIF [Band Models = (02, 03, 04)] = 4.563241049321775', 'OIF [Band Models = (02, 03, 05)] = 4.235337150279519', 'OIF [Band Models = (02, 03, 06)] = 3.491869138095041', 'OIF [Band Models = (02, 03, 07)] = 3.221795222973473', 'OIF [Band Models = (02, 03, 11)] = 3.001004266764592', 'OIF [Band Models = (02, 03, 12)] = 3.3603166142599155', 'OIF [Band Models = (02, 03, 8A)] = 2.8368519317613328', 'OIF [Band Models = (02, 04, 05)] = 2.9356749095730668', 'OIF [Band Models = (02, 04, 06)] = 2.440594923602215', 'OIF [Band Models = (02, 04, 07)] = 2.2578316967853373', 'OIF [Band Models = (02, 04, 11)] = 2.1138169546311314', 'OIF [Band Models = (02, 04, 12)] = 2.348554569256499', 'OIF [Band Models = (02, 04, 8A)] = 1.9929908460802226', 'OIF [Band Models = (02, 05, 06)] = 2.2922005182944187', 'OIF [Band Models = (02, 05, 07)] = 2.122660298408405', 'OIF [Band Models = (02, 05, 11)] = 1.987219349554122', 'OIF [Band Models = (02, 05, 12)] = 2.2075820476962056', 'OIF [Band Models = (02, 05, 8A)] = 1.8770855712343382', 'OIF [Band Models = (02, 06, 07)] = 1.7782057575741448', 'OIF [Band Models = (02, 06, 11)] = 1.6669844725482126', 'OIF [Band Models = (02, 06, 12)] = 1.8477912045387022', 'OIF [Band Models = (02, 06, 8A)] = 1.5753436076928398', 'OIF [Band Models = (02, 07, 11)] = 1.5473252008510705', 'OIF [Band Models = (02, 07, 12)] = 1.7136542690023215', 'OIF [Band Models = (02, 07, 8A)] = 1.462342791815051', 'OIF [Band Models = (02, 11, 12)] = 1.6072388957309958', 'OIF [Band Models = (02, 11, 8A)] = 1.3730401753845427', 'OIF [Band Models = (02, 12, 8A)] = 1.5182064174103584', 'OIF [Band Models = (03, 04, 05)] = 2.8120777135145287', 'OIF [Band Models = (03, 04, 06)] = 2.3513148379100572', 'OIF [Band Models = (03, 04, 07)] = 2.1800125746806662', 'OIF [Band Models = (03, 04, 11)] = 2.0424984516891396', 'OIF [Band Models = (03, 04, 12)] = 2.2659492664762646', 'OIF [Band Models = (03, 04, 8A)] = 1.9313292258554704', 'OIF [Band Models = (03, 05, 06)] = 2.2129661476887392', 'OIF [Band Models = (03, 05, 07)] = 2.053955480405509', 'OIF [Band Models = (03, 05, 11)] = 1.924782792957894', 'OIF [Band Models = (03, 05, 12)] = 2.134335975848199', 'OIF [Band Models = (03, 05, 8A)] = 1.8230665291272263', 'OIF [Band Models = (03, 06, 07)] = 1.7321436713438265', 'OIF [Band Models = (03, 06, 11)] = 1.6257541051509423', 'OIF [Band Models = (03, 06, 12)] = 1.7982068175335524', 'OIF [Band Models = (03, 06, 8A)] = 1.5406190202988936', 'OIF [Band Models = (03, 07, 11)] = 1.5130012801002204', 'OIF [Band Models = (03, 07, 12)] = 1.6718315556987415', 'OIF [Band Models = (03, 07, 8A)] = 1.4338864695567242', 'OIF [Band Models = (03, 11, 12)] = 1.569890366998526', 'OIF [Band Models = (03, 11, 8A)] = 1.3481410342628095', 'OIF [Band Models = (03, 12, 8A)] = 1.4871150548298342', 'OIF [Band Models = (04, 05, 06)] = 1.6326045341912299', 'OIF [Band Models = (04, 05, 07)] = 1.5219675766979635', 'OIF [Band Models = (04, 05, 11)] = 1.4359762161196903', 'OIF [Band Models = (04, 05, 12)] = 1.5756605608532201', 'OIF [Band Models = (04, 05, 8A)] = 1.3575824843986102', 'OIF [Band Models = (04, 06, 07)] = 1.3029209594724434', 'OIF [Band Models = (04, 06, 11)] = 1.2320067875326834', 'OIF [Band Models = (04, 06, 12)] = 1.347102719632376', 'OIF [Band Models = (04, 06, 8A)] = 1.1655860962199727', 'OIF [Band Models = (04, 07, 11)] = 1.1528523412924527', 'OIF [Band Models = (04, 07, 12)] = 1.2587953622446202', 'OIF [Band Models = (04, 07, 8A)] = 1.0908554534723105', 'OIF [Band Models = (04, 11, 12)] = 1.1910071550532892', 'OIF [Band Models = (04, 11, 8A)] = 1.0339445076724876', 'OIF [Band Models = (04, 12, 8A)] = 1.1263214802398864', 'OIF [Band Models = (05, 06, 07)] = 1.2501666642812679', 'OIF [Band Models = (05, 06, 11)] = 1.1831185544736564', 'OIF [Band Models = (05, 06, 12)] = 1.291732763120269', 'OIF [Band Models = (05, 06, 8A)] = 1.1215065994378832', 'OIF [Band Models = (05, 07, 11)] = 1.1091751218963253', 'OIF [Band Models = (05, 07, 12)] = 1.2091457633711171', 'OIF [Band Models = (05, 07, 8A)] = 1.0515887018178214', 'OIF [Band Models = (05, 11, 12)] = 1.1450013115343234', 'OIF [Band Models = (05, 11, 8A)] = 0.9977521205981796', 'OIF [Band Models = (05, 12, 8A)] = 1.0849677308801147', 'OIF [Band Models = (06, 07, 11)] = 0.9668028422197537', 'OIF [Band Models = (06, 07, 12)] = 1.0488782462142234', 'OIF [Band Models = (06, 07, 8A)] = 0.9174233928435686', 'OIF [Band Models = (06, 11, 12)] = 0.996136681074842', 'OIF [Band Models = (06, 11, 8A)] = 0.8733027237712709', 'OIF [Band Models = (06, 12, 8A)] = 0.9447300118799014', 'OIF [Band Models = (07, 11, 12)] = 0.9370451646532046', 'OIF [Band Models = (07, 11, 8A)] = 0.8233615943058845', 'OIF [Band Models = (07, 12, 8A)] = 0.8888759749001243', 'OIF [Band Models = (11, 12, 8A)] = 0.8467518951379259']\n"
     ]
    }
   ],
   "source": [
    "print(oif_history)"
   ]
  },
  {
   "cell_type": "code",
   "execution_count": null,
   "metadata": {},
   "outputs": [],
   "source": []
  }
 ],
 "metadata": {
  "interpreter": {
   "hash": "31f2aee4e71d21fbe5cf8b01ff0e069b9275f58929596ceb00d14d90e3e16cd6"
  },
  "kernelspec": {
   "display_name": "Python 3.6.9 64-bit",
   "language": "python",
   "name": "python3"
  },
  "language_info": {
   "codemirror_mode": {
    "name": "ipython",
    "version": 3
   },
   "file_extension": ".py",
   "mimetype": "text/x-python",
   "name": "python",
   "nbconvert_exporter": "python",
   "pygments_lexer": "ipython3",
   "version": "3.6.9"
  },
  "orig_nbformat": 4
 },
 "nbformat": 4,
 "nbformat_minor": 2
}
