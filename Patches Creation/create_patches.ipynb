{
 "cells": [
  {
   "cell_type": "code",
   "execution_count": 47,
   "metadata": {},
   "outputs": [],
   "source": [
    "from osgeo import ogr, gdal\n",
    "import os\n",
    "import subprocess\n",
    "import rasterio"
   ]
  },
  {
   "cell_type": "code",
   "execution_count": 48,
   "metadata": {},
   "outputs": [],
   "source": [
    "image_path = '/home/shrayank_mistry/Modules/data/raster.tif' \n",
    "mask_path  = '/home/shrayank_mistry/Modules/data/mask.tif'"
   ]
  },
  {
   "cell_type": "code",
   "execution_count": 49,
   "metadata": {},
   "outputs": [
    {
     "name": "stdout",
     "output_type": "stream",
     "text": [
      "BoundingBox(left=300000.0, bottom=1890240.0, right=409800.0, top=2100000.0)\n",
      "300000.0 2100000.0 300000.0 2100000.0\n"
     ]
    }
   ],
   "source": [
    "data = rasterio.open(image_path)\n",
    "print(data.bounds)\n",
    "\n",
    "extent = data.bounds\n",
    "\n",
    "col_add, row_add = 2560, 2560\n",
    "col_sub, row_sub = 2000, 2000\n",
    "\n",
    "left, bottom, right, top = extent[0], extent[3], extent[0], extent[3]\n",
    "print(left, bottom, right, top)"
   ]
  },
  {
   "cell_type": "code",
   "execution_count": 50,
   "metadata": {},
   "outputs": [],
   "source": [
    "right_limit = right\n",
    "bottom_limit = bottom"
   ]
  },
  {
   "cell_type": "code",
   "execution_count": 51,
   "metadata": {},
   "outputs": [],
   "source": [
    "raster_patches = '/home/shrayank_mistry/Modules/data/raster_patches/'\n",
    "mask_patches = '/home/shrayank_mistry/Modules/data/mask_patches/' "
   ]
  },
  {
   "cell_type": "markdown",
   "metadata": {},
   "source": [
    "### Creating Raster Patches"
   ]
  },
  {
   "cell_type": "code",
   "execution_count": 57,
   "metadata": {},
   "outputs": [],
   "source": [
    "p = 1\n",
    "for i in range(81):\n",
    "    for j in range(185):\n",
    "\n",
    "        if j == 0:\n",
    "            l, r = left + (col_add * j), right + (col_add * (j + 1))\n",
    "        \n",
    "        if j > 0:\n",
    "            # l, r = left + (col_add * j) - (col_sub * j), right + (col_add * (j + 1)) - (col_sub * (j + 1))\n",
    "            # l, r = l + (col_add * j) - col_sub, r + (col_add * (j + 1)) - col_sub\n",
    "            l, r = l + col_add - col_sub, r + col_add - col_sub\n",
    "        \n",
    "        b, t = bottom - (row_add * i), top - (row_add * (i + 1))\n",
    "    \n",
    "        \n",
    "        cmd = f'gdal_translate -projwin {l} {b} {r} {t} -of GTiff {image_path} {raster_patches}{p}.tif'\n",
    "        subprocess.call(cmd.split())\n",
    "        p = p + 1"
   ]
  },
  {
   "cell_type": "code",
   "execution_count": 45,
   "metadata": {},
   "outputs": [],
   "source": [
    "# p = 1\n",
    "# for i in range(80):\n",
    "#     for j in range(40):\n",
    "#         l, b, r, t = left + (col_add * j), bottom - (row_add * i), right + (col_add * (j + 1)), top - (row_add * (i + 1))\n",
    "\n",
    "#         # if j == 0:\n",
    "#         #     l, b, r, t = left + (col_add * j), bottom - (row_add * i), right + (col_add * (j + 1)), top - (row_add * (i + 1))\n",
    "#         # else:\n",
    "#         #     l, b, r, t = left + (col_add * j), bottom - (row_add * i), right + (col_add * (j + 1)), top - (row_add * (i + 1))\n",
    "\n",
    "#         # if r >= right_limit:\n",
    "#         #     continue\n",
    "\n",
    "#         # cmd = f'gdal_translate -projwin {l} {b} {r} {t} -of GTiff {image_path} {raster_patches}C_{p}.tif'\n",
    "#         cmd = f'gdal_translate -projwin {l} {b} {r} {t} -of GTiff {image_path} {raster_patches}{p}.tif'\n",
    "\n",
    "#         subprocess.call(cmd.split())\n",
    "#         p = p + 1\n",
    "\n",
    "# for itr in range(10):\n",
    "#     for i in range(10):\n",
    "#         for j in range(1):\n",
    "#             l, b, r, t = left + (col_add * j), bottom - (row_add * i), right + (col_add * (j + 1)), top - (row_add * (i + 1))\n",
    "\n",
    "#             # if j == 0:\n",
    "#             #     l, b, r, t = left + (col_add * j), bottom - (row_add * i), right + (col_add * (j + 1)), top - (row_add * (i + 1))\n",
    "#             # else:\n",
    "#             #     l, b, r, t = left + (col_add * j), bottom - (row_add * i), right + (col_add * (j + 1)), top - (row_add * (i + 1))\n",
    "\n",
    "#             # if r >= right_limit:\n",
    "#             #     continue\n",
    "\n",
    "#             cmd = f'gdal_translate -projwin {l} {b} {r} {t} -of GTiff {image_path} {raster_patches}C_{itr + 1}.tif'\n",
    "\n",
    "#             subprocess.call(cmd.split())\n"
   ]
  },
  {
   "cell_type": "markdown",
   "metadata": {},
   "source": [
    "### Creating Mask Patches"
   ]
  },
  {
   "cell_type": "code",
   "execution_count": 46,
   "metadata": {},
   "outputs": [
    {
     "ename": "KeyboardInterrupt",
     "evalue": "",
     "output_type": "error",
     "traceback": [
      "\u001b[0;31m---------------------------------------------------------------------------\u001b[0m",
      "\u001b[0;31mKeyboardInterrupt\u001b[0m                         Traceback (most recent call last)",
      "\u001b[0;32m<ipython-input-46-d53a745a8976>\u001b[0m in \u001b[0;36m<module>\u001b[0;34m\u001b[0m\n\u001b[1;32m     15\u001b[0m \u001b[0;34m\u001b[0m\u001b[0m\n\u001b[1;32m     16\u001b[0m         \u001b[0mcmd\u001b[0m \u001b[0;34m=\u001b[0m \u001b[0;34mf'gdal_translate -projwin {l} {b} {r} {t} -ot Byte -of GTiff {mask_path} {mask_patches}{p}.tif'\u001b[0m\u001b[0;34m\u001b[0m\u001b[0;34m\u001b[0m\u001b[0m\n\u001b[0;32m---> 17\u001b[0;31m         \u001b[0msubprocess\u001b[0m\u001b[0;34m.\u001b[0m\u001b[0mcall\u001b[0m\u001b[0;34m(\u001b[0m\u001b[0mcmd\u001b[0m\u001b[0;34m.\u001b[0m\u001b[0msplit\u001b[0m\u001b[0;34m(\u001b[0m\u001b[0;34m)\u001b[0m\u001b[0;34m)\u001b[0m\u001b[0;34m\u001b[0m\u001b[0;34m\u001b[0m\u001b[0m\n\u001b[0m\u001b[1;32m     18\u001b[0m         \u001b[0mp\u001b[0m \u001b[0;34m=\u001b[0m \u001b[0mp\u001b[0m \u001b[0;34m+\u001b[0m \u001b[0;36m1\u001b[0m\u001b[0;34m\u001b[0m\u001b[0;34m\u001b[0m\u001b[0m\n",
      "\u001b[0;32m/usr/lib/python3.6/subprocess.py\u001b[0m in \u001b[0;36mcall\u001b[0;34m(timeout, *popenargs, **kwargs)\u001b[0m\n\u001b[1;32m    287\u001b[0m     \u001b[0;32mwith\u001b[0m \u001b[0mPopen\u001b[0m\u001b[0;34m(\u001b[0m\u001b[0;34m*\u001b[0m\u001b[0mpopenargs\u001b[0m\u001b[0;34m,\u001b[0m \u001b[0;34m**\u001b[0m\u001b[0mkwargs\u001b[0m\u001b[0;34m)\u001b[0m \u001b[0;32mas\u001b[0m \u001b[0mp\u001b[0m\u001b[0;34m:\u001b[0m\u001b[0;34m\u001b[0m\u001b[0;34m\u001b[0m\u001b[0m\n\u001b[1;32m    288\u001b[0m         \u001b[0;32mtry\u001b[0m\u001b[0;34m:\u001b[0m\u001b[0;34m\u001b[0m\u001b[0;34m\u001b[0m\u001b[0m\n\u001b[0;32m--> 289\u001b[0;31m             \u001b[0;32mreturn\u001b[0m \u001b[0mp\u001b[0m\u001b[0;34m.\u001b[0m\u001b[0mwait\u001b[0m\u001b[0;34m(\u001b[0m\u001b[0mtimeout\u001b[0m\u001b[0;34m=\u001b[0m\u001b[0mtimeout\u001b[0m\u001b[0;34m)\u001b[0m\u001b[0;34m\u001b[0m\u001b[0;34m\u001b[0m\u001b[0m\n\u001b[0m\u001b[1;32m    290\u001b[0m         \u001b[0;32mexcept\u001b[0m\u001b[0;34m:\u001b[0m\u001b[0;34m\u001b[0m\u001b[0;34m\u001b[0m\u001b[0m\n\u001b[1;32m    291\u001b[0m             \u001b[0mp\u001b[0m\u001b[0;34m.\u001b[0m\u001b[0mkill\u001b[0m\u001b[0;34m(\u001b[0m\u001b[0;34m)\u001b[0m\u001b[0;34m\u001b[0m\u001b[0;34m\u001b[0m\u001b[0m\n",
      "\u001b[0;32m/usr/lib/python3.6/subprocess.py\u001b[0m in \u001b[0;36mwait\u001b[0;34m(self, timeout, endtime)\u001b[0m\n\u001b[1;32m   1475\u001b[0m                         \u001b[0;32mif\u001b[0m \u001b[0mself\u001b[0m\u001b[0;34m.\u001b[0m\u001b[0mreturncode\u001b[0m \u001b[0;32mis\u001b[0m \u001b[0;32mnot\u001b[0m \u001b[0;32mNone\u001b[0m\u001b[0;34m:\u001b[0m\u001b[0;34m\u001b[0m\u001b[0;34m\u001b[0m\u001b[0m\n\u001b[1;32m   1476\u001b[0m                             \u001b[0;32mbreak\u001b[0m  \u001b[0;31m# Another thread waited.\u001b[0m\u001b[0;34m\u001b[0m\u001b[0;34m\u001b[0m\u001b[0m\n\u001b[0;32m-> 1477\u001b[0;31m                         \u001b[0;34m(\u001b[0m\u001b[0mpid\u001b[0m\u001b[0;34m,\u001b[0m \u001b[0msts\u001b[0m\u001b[0;34m)\u001b[0m \u001b[0;34m=\u001b[0m \u001b[0mself\u001b[0m\u001b[0;34m.\u001b[0m\u001b[0m_try_wait\u001b[0m\u001b[0;34m(\u001b[0m\u001b[0;36m0\u001b[0m\u001b[0;34m)\u001b[0m\u001b[0;34m\u001b[0m\u001b[0;34m\u001b[0m\u001b[0m\n\u001b[0m\u001b[1;32m   1478\u001b[0m                         \u001b[0;31m# Check the pid and loop as waitpid has been known to\u001b[0m\u001b[0;34m\u001b[0m\u001b[0;34m\u001b[0m\u001b[0;34m\u001b[0m\u001b[0m\n\u001b[1;32m   1479\u001b[0m                         \u001b[0;31m# return 0 even without WNOHANG in odd situations.\u001b[0m\u001b[0;34m\u001b[0m\u001b[0;34m\u001b[0m\u001b[0;34m\u001b[0m\u001b[0m\n",
      "\u001b[0;32m/usr/lib/python3.6/subprocess.py\u001b[0m in \u001b[0;36m_try_wait\u001b[0;34m(self, wait_flags)\u001b[0m\n\u001b[1;32m   1422\u001b[0m             \u001b[0;34m\"\"\"All callers to this function MUST hold self._waitpid_lock.\"\"\"\u001b[0m\u001b[0;34m\u001b[0m\u001b[0;34m\u001b[0m\u001b[0m\n\u001b[1;32m   1423\u001b[0m             \u001b[0;32mtry\u001b[0m\u001b[0;34m:\u001b[0m\u001b[0;34m\u001b[0m\u001b[0;34m\u001b[0m\u001b[0m\n\u001b[0;32m-> 1424\u001b[0;31m                 \u001b[0;34m(\u001b[0m\u001b[0mpid\u001b[0m\u001b[0;34m,\u001b[0m \u001b[0msts\u001b[0m\u001b[0;34m)\u001b[0m \u001b[0;34m=\u001b[0m \u001b[0mos\u001b[0m\u001b[0;34m.\u001b[0m\u001b[0mwaitpid\u001b[0m\u001b[0;34m(\u001b[0m\u001b[0mself\u001b[0m\u001b[0;34m.\u001b[0m\u001b[0mpid\u001b[0m\u001b[0;34m,\u001b[0m \u001b[0mwait_flags\u001b[0m\u001b[0;34m)\u001b[0m\u001b[0;34m\u001b[0m\u001b[0;34m\u001b[0m\u001b[0m\n\u001b[0m\u001b[1;32m   1425\u001b[0m             \u001b[0;32mexcept\u001b[0m \u001b[0mChildProcessError\u001b[0m\u001b[0;34m:\u001b[0m\u001b[0;34m\u001b[0m\u001b[0;34m\u001b[0m\u001b[0m\n\u001b[1;32m   1426\u001b[0m                 \u001b[0;31m# This happens if SIGCLD is set to be ignored or waiting\u001b[0m\u001b[0;34m\u001b[0m\u001b[0;34m\u001b[0m\u001b[0;34m\u001b[0m\u001b[0m\n",
      "\u001b[0;31mKeyboardInterrupt\u001b[0m: "
     ]
    }
   ],
   "source": [
    "p = 1\n",
    "for i in range(81):\n",
    "    for j in range(185):\n",
    "\n",
    "        if j == 0:\n",
    "            l, r = left + (col_add * j), right + (col_add * (j + 1))\n",
    "        \n",
    "        if j > 0:\n",
    "            # l, r = left + (col_add * j) - (col_sub * j), right + (col_add * (j + 1)) - (col_sub * (j + 1))\n",
    "            # l, r = l + (col_add * j) - col_sub, r + (col_add * (j + 1)) - col_sub\n",
    "            l, r = l + col_add - col_sub, r + col_add - col_sub\n",
    "        \n",
    "        b, t = bottom - (row_add * i), top - (row_add * (i + 1))\n",
    "    \n",
    "        \n",
    "        cmd = f'gdal_translate -projwin {l} {b} {r} {t} -ot Byte -of GTiff {mask_path} {mask_patches}{p}.tif'\n",
    "        subprocess.call(cmd.split())\n",
    "        p = p + 1"
   ]
  },
  {
   "cell_type": "code",
   "execution_count": null,
   "metadata": {},
   "outputs": [],
   "source": [
    "# p = 1\n",
    "# for i in range(80):\n",
    "#     for j in range(40):\n",
    "#         l, b, r, t = left + (col_add * j), bottom - (row_add * i), right + (col_add * (j + 1)), top - (row_add * (i + 1))\n",
    "\n",
    "#         # if j == 0:\n",
    "#         #     l, b, r, t = left + (col_add * j), bottom - (row_add * i), right + (col_add * (j + 1)), top - (row_add * (i + 1))\n",
    "#         # else:\n",
    "#         #     l, b, r, t = left + (col_add * j) - col_over, bottom - (row_add * i), right + (col_add * (j + 1)) - col_over, top - (row_add * (i + 1))\n",
    "        \n",
    "#         # c_path = f'/home/shrayank_mistry/Modules/qgis_train/Clipped/M_{p}.tif'\n",
    "\n",
    "#         # cmd = f'gdal_translate -projwin {l} {b} {r} {t} -ot Byte -of GTiff {mask_path} {mask_patches}C_{p}.tif'\n",
    "#         cmd = f'gdal_translate -projwin {l} {b} {r} {t} -ot Byte -of GTiff {mask_path} {mask_patches}{p}.tif'\n",
    "\n",
    "#         subprocess.call(cmd.split())\n",
    "#         p = p + 1\n",
    "\n",
    "# for itr in range(1):\n",
    "#     for i in range(1):\n",
    "#         for j in range(1):\n",
    "#             l, b, r, t = left + (col_add * j), bottom - (row_add * i), right + (col_add * (j + 1)), top - (row_add * (i + 1))\n",
    "\n",
    "#             # if j == 0:\n",
    "#             #     l, b, r, t = left + (col_add * j), bottom - (row_add * i), right + (col_add * (j + 1)), top - (row_add * (i + 1))\n",
    "#             # else:\n",
    "#             #     l, b, r, t = left + (col_add * j) - col_over, bottom - (row_add * i), right + (col_add * (j + 1)) - col_over, top - (row_add * (i + 1))\n",
    "            \n",
    "#             # c_path = f'/home/shrayank_mistry/Modules/qgis_train/Clipped/M_{p}.tif'\n",
    "\n",
    "#             cmd = f'gdal_translate -projwin {l} {b} {r} {t} -ot Byte -of GTiff {mask_path} {mask_patches}C_{itr + 1}.tif'\n",
    "\n",
    "#             subprocess.call(cmd.split())\n",
    "#             p = p + 1\n"
   ]
  },
  {
   "cell_type": "code",
   "execution_count": null,
   "metadata": {},
   "outputs": [],
   "source": []
  }
 ],
 "metadata": {
  "interpreter": {
   "hash": "41753c86ab29c83d5a6940432db1264110c228305d3d5eb7da716c156c110c5d"
  },
  "kernelspec": {
   "display_name": "Python 3.6.9 64-bit ('virtualenv': venv)",
   "language": "python",
   "name": "python3"
  },
  "language_info": {
   "codemirror_mode": {
    "name": "ipython",
    "version": 3
   },
   "file_extension": ".py",
   "mimetype": "text/x-python",
   "name": "python",
   "nbconvert_exporter": "python",
   "pygments_lexer": "ipython3",
   "version": "3.6.9"
  },
  "orig_nbformat": 4
 },
 "nbformat": 4,
 "nbformat_minor": 2
}
