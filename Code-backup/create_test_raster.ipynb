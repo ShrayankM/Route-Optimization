{
 "cells": [
  {
   "cell_type": "code",
   "execution_count": 1,
   "metadata": {},
   "outputs": [],
   "source": [
    "from osgeo import ogr, gdal\n",
    "import os\n",
    "import subprocess\n",
    "import rasterio\n",
    "\n",
    "\n",
    "import numpy as np\n",
    "import glob"
   ]
  },
  {
   "cell_type": "code",
   "execution_count": 2,
   "metadata": {},
   "outputs": [],
   "source": [
    "image_path = '/home/shrayank_mistry/Modules/data/raster.tif' \n",
    "mask_path  = '/home/shrayank_mistry/Modules/data/mask.tif'"
   ]
  },
  {
   "cell_type": "code",
   "execution_count": 3,
   "metadata": {},
   "outputs": [
    {
     "name": "stdout",
     "output_type": "stream",
     "text": [
      "BoundingBox(left=300000.0, bottom=1890240.0, right=409800.0, top=2100000.0)\n",
      "300000.0 2100000.0 300000.0 2100000.0\n"
     ]
    }
   ],
   "source": [
    "data = rasterio.open(image_path)\n",
    "print(data.bounds)\n",
    "\n",
    "extent = data.bounds\n",
    "\n",
    "# col_add, row_add = 109800, 109800\n",
    "col_add, row_add = 40960, 40960 \n",
    "\n",
    "left, bottom, right, top = extent[0], extent[3], extent[0], extent[3]\n",
    "print(left, bottom, right, top)"
   ]
  },
  {
   "cell_type": "code",
   "execution_count": 4,
   "metadata": {},
   "outputs": [],
   "source": [
    "raster_patches = '/home/shrayank_mistry/Modules/data/main_test/raster/'\n",
    "mask_patches = '/home/shrayank_mistry/Modules/data/main_test/mask/'"
   ]
  },
  {
   "cell_type": "code",
   "execution_count": 5,
   "metadata": {},
   "outputs": [],
   "source": [
    "p = 1\n",
    "for i in range(1):\n",
    "    for j in range(1):\n",
    "        l, b, r, t = left + (col_add * j), bottom - (row_add * i), right + (col_add * (j + 1)), top - (row_add * (i + 1))\n",
    "        \n",
    "        cmd = f'gdal_translate -projwin {l} {b} {r} {t} -of GTiff {image_path} {raster_patches}{p}.tif'\n",
    "        subprocess.call(cmd.split())\n",
    "        p = p + 1"
   ]
  },
  {
   "cell_type": "code",
   "execution_count": 6,
   "metadata": {},
   "outputs": [],
   "source": [
    "p = 1\n",
    "for i in range(1):\n",
    "    for j in range(1):\n",
    "        l, b, r, t = left + (col_add * j), bottom - (row_add * i), right + (col_add * (j + 1)), top - (row_add * (i + 1))\n",
    "        \n",
    "        cmd = f'gdal_translate -projwin {l} {b} {r} {t} -ot Byte -of GTiff {mask_path} {mask_patches}{p}.tif'\n",
    "        subprocess.call(cmd.split())\n",
    "        p = p + 1"
   ]
  },
  {
   "cell_type": "code",
   "execution_count": 7,
   "metadata": {},
   "outputs": [],
   "source": [
    "def _16bit_to_8Bit_raster(inputRaster, outputRaster, outputPixType='Byte', outputFormat='png', percentiles=[2, 98]):\n",
    "\n",
    "   srcRaster = gdal.Open(inputRaster)\n",
    "   cmd = ['gdal_translate', '-ot', outputPixType, '-of', \n",
    "          outputFormat]\n",
    "\n",
    "   for bandId in range(srcRaster.RasterCount):\n",
    "       bandId = bandId+1\n",
    "       band = srcRaster.GetRasterBand(bandId)\n",
    "\n",
    "       bmin = band.GetMinimum()        \n",
    "       bmax = band.GetMaximum()\n",
    "       # if not exist minimum and maximum values\n",
    "       if bmin is None or bmax is None:\n",
    "           (bmin, bmax) = band.ComputeRasterMinMax(1)\n",
    "       # else, rescale\n",
    "       band_arr_tmp = band.ReadAsArray()\n",
    "       bmin = np.percentile(band_arr_tmp.flatten(), \n",
    "                           percentiles[0])\n",
    "       bmax= np.percentile(band_arr_tmp.flatten(), \n",
    "                           percentiles[1])\n",
    "\n",
    "       cmd.append('-scale_{}'.format(bandId))\n",
    "       cmd.append('{}'.format(bmin))\n",
    "       cmd.append('{}'.format(bmax))\n",
    "       cmd.append('{}'.format(0))\n",
    "       cmd.append('{}'.format(255))\n",
    "\n",
    "   cmd.append(inputRaster)\n",
    "   cmd.append(outputRaster)\n",
    "#    print(\"Conversin command:\", cmd)\n",
    "   subprocess.call(cmd)"
   ]
  },
  {
   "cell_type": "code",
   "execution_count": 8,
   "metadata": {},
   "outputs": [],
   "source": [
    "raster_patches = '/home/shrayank_mistry/Modules/data/main_test/raster/'\n",
    "raster_files = os.listdir(raster_patches)"
   ]
  },
  {
   "cell_type": "code",
   "execution_count": 9,
   "metadata": {},
   "outputs": [],
   "source": [
    "for file in raster_files:\n",
    "    resimPath = raster_patches + file\n",
    "\n",
    "    dstPath   = '/home/shrayank_mistry/Modules/data/main_test/raster_png/'\n",
    "    # dstPath = '/home/shrayank_mistry/Modules/val_dir/val/'\n",
    "    dstPath   = dstPath + '1.' + \"png\"\n",
    "\n",
    "    # print(dstPath)\n",
    "\n",
    "    _16bit_to_8Bit_raster(resimPath, dstPath, outputPixType = 'Float32', outputFormat = \"png\")"
   ]
  },
  {
   "cell_type": "code",
   "execution_count": null,
   "metadata": {},
   "outputs": [],
   "source": []
  }
 ],
 "metadata": {
  "interpreter": {
   "hash": "41753c86ab29c83d5a6940432db1264110c228305d3d5eb7da716c156c110c5d"
  },
  "kernelspec": {
   "display_name": "Python 3.6.9 64-bit ('virtualenv': venv)",
   "language": "python",
   "name": "python3"
  },
  "language_info": {
   "codemirror_mode": {
    "name": "ipython",
    "version": 3
   },
   "file_extension": ".py",
   "mimetype": "text/x-python",
   "name": "python",
   "nbconvert_exporter": "python",
   "pygments_lexer": "ipython3",
   "version": "3.6.9"
  },
  "orig_nbformat": 4
 },
 "nbformat": 4,
 "nbformat_minor": 2
}
