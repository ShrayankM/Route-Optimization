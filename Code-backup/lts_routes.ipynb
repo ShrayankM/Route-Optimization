{
 "cells": [
  {
   "cell_type": "code",
   "execution_count": 4,
   "metadata": {},
   "outputs": [],
   "source": [
    "import numpy as np\n",
    "from osgeo import ogr, gdal, osr, gdal_array\n",
    "import rasterio\n",
    "import json\n",
    "\n",
    "\n",
    "import matplotlib.pyplot as plt\n",
    "import pandas as pd\n",
    "import os.path\n",
    "import re\n",
    "\n",
    "\n",
    "import rasterio\n",
    "from rasterio.enums import Resampling"
   ]
  },
  {
   "cell_type": "markdown",
   "metadata": {},
   "source": [
    "#### DEM upscaling"
   ]
  },
  {
   "cell_type": "code",
   "execution_count": 5,
   "metadata": {},
   "outputs": [
    {
     "name": "stdout",
     "output_type": "stream",
     "text": [
      "(2721, 3610)\n"
     ]
    }
   ],
   "source": [
    "area_dem = '/home/shrayank_mistry/Modules/project-mum-pune/dem_clipped.tif'\n",
    "dem = rasterio.open(area_dem, count = 1)\n",
    "\n",
    "dem = np.array(dem.read(1))\n",
    "print(dem.shape)"
   ]
  },
  {
   "cell_type": "code",
   "execution_count": 10,
   "metadata": {},
   "outputs": [],
   "source": [
    "# Upscaling DEM\n",
    "# whole-numbers indicate upscaling, fractions indicate downscaling\n",
    "upscale_factor = 3\n",
    "\n",
    "\n",
    "with rasterio.open('/home/shrayank_mistry/Modules/project-mum-pune/dem_clipped.tif') as dataset:\n",
    "\n",
    "    # resample data to target shape\n",
    "    data = dataset.read(\n",
    "        out_shape=(\n",
    "            dataset.count,\n",
    "            int(dataset.height * upscale_factor),\n",
    "            int(dataset.width * upscale_factor)\n",
    "        ),\n",
    "        resampling=Resampling.bilinear\n",
    "    )\n",
    "\n",
    "    # scale image transform\n",
    "    transform = dataset.transform * dataset.transform.scale(\n",
    "        (dataset.width / data.shape[-1]),\n",
    "        (dataset.height / data.shape[-2])\n",
    "    )"
   ]
  },
  {
   "cell_type": "markdown",
   "metadata": {},
   "source": [
    "#### Load LULC class mask"
   ]
  },
  {
   "cell_type": "code",
   "execution_count": 11,
   "metadata": {},
   "outputs": [
    {
     "name": "stdout",
     "output_type": "stream",
     "text": [
      "(10500, 8273)\n"
     ]
    }
   ],
   "source": [
    "area_cover = '/home/shrayank_mistry/Modules/project-mum-pune/mask.tif'\n",
    "area = rasterio.open(area_cover, count = 1)\n",
    "\n",
    "area = np.array(area.read(1))\n",
    "\n",
    "area = np.swapaxes(area, 1, 0)\n",
    "print(area.shape)"
   ]
  },
  {
   "cell_type": "code",
   "execution_count": 12,
   "metadata": {},
   "outputs": [
    {
     "data": {
      "text/plain": [
       "(8163, 10830)"
      ]
     },
     "execution_count": 12,
     "metadata": {},
     "output_type": "execute_result"
    }
   ],
   "source": [
    "up_dem = data[0]\n",
    "up_dem.shape"
   ]
  },
  {
   "cell_type": "markdown",
   "metadata": {},
   "source": [
    "#### Matching DEM and Mask Resolution"
   ]
  },
  {
   "cell_type": "code",
   "execution_count": 13,
   "metadata": {},
   "outputs": [
    {
     "name": "stdout",
     "output_type": "stream",
     "text": [
      "(10830, 8163) (10500, 8273)\n",
      "(10500, 8163) (10500, 8163)\n"
     ]
    }
   ],
   "source": [
    "dem_data, mask_data = up_dem, area\n",
    "dem_data = dem_data.T\n",
    "\n",
    "\n",
    "print(dem_data.shape, mask_data.shape)\n",
    "width, height = 10500, 8163\n",
    "\n",
    "dem_data, mask_data = dem_data[:width,:height], mask_data[:width, :height]\n",
    "print(dem_data.shape, mask_data.shape)"
   ]
  },
  {
   "cell_type": "markdown",
   "metadata": {},
   "source": [
    "##### AHP Mapping"
   ]
  },
  {
   "cell_type": "code",
   "execution_count": 14,
   "metadata": {},
   "outputs": [],
   "source": [
    "ahp_map = {\n",
    "\n",
    "'urban': 0.29,\n",
    "'farms': 0.239,\n",
    "'dense-forest': 0.207,\n",
    "'water': 0.13,\n",
    "'fallow': 0.067,\n",
    "'sparse-forest': 0.049,\n",
    "'barren-land': 0.019,\n",
    "'unclassified':7,\n",
    "\n",
    "}\n",
    "\n",
    "class_map = {\n",
    "\n",
    "    0: 'unclassified',\n",
    "    1: 'water',\n",
    "    2: 'dense-forest',\n",
    "    3: 'sparse-forest',\n",
    "    4: 'barren-land',\n",
    "    5: 'urban',\n",
    "    6: 'farms',\n",
    "    7: 'fallow',\n",
    "\n",
    "}"
   ]
  },
  {
   "cell_type": "markdown",
   "metadata": {},
   "source": [
    "#### Set weights for LULC classes using AHP"
   ]
  },
  {
   "cell_type": "code",
   "execution_count": 15,
   "metadata": {},
   "outputs": [],
   "source": [
    "def set_weights(c):\n",
    "    c_str = class_map.get(c)\n",
    "    return ahp_map[c_str]"
   ]
  },
  {
   "cell_type": "code",
   "execution_count": 16,
   "metadata": {},
   "outputs": [],
   "source": [
    "set_weights_vtr = np.vectorize(set_weights)\n",
    "mask_data = set_weights_vtr(mask_data)"
   ]
  },
  {
   "cell_type": "code",
   "execution_count": 17,
   "metadata": {},
   "outputs": [
    {
     "data": {
      "text/plain": [
       "(array([0.019, 0.049, 0.067, 0.13 , 0.207, 0.239, 0.29 , 7.   ]),\n",
       " array([19822048, 17097029, 28893954,  7807154,  3858436,  5940554,\n",
       "         2291737,      588]))"
      ]
     },
     "execution_count": 17,
     "metadata": {},
     "output_type": "execute_result"
    }
   ],
   "source": [
    "np.unique(mask_data, return_counts = True)"
   ]
  },
  {
   "cell_type": "markdown",
   "metadata": {},
   "source": [
    "#### Getting Source and Destination Points to Co-ordinates"
   ]
  },
  {
   "cell_type": "code",
   "execution_count": 19,
   "metadata": {},
   "outputs": [],
   "source": [
    "from osgeo import ogr\n",
    "import json\n",
    "\n",
    "file = ogr.Open(\"/home/shrayank_mistry/Modules/project-mum-pune/route-files/source-point.shp\")\n",
    "source_shp = file.GetLayer(0)\n",
    "\n",
    "feature = source_shp.GetFeature(0)\n",
    "source_shp = feature.ExportToJson()\n",
    "\n",
    "# source_shp\n",
    "source_shp = json.loads(source_shp)\n",
    "start_ext = source_shp['geometry']['coordinates']\n",
    "\n",
    "\n",
    "file = ogr.Open(\"/home/shrayank_mistry/Modules/project-mum-pune/route-files/destination-point.shp\")\n",
    "destination_shp = file.GetLayer(0)\n",
    "\n",
    "feature = destination_shp.GetFeature(0)\n",
    "destination_shp = feature.ExportToJson()\n",
    "\n",
    "destination_shp\n",
    "\n",
    "# destination_shp\n",
    "destination_shp = json.loads(destination_shp)\n",
    "end_ext = destination_shp['geometry']['coordinates']"
   ]
  },
  {
   "cell_type": "code",
   "execution_count": 20,
   "metadata": {},
   "outputs": [
    {
     "name": "stdout",
     "output_type": "stream",
     "text": [
      "[300378.7763074944, 2104126.3099621385] [366123.3883685307, 2063699.8154670105]\n"
     ]
    }
   ],
   "source": [
    "print(start_ext, end_ext)"
   ]
  },
  {
   "cell_type": "markdown",
   "metadata": {},
   "source": [
    "#### Getting Raster Extent"
   ]
  },
  {
   "cell_type": "code",
   "execution_count": 21,
   "metadata": {},
   "outputs": [
    {
     "name": "stdout",
     "output_type": "stream",
     "text": [
      "BoundingBox(left=282680.0, bottom=2035820.0, right=387680.0, top=2118550.0)\n",
      "282680.0 2035820.0 387680.0 2118550.0\n"
     ]
    }
   ],
   "source": [
    "path = '/home/shrayank_mistry/Modules/project-mum-pune/raster.tif' \n",
    "\n",
    "data = rasterio.open(path)\n",
    "print(data.bounds)\n",
    "\n",
    "extent = data.bounds\n",
    "\n",
    "left, bottom, right, top = extent[0], extent[1], extent[2], extent[3]\n",
    "print(left, bottom, right, top)"
   ]
  },
  {
   "cell_type": "code",
   "execution_count": 22,
   "metadata": {},
   "outputs": [
    {
     "name": "stdout",
     "output_type": "stream",
     "text": [
      "Width and Height of Raster\n",
      "105000 82730\n"
     ]
    }
   ],
   "source": [
    "width = round(right - left)\n",
    "height = round(top - bottom)\n",
    "\n",
    "print(\"Width and Height of Raster\")\n",
    "print(width, height)"
   ]
  },
  {
   "cell_type": "markdown",
   "metadata": {},
   "source": [
    "##### Convert Co-ordinates to Pixels "
   ]
  },
  {
   "cell_type": "code",
   "execution_count": 23,
   "metadata": {},
   "outputs": [],
   "source": [
    "# width = round(right - left)\n",
    "# height = round(top - bottom)\n",
    "\n",
    "# print(width, height)\n",
    "\n",
    "# start_pixel, end_pixel = [0, 0], [0, 0]\n",
    "# start_flag, end_flag = True, True\n",
    "\n",
    "# for i in range(height):\n",
    "#     for j in range(width):\n",
    "\n",
    "#         if (not start_flag) and (not end_flag):\n",
    "#             break\n",
    "        \n",
    "#         # print(round(left + j), round(top - i))\n",
    "#         if (start_flag and ((round(left + j)) == round(start_ext[0])) and ((round(top - i)) == round(start_ext[1]))):\n",
    "#             start_pixel = [i, j]\n",
    "#             start_flag = False\n",
    "\n",
    "        \n",
    "#         if (end_flag and ((round(left + j)) == round(end_ext[0])) and ((round(top - i)) == round(end_ext[1]))):\n",
    "#             end_pixel = [i, j]\n",
    "#             end_flag = False"
   ]
  },
  {
   "cell_type": "code",
   "execution_count": 24,
   "metadata": {},
   "outputs": [],
   "source": [
    "start_pixel, end_pixel = [14424, 17699], [54850, 83443]"
   ]
  },
  {
   "cell_type": "markdown",
   "metadata": {},
   "source": [
    "#### Downscaling Pixels"
   ]
  },
  {
   "cell_type": "code",
   "execution_count": 25,
   "metadata": {},
   "outputs": [],
   "source": [
    "start_pixel = np.array(start_pixel)\n",
    "start_pixel = start_pixel / 10\n",
    "\n",
    "start_pixel = list(np.rint(start_pixel))\n",
    "start_pixel = list(np.array(start_pixel, dtype = 'int'))\n",
    "\n",
    "end_pixel = np.array(end_pixel)\n",
    "end_pixel = end_pixel / 10\n",
    "\n",
    "end_pixel = list(np.rint(end_pixel))\n",
    "end_pixel = list(np.array(end_pixel, dtype = 'int'))"
   ]
  },
  {
   "cell_type": "code",
   "execution_count": null,
   "metadata": {},
   "outputs": [],
   "source": []
  }
 ],
 "metadata": {
  "interpreter": {
   "hash": "72116f4556a314d3963dd18b1856661810f11245b96e3a7075f7a5fca07ef2b1"
  },
  "kernelspec": {
   "display_name": "Python 3.6.9 64-bit ('virtualenv': venv)",
   "language": "python",
   "name": "python3"
  },
  "language_info": {
   "codemirror_mode": {
    "name": "ipython",
    "version": 3
   },
   "file_extension": ".py",
   "mimetype": "text/x-python",
   "name": "python",
   "nbconvert_exporter": "python",
   "pygments_lexer": "ipython3",
   "version": "3.6.9"
  },
  "orig_nbformat": 4
 },
 "nbformat": 4,
 "nbformat_minor": 2
}
