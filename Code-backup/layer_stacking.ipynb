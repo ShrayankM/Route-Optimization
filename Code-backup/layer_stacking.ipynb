{
 "cells": [
  {
   "cell_type": "code",
   "execution_count": 1,
   "metadata": {},
   "outputs": [],
   "source": [
    "import glob\n",
    "import gdal\n",
    "from scipy.ndimage import zoom"
   ]
  },
  {
   "cell_type": "markdown",
   "metadata": {},
   "source": [
    "# Stacking Layers"
   ]
  },
  {
   "cell_type": "code",
   "execution_count": 2,
   "metadata": {},
   "outputs": [],
   "source": [
    "def combine(input_dir, output_dir):\n",
    "    files = []\n",
    "\n",
    "    for l in layers:\n",
    "        fs = [f for f in glob.glob(input_dir + 'B*') if l in f]\n",
    "        files += fs\n",
    "    print(files)\n",
    "    \n",
    "    count = 0\n",
    "    name = output_dir + 'Stacked_Raster'\n",
    "    fz = len(files)\n",
    "\n",
    "    files.sort()\n",
    "\n",
    "    for file in files:\n",
    "\n",
    "        f = gdal.Open(file, gdal.GA_ReadOnly)\n",
    "        projection = f.GetProjection()\n",
    "        geotransform = f.GetGeoTransform()\n",
    "\n",
    "        f = f.ReadAsArray()\n",
    "        fx, fy = f.shape\n",
    "\n",
    "        count = count + 1\n",
    "        if count == 1:\n",
    "            outdata = gdal.GetDriverByName('GTiff').Create(name + '.tif', fy, fx, fz,gdal.GDT_UInt16)\n",
    "            outdata.SetGeoTransform(geotransform)\n",
    "            outdata.SetProjection(projection)\n",
    "        outdata.GetRasterBand(count).WriteArray(f)\n",
    "        outdata.FlushCache() \n",
    "    outdata = None\n",
    "    return files"
   ]
  },
  {
   "cell_type": "code",
   "execution_count": 3,
   "metadata": {},
   "outputs": [],
   "source": [
    "layers = ['02', '03', '04', '05', '06', '07', '8A', '11', '12']\n",
    "tiles = ['T1', 'T2', 'T3', 'T4', 'T5', 'T6']\n",
    "area = 'A6/'"
   ]
  },
  {
   "cell_type": "code",
   "execution_count": 4,
   "metadata": {},
   "outputs": [
    {
     "name": "stdout",
     "output_type": "stream",
     "text": [
      "['A6/T1/D20m/B02_20m.tif', 'A6/T1/D20m/B03_20m.tif', 'A6/T1/D20m/B04_20m.tif', 'A6/T1/D20m/B05_20m.tif', 'A6/T1/D20m/B06_20m.tif', 'A6/T1/D20m/B07_20m.tif', 'A6/T1/D20m/B8A_20m.tif', 'A6/T1/D20m/B11_20m.tif', 'A6/T1/D20m/B12_20m.tif']\n",
      "['A6/T2/D20m/B02_20m.tif', 'A6/T2/D20m/B03_20m.tif', 'A6/T2/D20m/B04_20m.tif', 'A6/T2/D20m/B05_20m.tif', 'A6/T2/D20m/B06_20m.tif', 'A6/T2/D20m/B07_20m.tif', 'A6/T2/D20m/B8A_20m.tif', 'A6/T2/D20m/B11_20m.tif', 'A6/T2/D20m/B12_20m.tif']\n",
      "[]\n",
      "[]\n",
      "[]\n",
      "[]\n"
     ]
    }
   ],
   "source": [
    "for tile_number in tiles:\n",
    "    input_dir = area + tile_number + '/' + 'D20m/'\n",
    "    output_dir = input_dir\n",
    "    files = combine(input_dir, output_dir)"
   ]
  },
  {
   "cell_type": "code",
   "execution_count": null,
   "metadata": {},
   "outputs": [],
   "source": []
  }
 ],
 "metadata": {
  "interpreter": {
   "hash": "72116f4556a314d3963dd18b1856661810f11245b96e3a7075f7a5fca07ef2b1"
  },
  "kernelspec": {
   "display_name": "Python 3.6.9 64-bit ('virtualenv': venv)",
   "language": "python",
   "name": "python3"
  },
  "language_info": {
   "codemirror_mode": {
    "name": "ipython",
    "version": 3
   },
   "file_extension": ".py",
   "mimetype": "text/x-python",
   "name": "python",
   "nbconvert_exporter": "python",
   "pygments_lexer": "ipython3",
   "version": "3.6.9"
  },
  "orig_nbformat": 4
 },
 "nbformat": 4,
 "nbformat_minor": 2
}
