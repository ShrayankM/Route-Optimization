{
 "cells": [
  {
   "cell_type": "code",
   "execution_count": 11,
   "metadata": {},
   "outputs": [],
   "source": [
    "from osgeo import gdal\n",
    "import glob\n",
    "import subprocess"
   ]
  },
  {
   "cell_type": "code",
   "execution_count": 12,
   "metadata": {},
   "outputs": [],
   "source": [
    "tiles = ['T1', 'T2']\n",
    "area = 'A1'"
   ]
  },
  {
   "cell_type": "code",
   "execution_count": 13,
   "metadata": {},
   "outputs": [],
   "source": [
    "files = []\n",
    "for tile_number in tiles:\n",
    "    path = area + '/' + tile_number + '/' + 'D20m/'\n",
    "    fs = glob.glob(path + '*B*.tif')\n",
    "    files.append(fs)    "
   ]
  },
  {
   "cell_type": "code",
   "execution_count": 14,
   "metadata": {},
   "outputs": [],
   "source": [
    "for i in range(len(files[0])):\n",
    "    cmd = f'gdal_merge.py -ot Int16 -o A1/B0{i + 1}.tif'\n",
    "\n",
    "    fs = []\n",
    "    fs.append(files[0][i])\n",
    "    fs.append(files[1][i])\n",
    "    subprocess.call(cmd.split()+fs)"
   ]
  },
  {
   "cell_type": "code",
   "execution_count": null,
   "metadata": {},
   "outputs": [],
   "source": []
  }
 ],
 "metadata": {
  "interpreter": {
   "hash": "41753c86ab29c83d5a6940432db1264110c228305d3d5eb7da716c156c110c5d"
  },
  "kernelspec": {
   "display_name": "Python 3.6.9 64-bit ('virtualenv': venv)",
   "language": "python",
   "name": "python3"
  },
  "language_info": {
   "codemirror_mode": {
    "name": "ipython",
    "version": 3
   },
   "file_extension": ".py",
   "mimetype": "text/x-python",
   "name": "python",
   "nbconvert_exporter": "python",
   "pygments_lexer": "ipython3",
   "version": "3.6.9"
  },
  "orig_nbformat": 4
 },
 "nbformat": 4,
 "nbformat_minor": 2
}
