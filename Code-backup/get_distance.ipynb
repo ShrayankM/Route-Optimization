{
 "cells": [
  {
   "cell_type": "code",
   "execution_count": 182,
   "metadata": {},
   "outputs": [],
   "source": [
    "import pandas as pd\n",
    "import numpy as np\n",
    "import math\n",
    "import json\n",
    "import glob"
   ]
  },
  {
   "cell_type": "code",
   "execution_count": 183,
   "metadata": {},
   "outputs": [],
   "source": [
    "def deg2rad(deg):\n",
    "    return (deg * (math.pi/180))"
   ]
  },
  {
   "cell_type": "code",
   "execution_count": 184,
   "metadata": {},
   "outputs": [],
   "source": [
    "def get_distance(p, q):\n",
    "    lat1, lon1 = p\n",
    "    lat2, lon2 = q\n",
    "    #const [lat1, lon1] = pair1, [lat2, lon2] = pair2;\n",
    "    #const R = 6371; // Radius of the earth in km.\n",
    "\n",
    "    R = 6371\n",
    "\n",
    "    dLat = deg2rad(lat2 - lat1)\n",
    "    dLon = deg2rad(lon2 - lon1)\n",
    "    a = math.sin(dLat/2) * math.sin(dLat/2) + math.cos(deg2rad(lat1)) * math.cos(deg2rad(lat2)) * math.sin(dLon/2) * math.sin(dLon/2);\n",
    "    c = 2 * math.atan2(math.sqrt(a), math.sqrt(1 - a));\n",
    "\n",
    "    return R * c"
   ]
  },
  {
   "cell_type": "code",
   "execution_count": 185,
   "metadata": {},
   "outputs": [],
   "source": [
    "def find_distance(file_name):\n",
    "    f = open(file_name)\n",
    "    data = json.load(f)\n",
    "    points = []\n",
    "    for i in range(len(data['features'])):\n",
    "        if data['features'][i]['geometry']['type'] == 'Point':\n",
    "            points.append(data['features'][i]['geometry']['coordinates'])\n",
    "    \n",
    "    print(len(points))\n",
    "    distance = 0\n",
    "    for i in range(1, len(points)):\n",
    "        p = points[i - 1]\n",
    "        q = points[i]\n",
    "\n",
    "        #distance += math.sqrt(math.pow((p[0] - q[0]), 2) + math.pow((p[1] - q[1]), 2))\n",
    "        distance += get_distance(p, q)\n",
    "    return distance"
   ]
  },
  {
   "cell_type": "code",
   "execution_count": 186,
   "metadata": {},
   "outputs": [
    {
     "name": "stdout",
     "output_type": "stream",
     "text": [
      "38\n",
      "Distance = 137.12160558087078 Kms, Pipeline = Dadri-Panipat\n",
      "59\n",
      "Distance = 361.93433623569524 Kms, Pipeline = Methsana-Bhatinda\n",
      "74\n",
      "Distance = 330.9098508033261 Kms, Pipeline = Shahdol-Phulpur\n",
      "55\n",
      "Distance = 362.1518512203237 Kms, Pipeline = Chainsa-Jhajjar-Hissar\n"
     ]
    }
   ],
   "source": [
    "index = 0\n",
    "files = glob.glob('*.json')\n",
    "for f in files:\n",
    "    dist = find_distance(f)\n",
    "    name = files[index].split('.')[0].title()\n",
    "    print(f'Distance = {dist} Kms, Pipeline = {name}')\n",
    "    index = index + 1"
   ]
  }
 ],
 "metadata": {
  "interpreter": {
   "hash": "72116f4556a314d3963dd18b1856661810f11245b96e3a7075f7a5fca07ef2b1"
  },
  "kernelspec": {
   "display_name": "Python 3.6.9 64-bit ('virtualenv': venv)",
   "language": "python",
   "name": "python3"
  },
  "language_info": {
   "codemirror_mode": {
    "name": "ipython",
    "version": 3
   },
   "file_extension": ".py",
   "mimetype": "text/x-python",
   "name": "python",
   "nbconvert_exporter": "python",
   "pygments_lexer": "ipython3",
   "version": "3.6.9"
  },
  "orig_nbformat": 4
 },
 "nbformat": 4,
 "nbformat_minor": 2
}
