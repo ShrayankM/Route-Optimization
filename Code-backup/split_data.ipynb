{
 "cells": [
  {
   "cell_type": "code",
   "execution_count": 14,
   "metadata": {},
   "outputs": [],
   "source": [
    "import shutil\n",
    "import glob\n",
    "import numpy as np\n",
    "\n",
    "from sklearn.model_selection import train_test_split"
   ]
  },
  {
   "cell_type": "code",
   "execution_count": 15,
   "metadata": {},
   "outputs": [],
   "source": [
    "# images = '/home/shrayank_mistry/Modules/data/raster_patches/'\n",
    "images = '/home/shrayank_mistry/Modules/data/original_images/'\n",
    "masks  = '/home/shrayank_mistry/Modules/data/mask_patches/'\n",
    "\n",
    "i_files = glob.glob(images + '*.tif')\n",
    "m_files = glob.glob(masks + '.*tif')\n",
    "\n",
    "t = 111180\n",
    "\n",
    "# 70% training data\n",
    "train = int(t * 0.7)\n",
    "\n",
    "# 15% validation data\n",
    "val = int(t * 0.15)\n",
    "\n",
    "# 15% testing data\n",
    "test = int(t * 0.15)\n"
   ]
  },
  {
   "cell_type": "code",
   "execution_count": 16,
   "metadata": {},
   "outputs": [
    {
     "name": "stdout",
     "output_type": "stream",
     "text": [
      "Training = 77826, Validation = 16677, Testing = 16677\n"
     ]
    }
   ],
   "source": [
    "print(f'Training = {train}, Validation = {val}, Testing = {test}')"
   ]
  },
  {
   "cell_type": "code",
   "execution_count": 17,
   "metadata": {},
   "outputs": [],
   "source": [
    "train, test = train_test_split(np.arange(1, t + 1), test_size = 0.3)\n",
    "test, val = train_test_split(test, test_size = 0.5)"
   ]
  },
  {
   "cell_type": "code",
   "execution_count": 18,
   "metadata": {},
   "outputs": [
    {
     "name": "stdout",
     "output_type": "stream",
     "text": [
      "77826 16677 16677\n"
     ]
    }
   ],
   "source": [
    "print(len(train), len(val), len(test))"
   ]
  },
  {
   "cell_type": "code",
   "execution_count": 19,
   "metadata": {},
   "outputs": [],
   "source": [
    "train_images = '/home/shrayank_mistry/Modules/data/kaggle_data/train_images/train' \n",
    "test_images = '/home/shrayank_mistry/Modules/data/kaggle_data/test_images/test'\n",
    "val_images = '/home/shrayank_mistry/Modules/data/kaggle_data/val_images/val'"
   ]
  },
  {
   "cell_type": "code",
   "execution_count": 20,
   "metadata": {},
   "outputs": [],
   "source": [
    "train_masks = '/home/shrayank_mistry/Modules/data/kaggle_data/train_masks/train' \n",
    "test_masks = '/home/shrayank_mistry/Modules/data/kaggle_data/test_masks/test'\n",
    "val_masks = '/home/shrayank_mistry/Modules/data/kaggle_data/val_masks/val'"
   ]
  },
  {
   "cell_type": "code",
   "execution_count": 21,
   "metadata": {},
   "outputs": [],
   "source": [
    "# for f in train:\n",
    "#     shutil.copy(f, train_images)"
   ]
  },
  {
   "cell_type": "code",
   "execution_count": 22,
   "metadata": {},
   "outputs": [],
   "source": [
    "for i in train:\n",
    "    src = images + str(i) + '.png'\n",
    "    dst = train_images\n",
    "    shutil.copy(src, dst)\n",
    "\n",
    "    src = masks + str(i) + '.tif'\n",
    "    dst = train_masks\n",
    "    shutil.copy(src, dst)\n"
   ]
  },
  {
   "cell_type": "code",
   "execution_count": 23,
   "metadata": {},
   "outputs": [],
   "source": [
    "for i in test:\n",
    "    src = images + str(i) + '.png'\n",
    "    dst = test_images\n",
    "\n",
    "    shutil.copy(src, dst)\n",
    "\n",
    "    src = masks + str(i) + '.tif'\n",
    "    dst = test_masks\n",
    "    shutil.copy(src, dst)"
   ]
  },
  {
   "cell_type": "code",
   "execution_count": 24,
   "metadata": {},
   "outputs": [],
   "source": [
    "for i in val:\n",
    "    src = images + str(i) + '.png'\n",
    "    dst = val_images\n",
    "\n",
    "    shutil.copy(src, dst)\n",
    "\n",
    "    src = masks + str(i) + '.tif'\n",
    "    dst = val_masks\n",
    "    shutil.copy(src, dst)"
   ]
  },
  {
   "cell_type": "code",
   "execution_count": null,
   "metadata": {},
   "outputs": [],
   "source": []
  }
 ],
 "metadata": {
  "interpreter": {
   "hash": "41753c86ab29c83d5a6940432db1264110c228305d3d5eb7da716c156c110c5d"
  },
  "kernelspec": {
   "display_name": "Python 3.6.9 64-bit ('virtualenv': venv)",
   "language": "python",
   "name": "python3"
  },
  "language_info": {
   "codemirror_mode": {
    "name": "ipython",
    "version": 3
   },
   "file_extension": ".py",
   "mimetype": "text/x-python",
   "name": "python",
   "nbconvert_exporter": "python",
   "pygments_lexer": "ipython3",
   "version": "3.6.9"
  },
  "orig_nbformat": 4
 },
 "nbformat": 4,
 "nbformat_minor": 2
}
