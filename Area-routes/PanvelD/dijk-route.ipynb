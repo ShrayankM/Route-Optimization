{
 "cells": [
  {
   "cell_type": "code",
   "execution_count": 120,
   "metadata": {},
   "outputs": [],
   "source": [
    "import numpy as np\n",
    "from osgeo import ogr, gdal\n",
    "import rasterio\n",
    "import json\n",
    "\n",
    "import numpy as np\n",
    "import matplotlib.pyplot as plt\n",
    "import pandas as pd\n",
    "import os.path\n",
    "import re\n",
    "\n",
    "from osgeo import gdal\n",
    "from osgeo import gdal_array\n",
    "from osgeo import osr"
   ]
  },
  {
   "cell_type": "code",
   "execution_count": 121,
   "metadata": {},
   "outputs": [],
   "source": [
    "area_cover = '/home/shrayank_mistry/Modules/Area-routes/PanvelD/mask.tif'\n",
    "area = rasterio.open(area_cover, count = 1)\n",
    "\n",
    "area = np.array(area.read(1))"
   ]
  },
  {
   "cell_type": "code",
   "execution_count": 122,
   "metadata": {},
   "outputs": [
    {
     "name": "stdout",
     "output_type": "stream",
     "text": [
      "(6850, 3787)\n"
     ]
    }
   ],
   "source": [
    "area_dem = '/home/shrayank_mistry/Modules/Area-routes/PanvelD/dem_clipped.tif'\n",
    "dem = rasterio.open(area_dem, count = 1)\n",
    "\n",
    "dem = np.array(dem.read(1))\n",
    "print(dem.shape)"
   ]
  },
  {
   "cell_type": "code",
   "execution_count": 123,
   "metadata": {},
   "outputs": [],
   "source": [
    "import rasterio\n",
    "from rasterio.enums import Resampling\n",
    "\n",
    "# whole-numbers indicate upscaling, fractions indicate downscaling\n",
    "upscale_factor = 3\n",
    "\n",
    "\n",
    "with rasterio.open('/home/shrayank_mistry/Modules/Area-routes/PanvelD/dem_clipped.tif') as dataset:\n",
    "\n",
    "    # resample data to target shape\n",
    "    data = dataset.read(\n",
    "        out_shape=(\n",
    "            dataset.count,\n",
    "            int(dataset.height * upscale_factor),\n",
    "            int(dataset.width * upscale_factor)\n",
    "        ),\n",
    "        resampling=Resampling.bilinear\n",
    "    )\n",
    "\n",
    "    # scale image transform\n",
    "    transform = dataset.transform * dataset.transform.scale(\n",
    "        (dataset.width / data.shape[-1]),\n",
    "        (dataset.height / data.shape[-2])\n",
    "    )"
   ]
  },
  {
   "cell_type": "code",
   "execution_count": 124,
   "metadata": {},
   "outputs": [
    {
     "name": "stdout",
     "output_type": "stream",
     "text": [
      "(10980, 20976)\n"
     ]
    },
    {
     "data": {
      "text/plain": [
       "(20550, 11361)"
      ]
     },
     "execution_count": 124,
     "metadata": {},
     "output_type": "execute_result"
    }
   ],
   "source": [
    "area = np.swapaxes(area, 1, 0)\n",
    "print(area.shape)\n",
    "\n",
    "up_dem = data[0]\n",
    "up_dem.shape"
   ]
  },
  {
   "cell_type": "code",
   "execution_count": 125,
   "metadata": {},
   "outputs": [
    {
     "name": "stdout",
     "output_type": "stream",
     "text": [
      "(11361, 20550) (10980, 20976)\n",
      "(10980, 20550) (10980, 20550)\n"
     ]
    }
   ],
   "source": [
    "dem_data, mask_data = up_dem, area\n",
    "dem_data = dem_data.T\n",
    "\n",
    "\n",
    "print(dem_data.shape, mask_data.shape)\n",
    "width, height = 10980, 20550\n",
    "\n",
    "dem_data, mask_data = dem_data[:width,:height], mask_data[:width, :height]\n",
    "print(dem_data.shape, mask_data.shape)"
   ]
  },
  {
   "cell_type": "code",
   "execution_count": 126,
   "metadata": {},
   "outputs": [],
   "source": [
    "ahp_map = {\n",
    "\n",
    "'urban': 0.29,\n",
    "'farms': 0.239,\n",
    "'dense-forest': 0.207,\n",
    "'water': 0.13,\n",
    "'fallow': 0.067,\n",
    "'sparse-forest': 0.049,\n",
    "'barren-land': 0.019,\n",
    "'unclassified':7,\n",
    "\n",
    "}\n",
    "\n",
    "class_map = {\n",
    "\n",
    "    0: 'unclassified',\n",
    "    1: 'water',\n",
    "    2: 'dense-forest',\n",
    "    3: 'sparse-forest',\n",
    "    4: 'barren-land',\n",
    "    5: 'urban',\n",
    "    6: 'farms',\n",
    "    7: 'fallow',\n",
    "    \n",
    "}"
   ]
  },
  {
   "cell_type": "code",
   "execution_count": 127,
   "metadata": {},
   "outputs": [],
   "source": [
    "from copy import deepcopy\n",
    "mask_copy = deepcopy(mask_data)"
   ]
  },
  {
   "cell_type": "code",
   "execution_count": 128,
   "metadata": {},
   "outputs": [
    {
     "data": {
      "text/plain": [
       "(array([0, 1, 2, 3, 4, 5, 6, 7], dtype=int16),\n",
       " array([     6905,  13089183,   7310198,  38895518, 102339438,  10359278,\n",
       "         13921633,  39716847]))"
      ]
     },
     "execution_count": 128,
     "metadata": {},
     "output_type": "execute_result"
    }
   ],
   "source": [
    "np.unique(mask_copy, return_counts = True)"
   ]
  },
  {
   "cell_type": "code",
   "execution_count": 129,
   "metadata": {},
   "outputs": [],
   "source": [
    "def set_weights(c):\n",
    "    c_str = class_map.get(c)\n",
    "    return ahp_map[c_str]"
   ]
  },
  {
   "cell_type": "code",
   "execution_count": 130,
   "metadata": {},
   "outputs": [],
   "source": [
    "# for i in range(mask_data.shape[0]):\n",
    "#     for j in range(mask_data.shape[1]):\n",
    "\n",
    "#         mask_copy[i][j] = set_weights(mask_data[i][j])"
   ]
  },
  {
   "cell_type": "code",
   "execution_count": 131,
   "metadata": {},
   "outputs": [],
   "source": [
    "set_weights_vtr = np.vectorize(set_weights, otypes=[np.float])\n",
    "mask_copy = set_weights_vtr(mask_data)"
   ]
  },
  {
   "cell_type": "code",
   "execution_count": 132,
   "metadata": {},
   "outputs": [
    {
     "data": {
      "text/plain": [
       "(array([0.019, 0.049, 0.067, 0.13 , 0.207, 0.239, 0.29 , 7.   ]),\n",
       " array([102339438,  38895518,  39716847,  13089183,   7310198,  13921633,\n",
       "         10359278,      6905]))"
      ]
     },
     "execution_count": 132,
     "metadata": {},
     "output_type": "execute_result"
    }
   ],
   "source": [
    "np.unique(mask_copy, return_counts = True)"
   ]
  },
  {
   "cell_type": "code",
   "execution_count": 133,
   "metadata": {},
   "outputs": [
    {
     "data": {
      "text/plain": [
       "(array([0, 1, 2, 3, 4, 5, 6, 7], dtype=int16),\n",
       " array([     6905,  13089183,   7310198,  38895518, 102339438,  10359278,\n",
       "         13921633,  39716847]))"
      ]
     },
     "execution_count": 133,
     "metadata": {},
     "output_type": "execute_result"
    }
   ],
   "source": [
    "np.unique(mask_data, return_counts = True)"
   ]
  },
  {
   "cell_type": "code",
   "execution_count": 134,
   "metadata": {},
   "outputs": [],
   "source": [
    "from osgeo import ogr\n",
    "import json\n",
    "\n",
    "file = ogr.Open(\"/home/shrayank_mistry/Modules/Area-routes/PanvelD/source/source.shp\")\n",
    "source_shp = file.GetLayer(0)\n",
    "\n",
    "feature = source_shp.GetFeature(0)\n",
    "source_shp = feature.ExportToJson()\n",
    "\n",
    "# source_shp\n",
    "source_shp = json.loads(source_shp)\n",
    "start_ext = source_shp['geometry']['coordinates']"
   ]
  },
  {
   "cell_type": "code",
   "execution_count": 135,
   "metadata": {},
   "outputs": [],
   "source": [
    "file = ogr.Open(\"/home/shrayank_mistry/Modules/Area-routes/PanvelD/destination/destination.shp\")\n",
    "destination_shp = file.GetLayer(0)\n",
    "\n",
    "feature = destination_shp.GetFeature(0)\n",
    "destination_shp = feature.ExportToJson()\n",
    "\n",
    "destination_shp\n",
    "\n",
    "# source_shp\n",
    "destination_shp = json.loads(destination_shp)\n",
    "end_ext = destination_shp['geometry']['coordinates']"
   ]
  },
  {
   "cell_type": "code",
   "execution_count": 136,
   "metadata": {},
   "outputs": [
    {
     "name": "stdout",
     "output_type": "stream",
     "text": [
      "[306666.8831168013, 2098263.628266526] [304717.23743578803, 1941342.757008533]\n"
     ]
    }
   ],
   "source": [
    "print(start_ext, end_ext)"
   ]
  },
  {
   "cell_type": "code",
   "execution_count": 137,
   "metadata": {},
   "outputs": [],
   "source": [
    "from osgeo import ogr, gdal\n",
    "import os\n",
    "import subprocess\n",
    "import rasterio"
   ]
  },
  {
   "cell_type": "code",
   "execution_count": 138,
   "metadata": {},
   "outputs": [
    {
     "name": "stdout",
     "output_type": "stream",
     "text": [
      "BoundingBox(left=300000.0, bottom=1890240.0, right=409800.0, top=2100000.0)\n",
      "300000.0 1890240.0 409800.0 2100000.0\n"
     ]
    }
   ],
   "source": [
    "path = '/home/shrayank_mistry/Modules/Area-routes/PanvelD/raster.tif' \n",
    "\n",
    "data = rasterio.open(path)\n",
    "print(data.bounds)\n",
    "\n",
    "extent = data.bounds\n",
    "\n",
    "left, bottom, right, top = extent[0], extent[1], extent[2], extent[3]\n",
    "print(left, bottom, right, top)"
   ]
  },
  {
   "cell_type": "code",
   "execution_count": 139,
   "metadata": {},
   "outputs": [
    {
     "name": "stdout",
     "output_type": "stream",
     "text": [
      "Width and Height of Raster\n",
      "109800 209760\n"
     ]
    }
   ],
   "source": [
    "width = round(right - left)\n",
    "height = round(top - bottom)\n",
    "\n",
    "print(\"Width and Height of Raster\")\n",
    "print(width, height)"
   ]
  },
  {
   "cell_type": "code",
   "execution_count": 140,
   "metadata": {},
   "outputs": [],
   "source": [
    "# width = round(right - left)\n",
    "# height = round(top - bottom)\n",
    "\n",
    "# print(width, height)\n",
    "\n",
    "# start_pixel, end_pixel = [0, 0], [0, 0]\n",
    "# start_flag, end_flag = True, True\n",
    "\n",
    "# for i in range(height):\n",
    "#     for j in range(width):\n",
    "\n",
    "#         if (not start_flag) and (not end_flag):\n",
    "#             break\n",
    "        \n",
    "#         # print(round(left + j), round(top - i))\n",
    "#         if (start_flag and ((round(left + j)) == round(start_ext[0])) and ((round(top - i)) == round(start_ext[1]))):\n",
    "#             start_pixel = [i, j]\n",
    "#             start_flag = False\n",
    "\n",
    "        \n",
    "#         if (end_flag and ((round(left + j)) == round(end_ext[0])) and ((round(top - i)) == round(end_ext[1]))):\n",
    "#             end_pixel = [i, j]\n",
    "#             end_flag = False"
   ]
  },
  {
   "cell_type": "code",
   "execution_count": 141,
   "metadata": {},
   "outputs": [],
   "source": [
    "# start_pixel, end_pixel"
   ]
  },
  {
   "cell_type": "code",
   "execution_count": 142,
   "metadata": {},
   "outputs": [],
   "source": [
    "# start_pixel, end_pixel = [15293, 84135], [126987, 41253]\n",
    "# start_pixel, end_pixel = [84135, 15293], [41253, 126987]\n",
    "start_pixel, end_pixel = [1736, 6667], [158657, 4717]"
   ]
  },
  {
   "cell_type": "code",
   "execution_count": 143,
   "metadata": {},
   "outputs": [],
   "source": [
    "start_pixel = np.array(start_pixel)\n",
    "start_pixel = start_pixel / 10\n",
    "\n",
    "start_pixel = list(np.rint(start_pixel))\n",
    "start_pixel = list(np.array(start_pixel, dtype = 'int'))\n",
    "\n",
    "end_pixel = np.array(end_pixel)\n",
    "end_pixel = end_pixel / 10\n",
    "\n",
    "end_pixel = list(np.rint(end_pixel))\n",
    "end_pixel = list(np.array(end_pixel, dtype = 'int'))"
   ]
  },
  {
   "cell_type": "markdown",
   "metadata": {},
   "source": [
    "### Dijkstra's Algorithm for Anistropic Accumulated-Cost Calculation"
   ]
  },
  {
   "cell_type": "code",
   "execution_count": 144,
   "metadata": {},
   "outputs": [],
   "source": [
    "def condition_check(start, end):\n",
    "    if (start[0] == end[0]) and (start[1] == end[1]):\n",
    "        return False\n",
    "    return True"
   ]
  },
  {
   "cell_type": "code",
   "execution_count": 145,
   "metadata": {},
   "outputs": [],
   "source": [
    "import math\n",
    "from queue import PriorityQueue"
   ]
  },
  {
   "cell_type": "code",
   "execution_count": 146,
   "metadata": {},
   "outputs": [],
   "source": [
    "from copy import deepcopy\n",
    "mask_copy_t = deepcopy(mask_copy)"
   ]
  },
  {
   "cell_type": "code",
   "execution_count": 147,
   "metadata": {},
   "outputs": [],
   "source": [
    "mask_copy = mask_copy * 5000"
   ]
  },
  {
   "cell_type": "code",
   "execution_count": 148,
   "metadata": {},
   "outputs": [],
   "source": [
    "# mask_copy = mask_copy.T\n",
    "# print(mask_copy.shape)\n",
    "\n",
    "# dem_data = dem_data.T\n",
    "# print(dem_data.shape)"
   ]
  },
  {
   "cell_type": "code",
   "execution_count": 149,
   "metadata": {},
   "outputs": [
    {
     "data": {
      "text/plain": [
       "(array([   95.,   245.,   335.,   650.,  1035.,  1195.,  1450., 35000.]),\n",
       " array([102339438,  38895518,  39716847,  13089183,   7310198,  13921633,\n",
       "         10359278,      6905]))"
      ]
     },
     "execution_count": 149,
     "metadata": {},
     "output_type": "execute_result"
    }
   ],
   "source": [
    "np.unique(mask_copy, return_counts = True)"
   ]
  },
  {
   "cell_type": "code",
   "execution_count": 150,
   "metadata": {},
   "outputs": [],
   "source": [
    "def c_anist_cost(i, j, x, y, mu = 10, wt = 2):\n",
    "\n",
    "    mu_sqr = mu * mu\n",
    "    h_diff = dem_data[i][j] - dem_data[x][y]\n",
    "    h_sqr = h_diff * h_diff\n",
    "    c_dv = (mask_copy[i][j] + mask_copy[x][y]) / 2\n",
    "    cst = np.sqrt(mu_sqr + h_sqr) * (c_dv + math.atan(h_diff / mu) * wt) + acc_cost[i][j]\n",
    "\n",
    "    # print(cst)\n",
    "    return cst\n"
   ]
  },
  {
   "cell_type": "code",
   "execution_count": 151,
   "metadata": {},
   "outputs": [],
   "source": [
    "def get_neigh_cost(i, j, lt_iw, lt_jh):\n",
    "    arr = []\n",
    "    #(1) col - 1, row - 1\n",
    "    if (j - 1 >= 0) and (i - 1 >= 0):\n",
    "        # arr.append([c_anist_cost(i, j, i - 1, j - 1), [i - 1, j - 1], [i, j]])\n",
    "        # acc_cost[i - 1][j - 1] = min(c_anist_cost(i, j, i - 1, j - 1), acc_cost[i - 1][j - 1])\n",
    "\n",
    "        if (acc_cost[i - 1][j - 1] > c_anist_cost(i, j, i - 1, j - 1)):\n",
    "            parent[i - 1][j - 1] = i, j\n",
    "            acc_cost[i - 1][j - 1] = c_anist_cost(i, j, i - 1, j - 1)\n",
    "        arr.append([acc_cost[i - 1][j - 1], [i - 1, j - 1], [i, j]])\n",
    "    else:\n",
    "        arr.append(math.inf)\n",
    "\n",
    "    #(2) col, row - 1\n",
    "    if (i - 1 >= 0):\n",
    "        # arr.append([c_anist_cost(i, j, i - 1, j), [i - 1, j], [i, j]])\n",
    "        # acc_cost[i - 1][j] = min(c_anist_cost(i, j, i - 1, j), acc_cost[i - 1][j])\n",
    "\n",
    "        if (acc_cost[i - 1][j] > c_anist_cost(i, j, i - 1, j)):\n",
    "            parent[i - 1][j] = i, j\n",
    "            acc_cost[i - 1][j] = c_anist_cost(i, j, i - 1, j)\n",
    "        arr.append([acc_cost[i - 1][j], [i - 1, j], [i, j]])\n",
    "    else:\n",
    "        arr.append(math.inf)\n",
    "\n",
    "    #(3) col + 1, row - 1\n",
    "    if (j + 1 < lt_jh) and (i - 1 >= 0):\n",
    "        # arr.append([c_anist_cost(i, j, i - 1, j + 1), [i - 1, j + 1], [i, j]])\n",
    "        # acc_cost[i - 1][j + 1] = min(c_anist_cost(i, j, i - 1, j + 1), acc_cost[i - 1][j + 1])\n",
    "\n",
    "        if (acc_cost[i - 1][j + 1] > c_anist_cost(i, j, i - 1, j + 1)):\n",
    "            parent[i - 1][j + 1] = i, j\n",
    "            acc_cost[i - 1][j + 1] = c_anist_cost(i, j, i - 1, j + 1)\n",
    "        arr.append([acc_cost[i - 1][j + 1], [i - 1, j + 1], [i, j]])\n",
    "    else:\n",
    "        arr.append(math.inf)\n",
    "\n",
    "    #(4) col - 1, row\n",
    "    if (j - 1 >= 0):\n",
    "        # arr.append([c_anist_cost(i, j, i, j - 1), [i, j - 1], [i, j]])\n",
    "        # acc_cost[i][j - 1] = min(c_anist_cost(i, j, i, j - 1), acc_cost[i][j - 1])\n",
    "\n",
    "        if (acc_cost[i][j - 1] > c_anist_cost(i, j, i, j - 1)):\n",
    "            parent[i][j - 1] = i, j\n",
    "            acc_cost[i][j - 1] = c_anist_cost(i, j, i, j - 1)\n",
    "        arr.append([acc_cost[i][j - 1], [i, j - 1], [i, j]])\n",
    "    else:\n",
    "        arr.append(math.inf)\n",
    "\n",
    "    #(5) col + 1, row\n",
    "    if (j + 1 < lt_jh):\n",
    "        # arr.append([c_anist_cost(i, j, i, j + 1), [i, j + 1], [i, j]])\n",
    "        # acc_cost[i][j + 1] = min(c_anist_cost(i, j, i, j + 1), acc_cost[i][j + 1])\n",
    "\n",
    "        if (acc_cost[i][j + 1] > c_anist_cost(i, j, i, j + 1)):\n",
    "            parent[i][j + 1] = i, j\n",
    "            acc_cost[i][j + 1] = c_anist_cost(i, j, i, j + 1)\n",
    "        arr.append([acc_cost[i][j + 1], [i, j + 1], [i, j]])\n",
    "    else:\n",
    "        arr.append(math.inf)\n",
    "\n",
    "    #(6) col - 1, row + 1\n",
    "    if (j - 1 >= 0) and (i + 1 < lt_ih):\n",
    "        # arr.append([c_anist_cost(i, j, i + 1, j - 1), [i + 1, j - 1], [i, j]])\n",
    "        # acc_cost[i + 1][j - 1] = min(c_anist_cost(i, j, i + 1, j - 1), acc_cost[i + 1][j - 1])\n",
    "\n",
    "        if (acc_cost[i + 1][j - 1] > c_anist_cost(i, j, i + 1, j - 1)):\n",
    "            parent[i + 1][j - 1] = i, j\n",
    "            acc_cost[i + 1][j - 1] = c_anist_cost(i, j, i + 1, j - 1)\n",
    "        arr.append([acc_cost[i + 1][j - 1], [i + 1, j - 1], [i, j]])\n",
    "    else:\n",
    "        arr.append(math.inf)\n",
    "\n",
    "    #(7) col, row + 1\n",
    "    if (i + 1 < lt_ih):\n",
    "        # arr.append([c_anist_cost(i, j, i + 1, j), [i + 1, j], [i, j]])\n",
    "        # acc_cost[i + 1][j] = min(c_anist_cost(i, j, i + 1, j), acc_cost[i + 1][j])\n",
    "\n",
    "        if (acc_cost[i + 1][j] > c_anist_cost(i, j, i + 1, j)):\n",
    "            parent[i + 1][j] = i, j\n",
    "            acc_cost[i + 1][j] = c_anist_cost(i, j, i + 1, j)\n",
    "        arr.append([acc_cost[i + 1][j], [i + 1, j], [i, j]])\n",
    "    else:\n",
    "        arr.append(math.inf)\n",
    "\n",
    "    #(8) col + 1, row + 1\n",
    "    if (j + 1 < lt_jh) and (i + 1 < lt_ih):\n",
    "        # arr.append([c_anist_cost(i, j, i + 1, j + 1), [i + 1, j + 1], [i, j]])\n",
    "        # acc_cost[i + 1][j + 1] = min(c_anist_cost(i, j, i + 1, j + 1), acc_cost[i + 1][j + 1])\n",
    "\n",
    "        if (acc_cost[i + 1][j + 1] > c_anist_cost(i, j, i + 1, j + 1)):\n",
    "            parent[i + 1][j + 1] = i, j\n",
    "            acc_cost[i + 1][j + 1] = c_anist_cost(i, j, i + 1, j + 1)\n",
    "        arr.append([acc_cost[i + 1][j + 1], [i + 1, j + 1], [i, j]])\n",
    "    else:\n",
    "        arr.append(math.inf)\n",
    "    \n",
    "\n",
    "    return arr"
   ]
  },
  {
   "cell_type": "code",
   "execution_count": 152,
   "metadata": {},
   "outputs": [
    {
     "name": "stdout",
     "output_type": "stream",
     "text": [
      "[174, 667] [15866, 472]\n"
     ]
    }
   ],
   "source": [
    "# start_pixel, end_pixel = [1770, 1442], [8344, 5485]\n",
    "start_pixel, end_pixel = [174, 667], [15866, 472]\n",
    "print(start_pixel, end_pixel)"
   ]
  },
  {
   "cell_type": "code",
   "execution_count": 153,
   "metadata": {},
   "outputs": [
    {
     "name": "stdout",
     "output_type": "stream",
     "text": [
      "(10980, 20550)\n"
     ]
    }
   ],
   "source": [
    "dim = mask_copy.shape\n",
    "print(dim)"
   ]
  },
  {
   "cell_type": "code",
   "execution_count": 154,
   "metadata": {},
   "outputs": [
    {
     "name": "stdout",
     "output_type": "stream",
     "text": [
      "(10980, 20550) (10980, 20550)\n"
     ]
    }
   ],
   "source": [
    "print(mask_copy.shape, dem_data.shape)"
   ]
  },
  {
   "cell_type": "code",
   "execution_count": 155,
   "metadata": {},
   "outputs": [
    {
     "name": "stdout",
     "output_type": "stream",
     "text": [
      "(10980, 20550) (10980, 20550)\n"
     ]
    }
   ],
   "source": [
    "visited = np.zeros((dim))\n",
    "acc_cost = np.full((dim), math.inf)\n",
    "\n",
    "print(visited.shape, acc_cost.shape)"
   ]
  },
  {
   "cell_type": "code",
   "execution_count": 156,
   "metadata": {},
   "outputs": [
    {
     "name": "stdout",
     "output_type": "stream",
     "text": [
      "[174, 667] [15866, 472]\n"
     ]
    }
   ],
   "source": [
    "print(start_pixel, end_pixel)"
   ]
  },
  {
   "cell_type": "code",
   "execution_count": 157,
   "metadata": {},
   "outputs": [
    {
     "name": "stdout",
     "output_type": "stream",
     "text": [
      "[667, 174] [550, 209]\n"
     ]
    }
   ],
   "source": [
    "# start_pixel, end_pixel = [174, 667], [15866, 472]\n",
    "# start_pixel, end_pixel = [667, 174], [472, 15866]\n",
    "start_pixel, end_pixel = [667, 174], [550, 209]\n",
    "print(start_pixel, end_pixel)"
   ]
  },
  {
   "cell_type": "code",
   "execution_count": 158,
   "metadata": {},
   "outputs": [
    {
     "name": "stdout",
     "output_type": "stream",
     "text": [
      "109800 209760\n"
     ]
    }
   ],
   "source": [
    "print(width, height)"
   ]
  },
  {
   "cell_type": "code",
   "execution_count": 159,
   "metadata": {},
   "outputs": [
    {
     "name": "stdout",
     "output_type": "stream",
     "text": [
      "10980 20976\n"
     ]
    }
   ],
   "source": [
    "wd, ht = int(width / 10), int(height / 10)\n",
    "print(wd, ht)"
   ]
  },
  {
   "cell_type": "code",
   "execution_count": 160,
   "metadata": {},
   "outputs": [],
   "source": [
    "last_pixel = None"
   ]
  },
  {
   "cell_type": "code",
   "execution_count": 161,
   "metadata": {},
   "outputs": [],
   "source": [
    "Q = PriorityQueue()\n",
    "\n",
    "# Width and Height Limit of area\n",
    "lt_ih, lt_jh = wd, ht\n",
    "s_pixel, e_pixel = start_pixel, end_pixel\n",
    "\n",
    "# mask_copy.shape, dem_data.shape\n",
    "\n",
    "visited = np.zeros((dim))\n",
    "acc_cost = np.full((dim), math.inf)\n",
    "\n",
    "acc_cost[s_pixel[0]][s_pixel[1]] = 0\n",
    "visited[s_pixel[0]][s_pixel[1]] = 1\n",
    "\n",
    "parent = np.full((dim), None)\n",
    "parent[s_pixel[0]][s_pixel[1]] = -1, -1\n",
    "\n",
    "\n",
    "path = list()\n",
    "\n",
    "while (condition_check(s_pixel, e_pixel)):\n",
    "    # print('in')\n",
    "    i, j = s_pixel\n",
    "    # print(i, j)\n",
    "\n",
    "    neighbours_cost = get_neigh_cost(i, j, lt_ih, lt_jh)\n",
    "    for nc in neighbours_cost:\n",
    "        if nc == math.inf:\n",
    "            continue\n",
    "        else:\n",
    "            Q.put(nc)\n",
    "    \n",
    "    # check if current-best is visited OR not\n",
    "    bst = Q.get()\n",
    "    m, n = bst[1][0], bst[1][1]\n",
    "\n",
    "    while True:\n",
    "        if visited[m][n] == 0:\n",
    "            break\n",
    "        bst = Q.get()\n",
    "        m, n = bst[1][0], bst[1][1]\n",
    "\n",
    "    # set-visited\n",
    "    visited[m][n] = 1\n",
    "    path.append([m, n])\n",
    "    # print(m, n)\n",
    "\n",
    "    parent[m][n] = bst[2][0], bst[2][1]\n",
    "\n",
    "    s_pixel = [m, n]\n",
    "    last_pixel = s_pixel"
   ]
  },
  {
   "cell_type": "code",
   "execution_count": 162,
   "metadata": {},
   "outputs": [],
   "source": [
    "# end_pixel = last_pixel"
   ]
  },
  {
   "cell_type": "code",
   "execution_count": 108,
   "metadata": {},
   "outputs": [
    {
     "name": "stdout",
     "output_type": "stream",
     "text": [
      "155248.26352495863\n"
     ]
    }
   ],
   "source": [
    "print(acc_cost[end_pixel[0]][end_pixel[1]])"
   ]
  },
  {
   "cell_type": "code",
   "execution_count": 109,
   "metadata": {},
   "outputs": [],
   "source": [
    "!rm -rf path.txt"
   ]
  },
  {
   "cell_type": "code",
   "execution_count": 110,
   "metadata": {},
   "outputs": [],
   "source": [
    "path = []\n",
    "pr = parent[end_pixel[0]][end_pixel[1]]\n",
    "\n",
    "# cnt = 15000\n",
    "while (pr[0] != -1) and (pr[1] != -1):\n",
    "    path.append(pr)\n",
    "    # path.append('-')\n",
    "    with open('/home/shrayank_mistry/Modules/Area-routes/PanvelD/routes-shape/dijk-route/path.txt', 'a') as f:\n",
    "        f.write(str(pr) + '\\n')\n",
    "\n",
    "    # cnt = cnt - 1\n",
    "    # if cnt == 0:\n",
    "    #     break\n",
    "\n",
    "    pr = parent[pr[0]][pr[1]]"
   ]
  },
  {
   "cell_type": "code",
   "execution_count": 111,
   "metadata": {},
   "outputs": [],
   "source": [
    "path_list = []\n",
    "with open('/home/shrayank_mistry/Modules/Area-routes/PanvelD/routes-shape/dijk-route/path.txt', 'r') as f:\n",
    "    for point in f:\n",
    "        path_list.append(point)"
   ]
  },
  {
   "cell_type": "code",
   "execution_count": 112,
   "metadata": {},
   "outputs": [
    {
     "data": {
      "text/plain": [
       "208"
      ]
     },
     "execution_count": 112,
     "metadata": {},
     "output_type": "execute_result"
    }
   ],
   "source": [
    "len(path_list)"
   ]
  },
  {
   "cell_type": "code",
   "execution_count": 113,
   "metadata": {},
   "outputs": [
    {
     "name": "stdout",
     "output_type": "stream",
     "text": [
      "551 208\n"
     ]
    }
   ],
   "source": [
    "point = path_list[0].replace('\\n', '').split(' ')\n",
    "pi, pj = int(point[0].split(',')[0].split('(')[1]), int(point[1].split(',')[0].split(')')[0])\n",
    "print(pi, pj)"
   ]
  },
  {
   "cell_type": "code",
   "execution_count": 114,
   "metadata": {},
   "outputs": [],
   "source": [
    "path_list.reverse()"
   ]
  },
  {
   "cell_type": "code",
   "execution_count": 115,
   "metadata": {},
   "outputs": [
    {
     "name": "stdout",
     "output_type": "stream",
     "text": [
      "CPU times: user 439 µs, sys: 0 ns, total: 439 µs\n",
      "Wall time: 442 µs\n"
     ]
    }
   ],
   "source": [
    "%%time\n",
    "ordinates_dict = {}\n",
    "\n",
    "\n",
    "for i in range(len(path_list)):\n",
    "    point = path_list[i].replace('\\n', '').split(' ')\n",
    "    pi, pj = int(point[0].split(',')[0].split('(')[1]), int(point[1].split(',')[0].split(')')[0])\n",
    "\n",
    "    ext_i, ext_j = left + (pi * 10), top - (pj * 10)\n",
    "\n",
    "    # ordinates_dict[(pi, pj)] = extent_matrix[pi][pj]\n",
    "    ordinates_dict[pi, pj] = [ext_i, ext_j]"
   ]
  },
  {
   "cell_type": "code",
   "execution_count": 116,
   "metadata": {},
   "outputs": [],
   "source": [
    "ordinates_dict\n",
    "ordinates_list = []\n",
    "for key, value in ordinates_dict.items():\n",
    "    ordinates_list.append(value)"
   ]
  },
  {
   "cell_type": "code",
   "execution_count": 117,
   "metadata": {},
   "outputs": [],
   "source": [
    "import shapefile\n",
    "w = shapefile.Writer('/home/shrayank_mistry/Modules/Area-routes/PanvelD/routes-shape/dijk-route/shapefiles/test/multipoint')\n",
    "w.field('name', 'C')\n",
    "\n",
    "w.multipoint(ordinates_list) \n",
    "w.record('multipoint1')\n",
    "\n",
    "w.close()"
   ]
  },
  {
   "cell_type": "code",
   "execution_count": 118,
   "metadata": {},
   "outputs": [],
   "source": [
    "road_lenght = 0\n",
    "index = 1\n",
    "for _ in ordinates_list[1:]:\n",
    "    i, j = ordinates_list[index][0], ordinates_list[index][1]\n",
    "    x, y = ordinates_list[index - 1][0], ordinates_list[index - 1][1]\n",
    "\n",
    "    if (x - i == 10.0) and (y - j == -10.0):\n",
    "        road_lenght += math.sqrt(2 * 100)\n",
    "    else:\n",
    "        road_lenght += 10 "
   ]
  },
  {
   "cell_type": "code",
   "execution_count": 119,
   "metadata": {},
   "outputs": [
    {
     "name": "stdout",
     "output_type": "stream",
     "text": [
      "Current Road-length = 2.07 kms\n"
     ]
    }
   ],
   "source": [
    "print(f'Current Road-length = {road_lenght / 1000} kms')"
   ]
  },
  {
   "cell_type": "code",
   "execution_count": null,
   "metadata": {},
   "outputs": [],
   "source": []
  }
 ],
 "metadata": {
  "interpreter": {
   "hash": "72116f4556a314d3963dd18b1856661810f11245b96e3a7075f7a5fca07ef2b1"
  },
  "kernelspec": {
   "display_name": "Python 3.6.9 64-bit ('virtualenv': venv)",
   "language": "python",
   "name": "python3"
  },
  "language_info": {
   "codemirror_mode": {
    "name": "ipython",
    "version": 3
   },
   "file_extension": ".py",
   "mimetype": "text/x-python",
   "name": "python",
   "nbconvert_exporter": "python",
   "pygments_lexer": "ipython3",
   "version": "3.6.9"
  },
  "orig_nbformat": 4
 },
 "nbformat": 4,
 "nbformat_minor": 2
}
