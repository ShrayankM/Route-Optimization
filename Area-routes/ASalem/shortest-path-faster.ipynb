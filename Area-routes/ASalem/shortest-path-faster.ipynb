{
 "cells": [
  {
   "cell_type": "code",
   "execution_count": 1,
   "metadata": {},
   "outputs": [],
   "source": [
    "import numpy as np\n",
    "from osgeo import ogr, gdal, osr\n",
    "import rasterio\n",
    "import json\n",
    "\n",
    "\n",
    "import matplotlib.pyplot as plt\n",
    "import pandas as pd\n",
    "import os.path\n",
    "import re\n",
    "import math"
   ]
  },
  {
   "cell_type": "markdown",
   "metadata": {},
   "source": [
    "#### Resize DEM from 30 to 10m"
   ]
  },
  {
   "cell_type": "code",
   "execution_count": 2,
   "metadata": {},
   "outputs": [
    {
     "name": "stdout",
     "output_type": "stream",
     "text": [
      "(2721, 3610)\n"
     ]
    }
   ],
   "source": [
    "# Reading Normal DEM data\n",
    "area_dem = '/home/shrayank_mistry/Modules/project-mum-pune/dem_clipped.tif'\n",
    "dem = rasterio.open(area_dem, count = 1)\n",
    "\n",
    "dem = np.array(dem.read(1))\n",
    "print(dem.shape)"
   ]
  },
  {
   "cell_type": "code",
   "execution_count": 3,
   "metadata": {},
   "outputs": [],
   "source": [
    "# Up-sampling DEM to 10m resolution\n",
    "import rasterio\n",
    "from rasterio.enums import Resampling\n",
    "\n",
    "# whole-numbers indicate upscaling, fractions indicate downscaling\n",
    "upscale_factor = 3\n",
    "\n",
    "\n",
    "with rasterio.open('/home/shrayank_mistry/Modules/project-mum-pune/dem_clipped.tif') as dataset:\n",
    "\n",
    "    # resample data to target shape\n",
    "    data = dataset.read(\n",
    "        out_shape=(\n",
    "            dataset.count,\n",
    "            int(dataset.height * upscale_factor),\n",
    "            int(dataset.width * upscale_factor)\n",
    "        ),\n",
    "        resampling=Resampling.bilinear\n",
    "    )\n",
    "\n",
    "    # scale image transform\n",
    "    transform = dataset.transform * dataset.transform.scale(\n",
    "        (dataset.width / data.shape[-1]),\n",
    "        (dataset.height / data.shape[-2])\n",
    "    )"
   ]
  },
  {
   "cell_type": "code",
   "execution_count": 4,
   "metadata": {},
   "outputs": [
    {
     "name": "stdout",
     "output_type": "stream",
     "text": [
      "(8163, 10830)\n"
     ]
    }
   ],
   "source": [
    "dem = data[0]\n",
    "print(dem.shape)"
   ]
  },
  {
   "cell_type": "code",
   "execution_count": 5,
   "metadata": {},
   "outputs": [],
   "source": [
    "# reading LULC data\n",
    "area_cover = '/home/shrayank_mistry/Modules/project-mum-pune/mask.tif'\n",
    "area = rasterio.open(area_cover, count = 1)\n",
    "\n",
    "area = np.array(area.read(1))"
   ]
  },
  {
   "cell_type": "code",
   "execution_count": 6,
   "metadata": {},
   "outputs": [
    {
     "name": "stdout",
     "output_type": "stream",
     "text": [
      "(8163, 10830) (8273, 10500)\n",
      "(8163, 10500) (8163, 10500)\n",
      "(10500, 8163) (10500, 8163)\n"
     ]
    }
   ],
   "source": [
    "dem_data, mask_data = dem, area\n",
    "\n",
    "print(dem_data.shape, mask_data.shape)\n",
    "width, height = 10500, 8163\n",
    "\n",
    "dem_data, mask_data = dem_data[:height,:width], mask_data[:height, :width]\n",
    "print(dem_data.shape, mask_data.shape)\n",
    "\n",
    "dem_data, mask_data = dem_data.T, mask_data.T\n",
    "print(dem_data.shape, mask_data.shape)"
   ]
  },
  {
   "cell_type": "markdown",
   "metadata": {},
   "source": [
    "#### AHP Mapping"
   ]
  },
  {
   "cell_type": "code",
   "execution_count": 7,
   "metadata": {},
   "outputs": [],
   "source": [
    "ahp_map = {\n",
    "\n",
    "'urban': 0.29,\n",
    "'farms': 0.239,\n",
    "'dense-forest': 0.207,\n",
    "'water': 0.13,\n",
    "'fallow': 0.067,\n",
    "'sparse-forest': 0.049,\n",
    "'barren-land': 0.019,\n",
    "'unclassified':7,\n",
    "\n",
    "}\n",
    "\n",
    "class_map = {\n",
    "\n",
    "    0: 'unclassified',\n",
    "    1: 'water',\n",
    "    2: 'dense-forest',\n",
    "    3: 'sparse-forest',\n",
    "    4: 'barren-land',\n",
    "    5: 'urban',\n",
    "    6: 'farms',\n",
    "    7: 'fallow',\n",
    "\n",
    "}"
   ]
  },
  {
   "cell_type": "code",
   "execution_count": 8,
   "metadata": {},
   "outputs": [],
   "source": [
    "# Helper function to map from LULC to class-map to ahp values\n",
    "def set_weights(c):\n",
    "    c_str = class_map.get(c)\n",
    "    return ahp_map[c_str]"
   ]
  },
  {
   "cell_type": "code",
   "execution_count": 9,
   "metadata": {},
   "outputs": [],
   "source": [
    "set_weights_vtr = np.vectorize(set_weights)\n",
    "mask_data = set_weights_vtr(mask_data)"
   ]
  },
  {
   "cell_type": "code",
   "execution_count": 10,
   "metadata": {},
   "outputs": [
    {
     "data": {
      "text/plain": [
       "(array([0.019, 0.049, 0.067, 0.13 , 0.207, 0.239, 0.29 , 7.   ]),\n",
       " array([19822048, 17097029, 28893954,  7807154,  3858436,  5940554,\n",
       "         2291737,      588]))"
      ]
     },
     "execution_count": 10,
     "metadata": {},
     "output_type": "execute_result"
    }
   ],
   "source": [
    "np.unique(mask_data, return_counts = True)"
   ]
  },
  {
   "cell_type": "markdown",
   "metadata": {},
   "source": [
    "#### Start-End Co-ordinates"
   ]
  },
  {
   "cell_type": "code",
   "execution_count": 11,
   "metadata": {},
   "outputs": [],
   "source": [
    "# ----------------------------- source_shp -------------------------------- #\n",
    "\n",
    "file = ogr.Open(\"/home/shrayank_mistry/Modules/project-mum-pune/route-files/source-point.shp\")\n",
    "source_shp = file.GetLayer(0)\n",
    "\n",
    "feature = source_shp.GetFeature(0)\n",
    "source_shp = feature.ExportToJson()\n",
    "\n",
    "source_shp = json.loads(source_shp)\n",
    "start_ext = source_shp['geometry']['coordinates']\n",
    "\n",
    "# ----------------------------- destination_shp -------------------------------- #\n",
    "\n",
    "file = ogr.Open(\"/home/shrayank_mistry/Modules/project-mum-pune/route-files/destination-point.shp\")\n",
    "destination_shp = file.GetLayer(0)\n",
    "\n",
    "feature = destination_shp.GetFeature(0)\n",
    "destination_shp = feature.ExportToJson()\n",
    "\n",
    "destination_shp = json.loads(destination_shp)\n",
    "end_ext = destination_shp['geometry']['coordinates']"
   ]
  },
  {
   "cell_type": "code",
   "execution_count": 12,
   "metadata": {},
   "outputs": [
    {
     "name": "stdout",
     "output_type": "stream",
     "text": [
      "[300378.7763074944, 2104126.3099621385] [366123.3883685307, 2063699.8154670105]\n"
     ]
    }
   ],
   "source": [
    "print(start_ext, end_ext) "
   ]
  },
  {
   "cell_type": "markdown",
   "metadata": {},
   "source": [
    "#### Raster Co-ordinates (Left, Bottom, Right, Top)"
   ]
  },
  {
   "cell_type": "code",
   "execution_count": 13,
   "metadata": {},
   "outputs": [
    {
     "name": "stdout",
     "output_type": "stream",
     "text": [
      "BoundingBox(left=282680.0, bottom=2035820.0, right=387680.0, top=2118550.0)\n",
      "282680.0 2035820.0 387680.0 2118550.0\n"
     ]
    }
   ],
   "source": [
    "path = '/home/shrayank_mistry/Modules/project-mum-pune/raster.tif' \n",
    "\n",
    "data = rasterio.open(path)\n",
    "print(data.bounds)\n",
    "\n",
    "extent = data.bounds\n",
    "\n",
    "left, bottom, right, top = extent[0], extent[1], extent[2], extent[3]\n",
    "print(left, bottom, right, top)"
   ]
  },
  {
   "cell_type": "code",
   "execution_count": 14,
   "metadata": {},
   "outputs": [
    {
     "name": "stdout",
     "output_type": "stream",
     "text": [
      "Height and Width of Raster\n",
      "82730 105000\n"
     ]
    }
   ],
   "source": [
    "width = round(right - left)\n",
    "height = round(top - bottom)\n",
    "\n",
    "print(\"Height and Width of Raster\")\n",
    "print(height, width)"
   ]
  },
  {
   "cell_type": "markdown",
   "metadata": {},
   "source": [
    "### Finding pixels of start-point and end-point from extents"
   ]
  },
  {
   "cell_type": "code",
   "execution_count": 15,
   "metadata": {},
   "outputs": [],
   "source": [
    "# [Do not run - already avaliable]\n",
    "# start_pixel, end_pixel = [14424, 17699], [54850, 83443]\n",
    "# start_pixel, end_pixel = [0, 0], [0, 0]\n",
    "# start_flag, end_flag = True, True\n",
    "\n",
    "# for i in range(height):\n",
    "#     for j in range(width):\n",
    "\n",
    "#         if (not start_flag) and (not end_flag):\n",
    "#             break\n",
    "        \n",
    "#         # print(round(left + j), round(top - i))\n",
    "#         if (start_flag and ((round(left + j)) == round(start_ext[0])) and ((round(top - i)) == round(start_ext[1]))):\n",
    "#             start_pixel = [i, j]\n",
    "#             start_flag = False\n",
    "\n",
    "        \n",
    "#         if (end_flag and ((round(left + j)) == round(end_ext[0])) and ((round(top - i)) == round(end_ext[1]))):\n",
    "#             end_pixel = [i, j]\n",
    "#             end_flag = False"
   ]
  },
  {
   "cell_type": "code",
   "execution_count": 16,
   "metadata": {},
   "outputs": [],
   "source": [
    "start_pixel, end_pixel = [14424, 17699], [54850, 83443]"
   ]
  },
  {
   "cell_type": "code",
   "execution_count": 17,
   "metadata": {},
   "outputs": [],
   "source": [
    "start_pixel = np.array(start_pixel)\n",
    "start_pixel = start_pixel / 10\n",
    "\n",
    "start_pixel = list(np.rint(start_pixel))\n",
    "start_pixel = list(np.array(start_pixel, dtype = 'int'))\n",
    "\n",
    "end_pixel = np.array(end_pixel)\n",
    "end_pixel = end_pixel / 10\n",
    "\n",
    "end_pixel = list(np.rint(end_pixel))\n",
    "end_pixel = list(np.array(end_pixel, dtype = 'int'))"
   ]
  },
  {
   "cell_type": "code",
   "execution_count": 18,
   "metadata": {},
   "outputs": [
    {
     "name": "stdout",
     "output_type": "stream",
     "text": [
      "[1442, 1770] [5485, 8344]\n",
      "[1770, 1442] [8344, 5485]\n"
     ]
    }
   ],
   "source": [
    "print(start_pixel, end_pixel)\n",
    "start_pixel, end_pixel = [1770, 1442], [8344, 5485]\n",
    "print(start_pixel, end_pixel)"
   ]
  },
  {
   "cell_type": "markdown",
   "metadata": {},
   "source": [
    "#### Shortest Path Faster Algorithm (SPF)"
   ]
  },
  {
   "cell_type": "code",
   "execution_count": 19,
   "metadata": {},
   "outputs": [],
   "source": [
    "mask_data = mask_data * 2000"
   ]
  },
  {
   "cell_type": "code",
   "execution_count": 20,
   "metadata": {},
   "outputs": [
    {
     "data": {
      "text/plain": [
       "(array([   38.,    98.,   134.,   260.,   414.,   478.,   580., 14000.]),\n",
       " array([19822048, 17097029, 28893954,  7807154,  3858436,  5940554,\n",
       "         2291737,      588]))"
      ]
     },
     "execution_count": 20,
     "metadata": {},
     "output_type": "execute_result"
    }
   ],
   "source": [
    "np.unique(mask_data, return_counts = True)"
   ]
  },
  {
   "cell_type": "code",
   "execution_count": 21,
   "metadata": {},
   "outputs": [],
   "source": [
    "def c_anist_cost(i, j, x, y, mu = 10, wt = 2):\n",
    "\n",
    "    mu_sqr = mu * mu\n",
    "    h_diff = dem_data[i][j] - dem_data[x][y]\n",
    "    h_sqr = h_diff * h_diff\n",
    "    c_dv = (mask_data[i][j] + mask_data[x][y]) / 2\n",
    "    cst = np.sqrt(mu_sqr + h_sqr) * (c_dv + math.atan(h_diff / mu) * wt) + distance_matrix[i][j]\n",
    "\n",
    "    return cst"
   ]
  },
  {
   "cell_type": "code",
   "execution_count": 56,
   "metadata": {},
   "outputs": [],
   "source": [
    "def get_neigh_cost(i, j):\n",
    "    arr = []\n",
    "\n",
    "    #(1) col - 1, row - 1\n",
    "    if (j - 1 >= 0) and (i - 1 >= 0):\n",
    "        if (distance_matrix[i - 1][j - 1] > distance_matrix[i][j] + c_anist_cost(i, j, i - 1, j - 1)):\n",
    "            distance_matrix[i - 1][j - 1] = distance_matrix[i][j] + c_anist_cost(i, j, i - 1, j - 1) \n",
    "            parent[i - 1][j - 1] = i, j\n",
    "        arr.append([distance_matrix[i - 1][j - 1], [i - 1, j - 1], [i, j]])\n",
    "    # else:\n",
    "    #     arr.append(math.inf)\n",
    "            \n",
    "    \n",
    "    #(2) col, row - 1\n",
    "    if (i - 1 >= 0):\n",
    "        if (distance_matrix[i - 1][j] > distance_matrix[i][j] + c_anist_cost(i, j, i - 1, j)):\n",
    "            distance_matrix[i - 1][j] = distance_matrix[i][j] + c_anist_cost(i, j, i - 1, j)\n",
    "            parent[i - 1][j] = i, j\n",
    "        arr.append([distance_matrix[i - 1][j], [i - 1, j], [i, j]])\n",
    "    # else:\n",
    "    #     arr.append(math.inf)\n",
    "    \n",
    "    #(3) col + 1, row - 1\n",
    "    if (j + 1 < 8163) and (i - 1 >= 0):\n",
    "        if (distance_matrix[i - 1][j + 1] > distance_matrix[i][j] + c_anist_cost(i, j, i - 1, j + 1)):\n",
    "            distance_matrix[i - 1][j + 1] = distance_matrix[i][j] + c_anist_cost(i, j, i - 1, j + 1)\n",
    "            parent[i - 1][j + 1] = i, j\n",
    "        arr.append([distance_matrix[i - 1][j + 1], [i - 1, j + 1], [i, j]])\n",
    "    # else:\n",
    "    #     arr.append(math.inf)\n",
    "    \n",
    "    #(4) col - 1, row\n",
    "    if (j - 1 >= 0):\n",
    "        if (distance_matrix[i][j - 1] > distance_matrix[i][j] + c_anist_cost(i, j, i, j - 1)):\n",
    "            distance_matrix[i][j - 1] = distance_matrix[i][j] + c_anist_cost(i, j, i, j - 1)\n",
    "            parent[i][j - 1] = i, j\n",
    "        arr.append([distance_matrix[i][j - 1], [i, j - 1], [i, j]])\n",
    "    # else:\n",
    "    #     arr.append(math.inf)\n",
    "    \n",
    "    #(5) col + 1, row\n",
    "    if (j + 1 < 8163):\n",
    "        if (distance_matrix[i][j + 1] > distance_matrix[i][j] + c_anist_cost(i, j, i, j + 1)):\n",
    "            distance_matrix[i][j + 1] = distance_matrix[i][j] + c_anist_cost(i, j, i, j + 1)\n",
    "            parent[i][j + 1] = i, j\n",
    "        arr.append([distance_matrix[i][j + 1], [i, j + 1], [i, j]])\n",
    "    # else:\n",
    "    #     arr.append(math.inf)\n",
    "    \n",
    "    #(6) col - 1, row + 1\n",
    "    if (j - 1 >= 0) and (i + 1 < 10500):\n",
    "        if (distance_matrix[i + 1][j - 1] > distance_matrix[i][j] + c_anist_cost(i, j, i + 1, j - 1)):\n",
    "            distance_matrix[i + 1][j - 1] = distance_matrix[i][j] + c_anist_cost(i, j, i + 1, j - 1)\n",
    "            parent[i + 1][j - 1] = i, j\n",
    "        arr.append([distance_matrix[i + 1][j - 1], [i + 1, j - 1], [i, j]])\n",
    "    # else:\n",
    "    #     arr.append(math.inf)\n",
    "    \n",
    "    #(7) col, row + 1\n",
    "    if (i + 1 < 10500):\n",
    "        if (distance_matrix[i + 1][j] > distance_matrix[i][j] + c_anist_cost(i, j, i + 1, j)):\n",
    "            distance_matrix[i + 1][j] = distance_matrix[i][j] + c_anist_cost(i, j, i + 1, j)\n",
    "            parent[i + 1][j] = i, j\n",
    "        arr.append([distance_matrix[i + 1][j], [i + 1, j], [i, j]])\n",
    "    # else:\n",
    "    #     arr.append(math.inf)\n",
    "    \n",
    "    #(8) col + 1, row + 1\n",
    "    if (j + 1 < 8163) and (i + 1 < 10500):\n",
    "        if (distance_matrix[i + 1][j + 1] > distance_matrix[i][j] + c_anist_cost(i, j, i + 1, j + 1)):\n",
    "            distance_matrix[i + 1][j + 1] = distance_matrix[i][j] + c_anist_cost(i, j, i + 1, j + 1)\n",
    "            parent[i + 1][j + 1] = i, j\n",
    "        arr.append([distance_matrix[i + 1][j + 1], [i + 1, j + 1], [i, j]])\n",
    "    # else:\n",
    "    #     arr.append(math.inf)\n",
    "\n",
    "    return arr"
   ]
  },
  {
   "cell_type": "code",
   "execution_count": 57,
   "metadata": {},
   "outputs": [
    {
     "name": "stdout",
     "output_type": "stream",
     "text": [
      "(10500, 8163)\n"
     ]
    }
   ],
   "source": [
    "dim = mask_data.shape\n",
    "print(dim)"
   ]
  },
  {
   "cell_type": "code",
   "execution_count": 124,
   "metadata": {},
   "outputs": [
    {
     "name": "stdout",
     "output_type": "stream",
     "text": [
      "[1770, 1442] [1900, 1700]\n"
     ]
    }
   ],
   "source": [
    "start_pixel, end_pixel = [1770, 1442], [8344, 5485]\n",
    "# start_pixel, end_pixel = [1770, 1442], [1900, 1700]\n",
    "print(start_pixel, end_pixel)"
   ]
  },
  {
   "cell_type": "code",
   "execution_count": 125,
   "metadata": {},
   "outputs": [
    {
     "name": "stdout",
     "output_type": "stream",
     "text": [
      "(10500, 8163) (10500, 8163)\n"
     ]
    }
   ],
   "source": [
    "print(dem_data.shape, mask_data.shape)"
   ]
  },
  {
   "cell_type": "markdown",
   "metadata": {},
   "source": [
    "#### SPF Algorithm"
   ]
  },
  {
   "cell_type": "code",
   "execution_count": 126,
   "metadata": {},
   "outputs": [],
   "source": [
    "from queue import Queue\n",
    "\n",
    "distance_matrix = np.full((dim), math.inf)\n",
    "inQueue = np.zeros((dim))\n",
    "parent = np.full((dim), None)\n",
    "\n",
    "i, j = start_pixel\n",
    "parent[i][j] = [-1, -1]\n",
    "\n",
    "i, j = start_pixel\n",
    "distance_matrix[i][j] = 0\n",
    "inQueue[i][j] = 1\n",
    "\n",
    "Q = Queue()\n",
    "Q.put(start_pixel)\n",
    "\n",
    "# cnt = 10000 * 100\n",
    "stop_flag = False\n",
    "last = None\n",
    "\n",
    "while not Q.empty():\n",
    "    # if cnt == 0:\n",
    "    #     break\n",
    "    # cnt = cnt - 1\n",
    "\n",
    "    if stop_flag:\n",
    "        break \n",
    "\n",
    "    i, j = Q.get()\n",
    "    last = [i, j]\n",
    "    inQueue[i][j] = 0\n",
    "\n",
    "    ngbors = get_neigh_cost(i, j)\n",
    "    for n in ngbors:\n",
    "        a, b = n[1]\n",
    "\n",
    "        if a == end_pixel[0] and b == end_pixel[1]:\n",
    "            stop_flag = True\n",
    "\n",
    "        if inQueue[a][b]:\n",
    "            continue\n",
    "        inQueue[a][b] = 1\n",
    "        Q.put(n[1])"
   ]
  },
  {
   "cell_type": "code",
   "execution_count": 127,
   "metadata": {},
   "outputs": [
    {
     "name": "stdout",
     "output_type": "stream",
     "text": [
      "2.4018682419038963e+81\n"
     ]
    }
   ],
   "source": [
    "print(distance_matrix[end_pixel[0]][end_pixel[1]])"
   ]
  },
  {
   "cell_type": "code",
   "execution_count": 128,
   "metadata": {},
   "outputs": [],
   "source": [
    "!rm -rf path.txt"
   ]
  },
  {
   "cell_type": "code",
   "execution_count": 129,
   "metadata": {},
   "outputs": [],
   "source": [
    "path = []\n",
    "pr = parent[end_pixel[0]][end_pixel[1]]\n",
    "\n",
    "# cnt = 15000\n",
    "while (pr[0] != -1) and (pr[1] != -1):\n",
    "    path.append(pr)\n",
    "    # path.append('-')\n",
    "    with open('path.txt', 'a') as f:\n",
    "        f.write(str(pr) + '\\n')\n",
    "\n",
    "    # cnt = cnt - 1\n",
    "    # if cnt == 0:\n",
    "    #     break\n",
    "\n",
    "    pr = parent[pr[0]][pr[1]]"
   ]
  },
  {
   "cell_type": "code",
   "execution_count": 130,
   "metadata": {},
   "outputs": [],
   "source": [
    "path_list = []\n",
    "with open('path.txt', 'r') as f:\n",
    "    for point in f:\n",
    "        path_list.append(point)"
   ]
  },
  {
   "cell_type": "code",
   "execution_count": 131,
   "metadata": {},
   "outputs": [
    {
     "data": {
      "text/plain": [
       "258"
      ]
     },
     "execution_count": 131,
     "metadata": {},
     "output_type": "execute_result"
    }
   ],
   "source": [
    "len(path_list)"
   ]
  },
  {
   "cell_type": "code",
   "execution_count": 132,
   "metadata": {},
   "outputs": [
    {
     "name": "stdout",
     "output_type": "stream",
     "text": [
      "1899 1699\n"
     ]
    }
   ],
   "source": [
    "point = path_list[0].replace('\\n', '').split(' ')\n",
    "pi, pj = int(point[0].split(',')[0].split('(')[1]), int(point[1].split(',')[0].split(')')[0])\n",
    "print(pi, pj)"
   ]
  },
  {
   "cell_type": "code",
   "execution_count": 133,
   "metadata": {},
   "outputs": [
    {
     "data": {
      "text/plain": [
       "258"
      ]
     },
     "execution_count": 133,
     "metadata": {},
     "output_type": "execute_result"
    }
   ],
   "source": [
    "len(path_list)"
   ]
  },
  {
   "cell_type": "code",
   "execution_count": 134,
   "metadata": {},
   "outputs": [],
   "source": [
    "path_list.reverse()"
   ]
  },
  {
   "cell_type": "code",
   "execution_count": 135,
   "metadata": {},
   "outputs": [],
   "source": [
    "ordinates_dict = {}\n",
    "\n",
    "\n",
    "for i in range(len(path_list)):\n",
    "    point = path_list[i].replace('\\n', '').split(' ')\n",
    "    # print(point)\n",
    "    pi, pj = int(point[0].split(',')[0].split('(')[1]), int(point[1].split(',')[0].split(')')[0])\n",
    "\n",
    "    ext_i, ext_j = left + (pi * 10), top - (pj * 10)\n",
    "\n",
    "    # ordinates_dict[(pi, pj)] = extent_matrix[pi][pj]\n",
    "    ordinates_dict[pi, pj] = [ext_i, ext_j]"
   ]
  },
  {
   "cell_type": "code",
   "execution_count": 136,
   "metadata": {},
   "outputs": [],
   "source": [
    "ordinates_dict\n",
    "ordinates_list = []\n",
    "for key, value in ordinates_dict.items():\n",
    "    ordinates_list.append(value)"
   ]
  },
  {
   "cell_type": "code",
   "execution_count": 137,
   "metadata": {},
   "outputs": [],
   "source": [
    "import shapefile\n",
    "w = shapefile.Writer(f'/home/shrayank_mistry/Modules/project-mum-pune/routes-shape/shortest-path-faster/shapefiles/test/multipoint')\n",
    "w.field('name', 'C')\n",
    "\n",
    "w.multipoint(ordinates_list) \n",
    "w.record('multipoint1')\n",
    "\n",
    "w.close()"
   ]
  },
  {
   "cell_type": "code",
   "execution_count": 138,
   "metadata": {},
   "outputs": [],
   "source": [
    "road_lenght = 0\n",
    "index = 1\n",
    "for _ in ordinates_list[1:]:\n",
    "    i, j = ordinates_list[index][0], ordinates_list[index][1]\n",
    "    x, y = ordinates_list[index - 1][0], ordinates_list[index - 1][1]\n",
    "\n",
    "    if (x - i == 10.0) and (y - j == -10.0):\n",
    "        road_lenght += math.sqrt(2 * 100)\n",
    "    else:\n",
    "        road_lenght += 10 "
   ]
  },
  {
   "cell_type": "code",
   "execution_count": 139,
   "metadata": {},
   "outputs": [
    {
     "name": "stdout",
     "output_type": "stream",
     "text": [
      "Current Road-length = 2.57 kms\n"
     ]
    }
   ],
   "source": [
    "print(f'Current Road-length = {road_lenght / 1000} kms')"
   ]
  },
  {
   "cell_type": "code",
   "execution_count": null,
   "metadata": {},
   "outputs": [],
   "source": []
  }
 ],
 "metadata": {
  "interpreter": {
   "hash": "41753c86ab29c83d5a6940432db1264110c228305d3d5eb7da716c156c110c5d"
  },
  "kernelspec": {
   "display_name": "Python 3.6.9 ('virtualenv': venv)",
   "language": "python",
   "name": "python3"
  },
  "language_info": {
   "codemirror_mode": {
    "name": "ipython",
    "version": 3
   },
   "file_extension": ".py",
   "mimetype": "text/x-python",
   "name": "python",
   "nbconvert_exporter": "python",
   "pygments_lexer": "ipython3",
   "version": "3.6.9"
  },
  "orig_nbformat": 4
 },
 "nbformat": 4,
 "nbformat_minor": 2
}
